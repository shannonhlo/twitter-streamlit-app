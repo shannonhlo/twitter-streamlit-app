{
 "metadata": {
  "language_info": {
   "codemirror_mode": {
    "name": "ipython",
    "version": 3
   },
   "file_extension": ".py",
   "mimetype": "text/x-python",
   "name": "python",
   "nbconvert_exporter": "python",
   "pygments_lexer": "ipython3",
   "version": "3.7.9"
  },
  "orig_nbformat": 2,
  "kernelspec": {
   "name": "python379jvsc74a57bd05406984f2edc0bdbc5cd7a494452e0fdfab4d1a2e1a90c33da82353fb1ebad85",
   "display_name": "Python 3.7.9 64-bit"
  }
 },
 "nbformat": 4,
 "nbformat_minor": 2,
 "cells": [
  {
   "cell_type": "code",
   "execution_count": 1,
   "metadata": {},
   "outputs": [],
   "source": [
    "import os\n",
    "import tweepy as tw\n",
    "import pandas as pd"
   ]
  },
  {
   "source": [
    "Using this site as reference: https://www.earthdatascience.org/courses/use-data-open-source-python/intro-to-apis/twitter-data-in-python/"
   ],
   "cell_type": "markdown",
   "metadata": {}
  },
  {
   "source": [
    "# Step 1: Set up Twitter API access\n",
    "Set up the project here: https://developer.twitter.com/en/portal/projects-and-apps"
   ],
   "cell_type": "markdown",
   "metadata": {}
  },
  {
   "cell_type": "code",
   "execution_count": 2,
   "metadata": {},
   "outputs": [],
   "source": [
    "# Define access keys and tokens\n",
    "# TODO: mask credentials\n",
    "consumer_key= ''\n",
    "consumer_secret= ''\n",
    "access_token= ''\n",
    "access_token_secret= ''"
   ]
  },
  {
   "cell_type": "code",
   "execution_count": 3,
   "metadata": {},
   "outputs": [],
   "source": [
    "auth = tw.OAuthHandler(consumer_key, consumer_secret)\n",
    "auth.set_access_token(access_token, access_token_secret)\n",
    "api = tw.API(auth, wait_on_rate_limit = True)"
   ]
  },
  {
   "source": [
    "# Step 2: Get tweets and transform into dataframe"
   ],
   "cell_type": "markdown",
   "metadata": {}
  },
  {
   "source": [
    "## Method 1: Tweets to Dataframe"
   ],
   "cell_type": "markdown",
   "metadata": {}
  },
  {
   "cell_type": "code",
   "execution_count": 4,
   "metadata": {},
   "outputs": [
    {
     "output_type": "execute_result",
     "data": {
      "text/plain": [
       "                       created_at                   id               id_str  \\\n",
       "0  Thu May 27 18:23:37 +0000 2021  1397981837096411136  1397981837096411136   \n",
       "1  Thu May 27 18:20:04 +0000 2021  1397980943294603266  1397980943294603266   \n",
       "2  Thu May 27 18:20:04 +0000 2021  1397980942606684164  1397980942606684164   \n",
       "3  Thu May 27 18:20:03 +0000 2021  1397980938177593346  1397980938177593346   \n",
       "4  Thu May 27 17:53:46 +0000 2021  1397974324699701248  1397974324699701248   \n",
       "\n",
       "                                                text  truncated  \\\n",
       "0  At current rates, when will most Canadians be ...       True   \n",
       "1  University in Ontario becomes first to require...       True   \n",
       "2  University in Ontario becomes first to require...       True   \n",
       "3  University in Ontario becomes first to require...       True   \n",
       "4  Dylan's @nofrillsCA in Spryfield IS NOT ENFORC...       True   \n",
       "\n",
       "                                              source  in_reply_to_status_id  \\\n",
       "0  <a href=\"https://mobile.twitter.com\" rel=\"nofo...                    NaN   \n",
       "1  <a href=\"https://www.hootsuite.com\" rel=\"nofol...                    NaN   \n",
       "2  <a href=\"https://www.hootsuite.com\" rel=\"nofol...                    NaN   \n",
       "3  <a href=\"https://www.hootsuite.com\" rel=\"nofol...                    NaN   \n",
       "4  <a href=\"https://mobile.twitter.com\" rel=\"nofo...                    NaN   \n",
       "\n",
       "  in_reply_to_status_id_str  in_reply_to_user_id in_reply_to_user_id_str  ...  \\\n",
       "0                      None                  NaN                    None  ...   \n",
       "1                      None                  NaN                    None  ...   \n",
       "2                      None                  NaN                    None  ...   \n",
       "3                      None                  NaN                    None  ...   \n",
       "4                      None                  NaN                    None  ...   \n",
       "\n",
       "  quoted_status.favorited quoted_status.retweeted  \\\n",
       "0                     NaN                     NaN   \n",
       "1                     NaN                     NaN   \n",
       "2                     NaN                     NaN   \n",
       "3                     NaN                     NaN   \n",
       "4                     NaN                     NaN   \n",
       "\n",
       "  quoted_status.possibly_sensitive quoted_status.lang entities.media  \\\n",
       "0                              NaN                NaN            NaN   \n",
       "1                              NaN                NaN            NaN   \n",
       "2                              NaN                NaN            NaN   \n",
       "3                              NaN                NaN            NaN   \n",
       "4                              NaN                NaN            NaN   \n",
       "\n",
       "   extended_entities.media  quoted_status.entities.media  \\\n",
       "0                      NaN                           NaN   \n",
       "1                      NaN                           NaN   \n",
       "2                      NaN                           NaN   \n",
       "3                      NaN                           NaN   \n",
       "4                      NaN                           NaN   \n",
       "\n",
       "   quoted_status.extended_entities.media  quoted_status.quoted_status_id  \\\n",
       "0                                    NaN                             NaN   \n",
       "1                                    NaN                             NaN   \n",
       "2                                    NaN                             NaN   \n",
       "3                                    NaN                             NaN   \n",
       "4                                    NaN                             NaN   \n",
       "\n",
       "   quoted_status.quoted_status_id_str  \n",
       "0                                 NaN  \n",
       "1                                 NaN  \n",
       "2                                 NaN  \n",
       "3                                 NaN  \n",
       "4                                 NaN  \n",
       "\n",
       "[5 rows x 152 columns]"
      ],
      "text/html": "<div>\n<style scoped>\n    .dataframe tbody tr th:only-of-type {\n        vertical-align: middle;\n    }\n\n    .dataframe tbody tr th {\n        vertical-align: top;\n    }\n\n    .dataframe thead th {\n        text-align: right;\n    }\n</style>\n<table border=\"1\" class=\"dataframe\">\n  <thead>\n    <tr style=\"text-align: right;\">\n      <th></th>\n      <th>created_at</th>\n      <th>id</th>\n      <th>id_str</th>\n      <th>text</th>\n      <th>truncated</th>\n      <th>source</th>\n      <th>in_reply_to_status_id</th>\n      <th>in_reply_to_status_id_str</th>\n      <th>in_reply_to_user_id</th>\n      <th>in_reply_to_user_id_str</th>\n      <th>...</th>\n      <th>quoted_status.favorited</th>\n      <th>quoted_status.retweeted</th>\n      <th>quoted_status.possibly_sensitive</th>\n      <th>quoted_status.lang</th>\n      <th>entities.media</th>\n      <th>extended_entities.media</th>\n      <th>quoted_status.entities.media</th>\n      <th>quoted_status.extended_entities.media</th>\n      <th>quoted_status.quoted_status_id</th>\n      <th>quoted_status.quoted_status_id_str</th>\n    </tr>\n  </thead>\n  <tbody>\n    <tr>\n      <th>0</th>\n      <td>Thu May 27 18:23:37 +0000 2021</td>\n      <td>1397981837096411136</td>\n      <td>1397981837096411136</td>\n      <td>At current rates, when will most Canadians be ...</td>\n      <td>True</td>\n      <td>&lt;a href=\"https://mobile.twitter.com\" rel=\"nofo...</td>\n      <td>NaN</td>\n      <td>None</td>\n      <td>NaN</td>\n      <td>None</td>\n      <td>...</td>\n      <td>NaN</td>\n      <td>NaN</td>\n      <td>NaN</td>\n      <td>NaN</td>\n      <td>NaN</td>\n      <td>NaN</td>\n      <td>NaN</td>\n      <td>NaN</td>\n      <td>NaN</td>\n      <td>NaN</td>\n    </tr>\n    <tr>\n      <th>1</th>\n      <td>Thu May 27 18:20:04 +0000 2021</td>\n      <td>1397980943294603266</td>\n      <td>1397980943294603266</td>\n      <td>University in Ontario becomes first to require...</td>\n      <td>True</td>\n      <td>&lt;a href=\"https://www.hootsuite.com\" rel=\"nofol...</td>\n      <td>NaN</td>\n      <td>None</td>\n      <td>NaN</td>\n      <td>None</td>\n      <td>...</td>\n      <td>NaN</td>\n      <td>NaN</td>\n      <td>NaN</td>\n      <td>NaN</td>\n      <td>NaN</td>\n      <td>NaN</td>\n      <td>NaN</td>\n      <td>NaN</td>\n      <td>NaN</td>\n      <td>NaN</td>\n    </tr>\n    <tr>\n      <th>2</th>\n      <td>Thu May 27 18:20:04 +0000 2021</td>\n      <td>1397980942606684164</td>\n      <td>1397980942606684164</td>\n      <td>University in Ontario becomes first to require...</td>\n      <td>True</td>\n      <td>&lt;a href=\"https://www.hootsuite.com\" rel=\"nofol...</td>\n      <td>NaN</td>\n      <td>None</td>\n      <td>NaN</td>\n      <td>None</td>\n      <td>...</td>\n      <td>NaN</td>\n      <td>NaN</td>\n      <td>NaN</td>\n      <td>NaN</td>\n      <td>NaN</td>\n      <td>NaN</td>\n      <td>NaN</td>\n      <td>NaN</td>\n      <td>NaN</td>\n      <td>NaN</td>\n    </tr>\n    <tr>\n      <th>3</th>\n      <td>Thu May 27 18:20:03 +0000 2021</td>\n      <td>1397980938177593346</td>\n      <td>1397980938177593346</td>\n      <td>University in Ontario becomes first to require...</td>\n      <td>True</td>\n      <td>&lt;a href=\"https://www.hootsuite.com\" rel=\"nofol...</td>\n      <td>NaN</td>\n      <td>None</td>\n      <td>NaN</td>\n      <td>None</td>\n      <td>...</td>\n      <td>NaN</td>\n      <td>NaN</td>\n      <td>NaN</td>\n      <td>NaN</td>\n      <td>NaN</td>\n      <td>NaN</td>\n      <td>NaN</td>\n      <td>NaN</td>\n      <td>NaN</td>\n      <td>NaN</td>\n    </tr>\n    <tr>\n      <th>4</th>\n      <td>Thu May 27 17:53:46 +0000 2021</td>\n      <td>1397974324699701248</td>\n      <td>1397974324699701248</td>\n      <td>Dylan's @nofrillsCA in Spryfield IS NOT ENFORC...</td>\n      <td>True</td>\n      <td>&lt;a href=\"https://mobile.twitter.com\" rel=\"nofo...</td>\n      <td>NaN</td>\n      <td>None</td>\n      <td>NaN</td>\n      <td>None</td>\n      <td>...</td>\n      <td>NaN</td>\n      <td>NaN</td>\n      <td>NaN</td>\n      <td>NaN</td>\n      <td>NaN</td>\n      <td>NaN</td>\n      <td>NaN</td>\n      <td>NaN</td>\n      <td>NaN</td>\n      <td>NaN</td>\n    </tr>\n  </tbody>\n</table>\n<p>5 rows × 152 columns</p>\n</div>"
     },
     "metadata": {},
     "execution_count": 4
    }
   ],
   "source": [
    "search_word = \"#covidcanada\"\n",
    "num_of_tweets = 120\n",
    "include_retweets = False\n",
    "\n",
    "if include_retweets == False:\n",
    "    search_word = search_word + \" -filter:retweets\"\n",
    "\n",
    "tweets = api.search(q=search_word, count=num_of_tweets)\n",
    "\n",
    "json_data = [t._json for t in tweets]\n",
    "\n",
    "# create dataframe from JSON result\n",
    "df = pd.json_normalize(json_data)\n",
    "df.head()"
   ]
  },
  {
   "cell_type": "code",
   "execution_count": 5,
   "metadata": {},
   "outputs": [
    {
     "output_type": "stream",
     "name": "stdout",
     "text": [
      "created_at\nid\nid_str\ntext\ntruncated\nsource\nin_reply_to_status_id\nin_reply_to_status_id_str\nin_reply_to_user_id\nin_reply_to_user_id_str\nin_reply_to_screen_name\ngeo\ncoordinates\nplace\ncontributors\nis_quote_status\nretweet_count\nfavorite_count\nfavorited\nretweeted\npossibly_sensitive\nlang\nentities.hashtags\nentities.symbols\nentities.user_mentions\nentities.urls\nmetadata.iso_language_code\nmetadata.result_type\nuser.id\nuser.id_str\nuser.name\nuser.screen_name\nuser.location\nuser.description\nuser.url\nuser.entities.url.urls\nuser.entities.description.urls\nuser.protected\nuser.followers_count\nuser.friends_count\nuser.listed_count\nuser.created_at\nuser.favourites_count\nuser.utc_offset\nuser.time_zone\nuser.geo_enabled\nuser.verified\nuser.statuses_count\nuser.lang\nuser.contributors_enabled\nuser.is_translator\nuser.is_translation_enabled\nuser.profile_background_color\nuser.profile_background_image_url\nuser.profile_background_image_url_https\nuser.profile_background_tile\nuser.profile_image_url\nuser.profile_image_url_https\nuser.profile_banner_url\nuser.profile_link_color\nuser.profile_sidebar_border_color\nuser.profile_sidebar_fill_color\nuser.profile_text_color\nuser.profile_use_background_image\nuser.has_extended_profile\nuser.default_profile\nuser.default_profile_image\nuser.following\nuser.follow_request_sent\nuser.notifications\nuser.translator_type\nuser.withheld_in_countries\nquoted_status_id\nquoted_status_id_str\nquoted_status.created_at\nquoted_status.id\nquoted_status.id_str\nquoted_status.text\nquoted_status.truncated\nquoted_status.entities.hashtags\nquoted_status.entities.symbols\nquoted_status.entities.user_mentions\nquoted_status.entities.urls\nquoted_status.metadata.iso_language_code\nquoted_status.metadata.result_type\nquoted_status.source\nquoted_status.in_reply_to_status_id\nquoted_status.in_reply_to_status_id_str\nquoted_status.in_reply_to_user_id\nquoted_status.in_reply_to_user_id_str\nquoted_status.in_reply_to_screen_name\nquoted_status.user.id\nquoted_status.user.id_str\nquoted_status.user.name\nquoted_status.user.screen_name\nquoted_status.user.location\nquoted_status.user.description\nquoted_status.user.url\nquoted_status.user.entities.url.urls\nquoted_status.user.entities.description.urls\nquoted_status.user.protected\nquoted_status.user.followers_count\nquoted_status.user.friends_count\nquoted_status.user.listed_count\nquoted_status.user.created_at\nquoted_status.user.favourites_count\nquoted_status.user.utc_offset\nquoted_status.user.time_zone\nquoted_status.user.geo_enabled\nquoted_status.user.verified\nquoted_status.user.statuses_count\nquoted_status.user.lang\nquoted_status.user.contributors_enabled\nquoted_status.user.is_translator\nquoted_status.user.is_translation_enabled\nquoted_status.user.profile_background_color\nquoted_status.user.profile_background_image_url\nquoted_status.user.profile_background_image_url_https\nquoted_status.user.profile_background_tile\nquoted_status.user.profile_image_url\nquoted_status.user.profile_image_url_https\nquoted_status.user.profile_banner_url\nquoted_status.user.profile_link_color\nquoted_status.user.profile_sidebar_border_color\nquoted_status.user.profile_sidebar_fill_color\nquoted_status.user.profile_text_color\nquoted_status.user.profile_use_background_image\nquoted_status.user.has_extended_profile\nquoted_status.user.default_profile\nquoted_status.user.default_profile_image\nquoted_status.user.following\nquoted_status.user.follow_request_sent\nquoted_status.user.notifications\nquoted_status.user.translator_type\nquoted_status.user.withheld_in_countries\nquoted_status.geo\nquoted_status.coordinates\nquoted_status.place\nquoted_status.contributors\nquoted_status.is_quote_status\nquoted_status.retweet_count\nquoted_status.favorite_count\nquoted_status.favorited\nquoted_status.retweeted\nquoted_status.possibly_sensitive\nquoted_status.lang\nentities.media\nextended_entities.media\nquoted_status.entities.media\nquoted_status.extended_entities.media\nquoted_status.quoted_status_id\nquoted_status.quoted_status_id_str\n"
     ]
    }
   ],
   "source": [
    "# print all column names\n",
    "for col in df.columns:\n",
    "    print(col)"
   ]
  },
  {
   "cell_type": "code",
   "execution_count": 60,
   "metadata": {},
   "outputs": [
    {
     "output_type": "execute_result",
     "data": {
      "text/plain": [
       "<bound method Series.unique of 0     en\n",
       "1     en\n",
       "2     en\n",
       "3     en\n",
       "4     en\n",
       "      ..\n",
       "95    en\n",
       "96    en\n",
       "97    en\n",
       "98    fr\n",
       "99    en\n",
       "Name: lang, Length: 100, dtype: object>"
      ]
     },
     "metadata": {},
     "execution_count": 60
    }
   ],
   "source": [
    "df.lang.unique"
   ]
  },
  {
   "cell_type": "code",
   "execution_count": 61,
   "metadata": {},
   "outputs": [
    {
     "output_type": "stream",
     "name": "stdout",
     "text": [
      "Min. Date:  Tue May 18 11:35:58 +0000 2021 \nMax. Date:  Wed May 19 05:00:04 +0000 2021\n"
     ]
    }
   ],
   "source": [
    "df_english = df.loc[df['lang'] == 'en']\n",
    "\n",
    "min_date = df_english.created_at.min()\n",
    "max_date = df_english.created_at.max()\n",
    "\n",
    "print('Min. Date: ', min_date, '\\nMax. Date: ', max_date)"
   ]
  },
  {
   "cell_type": "code",
   "execution_count": 62,
   "metadata": {},
   "outputs": [
    {
     "output_type": "execute_result",
     "data": {
      "text/plain": [
       "created_at                               93\n",
       "id                                       93\n",
       "id_str                                   93\n",
       "text                                     93\n",
       "truncated                                93\n",
       "                                         ..\n",
       "place.bounding_box.type                   1\n",
       "place.bounding_box.coordinates            1\n",
       "quoted_status.user.entities.url.urls      4\n",
       "quoted_status.entities.media              2\n",
       "quoted_status.extended_entities.media     2\n",
       "Length: 310, dtype: int64"
      ]
     },
     "metadata": {},
     "execution_count": 62
    }
   ],
   "source": [
    "df_english.count()"
   ]
  },
  {
   "source": [
    "## Method 2: Tweets to Dataframe"
   ],
   "cell_type": "markdown",
   "metadata": {}
  },
  {
   "cell_type": "code",
   "execution_count": 29,
   "metadata": {},
   "outputs": [],
   "source": [
    "# https://www.earthdatascience.org/courses/use-data-open-source-python/intro-to-apis/twitter-data-in-python/\n",
    "search_word = \"#covidcanada\"\n",
    "num_of_tweets = 1000\n",
    "include_retweets = False\n",
    "language = \"en\"\n",
    "\n",
    "if include_retweets == False:\n",
    "    search_word = search_word + \" -filter:retweets\"\n",
    "\n",
    "tweets = tw.Cursor(api.search,\n",
    "                    q=search_word,\n",
    "                    lang=language).items(num_of_tweets)"
   ]
  },
  {
   "cell_type": "code",
   "execution_count": 30,
   "metadata": {},
   "outputs": [
    {
     "output_type": "stream",
     "name": "stdout",
     "text": [
      "[[datetime.datetime(2021, 5, 19, 5, 0, 4), 1394880514641780736, 'It’s no longer a question of if we should have vaccine passports in Canada but how they should be designed… https://t.co/subT7kmPpP', 'georgiastraight', 0, 4], [datetime.datetime(2021, 5, 19, 3, 0, 8), 1394850329158557699, \"Canada's COVID-19 vaccination rate likely to surpass U.S. this week https://t.co/ZkBBjt8LKJ via @CTVNews… https://t.co/9CgGdqayLF\", 'iChinadian', 0, 0]]\n"
     ]
    }
   ],
   "source": [
    "tweet_metadata = [[tweet.created_at, tweet.id, tweet.text, tweet.user.screen_name, tweet.retweet_count, tweet.favorite_count] for tweet in tweets]\n",
    "\n",
    "print(tweet_metadata[:2])"
   ]
  },
  {
   "cell_type": "code",
   "execution_count": 26,
   "metadata": {},
   "outputs": [
    {
     "output_type": "execute_result",
     "data": {
      "text/plain": [
       "           created_at                   id  \\\n",
       "0 2021-05-19 05:00:04  1394880514641780736   \n",
       "1 2021-05-19 03:00:08  1394850329158557699   \n",
       "2 2021-05-19 02:03:43  1394836134060986372   \n",
       "3 2021-05-19 02:03:43  1394836132265791489   \n",
       "4 2021-05-19 01:59:24  1394835045773242368   \n",
       "\n",
       "                                                text             user  \\\n",
       "0  It’s no longer a question of if we should have...  georgiastraight   \n",
       "1  Canada's COVID-19 vaccination rate likely to s...       iChinadian   \n",
       "2  MAY 18\\n\\nRACE ENDS MAY 31: ANNIVERSARY of CAN...    Fifthmeridian   \n",
       "3  MAY 18\\n\\nWEST wins 14(W)-9(E)-1(N), 6/12 podi...    Fifthmeridian   \n",
       "4  COVID-19: Fraser Health accounts for 75 per ce...       iChinadian   \n",
       "\n",
       "   rt_count  fav_count  \n",
       "0         0          4  \n",
       "1         0          0  \n",
       "2         0          0  \n",
       "3         0          0  \n",
       "4         0          0  "
      ],
      "text/html": "<div>\n<style scoped>\n    .dataframe tbody tr th:only-of-type {\n        vertical-align: middle;\n    }\n\n    .dataframe tbody tr th {\n        vertical-align: top;\n    }\n\n    .dataframe thead th {\n        text-align: right;\n    }\n</style>\n<table border=\"1\" class=\"dataframe\">\n  <thead>\n    <tr style=\"text-align: right;\">\n      <th></th>\n      <th>created_at</th>\n      <th>id</th>\n      <th>text</th>\n      <th>user</th>\n      <th>rt_count</th>\n      <th>fav_count</th>\n    </tr>\n  </thead>\n  <tbody>\n    <tr>\n      <th>0</th>\n      <td>2021-05-19 05:00:04</td>\n      <td>1394880514641780736</td>\n      <td>It’s no longer a question of if we should have...</td>\n      <td>georgiastraight</td>\n      <td>0</td>\n      <td>4</td>\n    </tr>\n    <tr>\n      <th>1</th>\n      <td>2021-05-19 03:00:08</td>\n      <td>1394850329158557699</td>\n      <td>Canada's COVID-19 vaccination rate likely to s...</td>\n      <td>iChinadian</td>\n      <td>0</td>\n      <td>0</td>\n    </tr>\n    <tr>\n      <th>2</th>\n      <td>2021-05-19 02:03:43</td>\n      <td>1394836134060986372</td>\n      <td>MAY 18\\n\\nRACE ENDS MAY 31: ANNIVERSARY of CAN...</td>\n      <td>Fifthmeridian</td>\n      <td>0</td>\n      <td>0</td>\n    </tr>\n    <tr>\n      <th>3</th>\n      <td>2021-05-19 02:03:43</td>\n      <td>1394836132265791489</td>\n      <td>MAY 18\\n\\nWEST wins 14(W)-9(E)-1(N), 6/12 podi...</td>\n      <td>Fifthmeridian</td>\n      <td>0</td>\n      <td>0</td>\n    </tr>\n    <tr>\n      <th>4</th>\n      <td>2021-05-19 01:59:24</td>\n      <td>1394835045773242368</td>\n      <td>COVID-19: Fraser Health accounts for 75 per ce...</td>\n      <td>iChinadian</td>\n      <td>0</td>\n      <td>0</td>\n    </tr>\n  </tbody>\n</table>\n</div>"
     },
     "metadata": {},
     "execution_count": 26
    }
   ],
   "source": [
    "df_tweets = pd.DataFrame(data=tweet_metadata, columns=['created_at', 'id', 'text', 'user', 'rt_count', 'fav_count'])\n",
    "df_tweets.head()"
   ]
  },
  {
   "cell_type": "code",
   "execution_count": 36,
   "metadata": {},
   "outputs": [
    {
     "output_type": "stream",
     "name": "stdout",
     "text": [
      "Rows: 299 \nColumns: 6\n"
     ]
    }
   ],
   "source": [
    "print('Rows:', df_tweets.shape[0], '\\nColumns:', df_tweets.shape[1])"
   ]
  },
  {
   "cell_type": "code",
   "execution_count": 38,
   "metadata": {},
   "outputs": [
    {
     "output_type": "stream",
     "name": "stdout",
     "text": [
      "Min. date:  2021-05-11 16:44:45 \nMax. date:  2021-05-19 05:00:04\n"
     ]
    }
   ],
   "source": [
    "min_date = df_tweets.created_at.min()\n",
    "max_date = df_tweets.created_at.max()\n",
    "\n",
    "print('Min. date: ', min_date, '\\nMax. date: ', max_date)"
   ]
  },
  {
   "source": [
    "# Step 3: Analyze tweets"
   ],
   "cell_type": "markdown",
   "metadata": {}
  },
  {
   "cell_type": "code",
   "execution_count": 1,
   "metadata": {},
   "outputs": [],
   "source": [
    "from nltk.corpus import stopwords"
   ]
  },
  {
   "cell_type": "code",
   "execution_count": 53,
   "metadata": {},
   "outputs": [
    {
     "output_type": "stream",
     "name": "stdout",
     "text": [
      "1) It’s no longer a question of if we should have vaccine passports in Canada but how they should be designed… https://t.co/subT7kmPpP\n\n2) Canada's COVID-19 vaccination rate likely to surpass U.S. this week https://t.co/ZkBBjt8LKJ via @CTVNews… https://t.co/9CgGdqayLF\n\n3) MAY 18\n\nRACE ENDS MAY 31: ANNIVERSARY of CANADA's DEADLIEST DAY of the Covid pandemic\n\nTOTAL INFECTIONS\n(% of pop i… https://t.co/lK62KDXl4r\n\n4) MAY 18\n\nWEST wins 14(W)-9(E)-1(N), 6/12 podiums\n\nAB: 1st-DAILY CASES (32 of 35 days)\nSK: 1st-DAILY DEATHS\nNB: 2nd-D… https://t.co/10sCv9f7Kd\n\n5) COVID-19: Fraser Health accounts for 75 per cent of new cases reported Tuesday https://t.co/9cIJ1ywitI #COVIDBC… https://t.co/bbdGBcTppq\n\n"
     ]
    }
   ],
   "source": [
    "# sample tweets\n",
    "for i in range(0,5):\n",
    "    print(str(i+1) + ') ' + df_tweets.text[i] + '\\n')"
   ]
  },
  {
   "source": [
    "## Step 3a: Tokenization"
   ],
   "cell_type": "markdown",
   "metadata": {}
  },
  {
   "cell_type": "code",
   "execution_count": null,
   "metadata": {},
   "outputs": [],
   "source": []
  },
  {
   "source": [
    "## Step 3b: Remove stop words"
   ],
   "cell_type": "markdown",
   "metadata": {}
  },
  {
   "cell_type": "code",
   "execution_count": null,
   "metadata": {},
   "outputs": [],
   "source": []
  }
 ]
}