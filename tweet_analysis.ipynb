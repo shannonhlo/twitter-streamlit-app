{
 "metadata": {
  "language_info": {
   "codemirror_mode": {
    "name": "ipython",
    "version": 3
   },
   "file_extension": ".py",
   "mimetype": "text/x-python",
   "name": "python",
   "nbconvert_exporter": "python",
   "pygments_lexer": "ipython3",
   "version": "3.8.10"
  },
  "orig_nbformat": 2,
  "kernelspec": {
   "name": "python3810jvsc74a57bd0e054c41eb704da09253deb49fdfabb4627321079158e548ceccf12efc3be0516",
   "display_name": "Python 3.8.10 64-bit"
  }
 },
 "nbformat": 4,
 "nbformat_minor": 2,
 "cells": [
  {
   "cell_type": "code",
   "execution_count": 1,
   "metadata": {},
   "outputs": [
    {
     "output_type": "error",
     "ename": "ModuleNotFoundError",
     "evalue": "No module named 'nltk'",
     "traceback": [
      "\u001b[1;31m---------------------------------------------------------------------------\u001b[0m",
      "\u001b[1;31mModuleNotFoundError\u001b[0m                       Traceback (most recent call last)",
      "\u001b[1;32m<ipython-input-1-1568f0778c8a>\u001b[0m in \u001b[0;36m<module>\u001b[1;34m\u001b[0m\n\u001b[0;32m      6\u001b[0m \u001b[1;32mimport\u001b[0m \u001b[0mre\u001b[0m\u001b[1;33m\u001b[0m\u001b[1;33m\u001b[0m\u001b[0m\n\u001b[0;32m      7\u001b[0m \u001b[1;32mimport\u001b[0m \u001b[0municodedata\u001b[0m\u001b[1;33m\u001b[0m\u001b[1;33m\u001b[0m\u001b[0m\n\u001b[1;32m----> 8\u001b[1;33m \u001b[1;32mimport\u001b[0m \u001b[0mnltk\u001b[0m\u001b[1;33m\u001b[0m\u001b[1;33m\u001b[0m\u001b[0m\n\u001b[0m\u001b[0;32m      9\u001b[0m \u001b[1;32mfrom\u001b[0m \u001b[0mnltk\u001b[0m\u001b[1;33m.\u001b[0m\u001b[0mcorpus\u001b[0m \u001b[1;32mimport\u001b[0m \u001b[0mstopwords\u001b[0m\u001b[1;33m\u001b[0m\u001b[1;33m\u001b[0m\u001b[0m\n\u001b[0;32m     10\u001b[0m \u001b[1;33m\u001b[0m\u001b[0m\n",
      "\u001b[1;31mModuleNotFoundError\u001b[0m: No module named 'nltk'"
     ]
    }
   ],
   "source": [
    "import os\n",
    "import tweepy as tw\n",
    "import pandas as pd\n",
    "import yaml\n",
    "\n",
    "import re\n",
    "import unicodedata\n",
    "import nltk\n",
    "from nltk.corpus import stopwords\n",
    "\n",
    "from sklearn.feature_extraction.text import CountVectorizer\n",
    "import numpy as np\n",
    "import matplotlib.pyplot as plt\n",
    "import seaborn as sns\n",
    "\n",
    "from textblob import TextBlob"
   ]
  },
  {
   "source": [
    "# Step 1: Set up Twitter API access\n",
    "Set up the project here: https://developer.twitter.com/en/portal/projects-and-apps\n",
    "\n",
    "Using this site as reference: https://www.earthdatascience.org/courses/use-data-open-source-python/intro-to-apis/twitter-data-in-python/"
   ],
   "cell_type": "markdown",
   "metadata": {}
  },
  {
   "cell_type": "code",
   "execution_count": null,
   "metadata": {},
   "outputs": [],
   "source": [
    "# Reference: https://gist.github.com/radcliff/47af9f6238c95f6ae239\n",
    "# Load yml file to dictionary\n",
    "credentials = yaml.load(open('./credentials.yml'), Loader=yaml.FullLoader)\n",
    "\n",
    "# Define access keys and tokens\n",
    "consumer_key = credentials['twitter_api']['consumer_key']\n",
    "consumer_secret = credentials['twitter_api']['consumer_secret']\n",
    "access_token = credentials['twitter_api']['access_token']\n",
    "access_token_secret = credentials['twitter_api']['access_token_secret']"
   ]
  },
  {
   "cell_type": "code",
   "execution_count": null,
   "metadata": {},
   "outputs": [],
   "source": [
    "auth = tw.OAuthHandler(consumer_key, consumer_secret)\n",
    "auth.set_access_token(access_token, access_token_secret)\n",
    "api = tw.API(auth, wait_on_rate_limit = True)"
   ]
  },
  {
   "source": [
    "# Step 2: Get tweets and transform into dataframe"
   ],
   "cell_type": "markdown",
   "metadata": {}
  },
  {
   "cell_type": "code",
   "execution_count": 4,
   "metadata": {},
   "outputs": [],
   "source": [
    "# Reference: https://www.earthdatascience.org/courses/use-data-open-source-python/intro-to-apis/twitter-data-in-python/\n",
    "\n",
    "# define parameters for API request\n",
    "search_word = \"#covidcanada\"\n",
    "num_of_tweets = 1000\n",
    "include_retweets = False\n",
    "language = \"en\"\n",
    "\n",
    "if include_retweets == False:\n",
    "    search_word = search_word + \" -filter:retweets\"\n",
    "\n",
    "tweets = tw.Cursor(api.search,\n",
    "                    q=search_word,\n",
    "                    tweet_mode = \"extended\",\n",
    "                    lang=language).items(num_of_tweets)"
   ]
  },
  {
   "cell_type": "code",
   "execution_count": 5,
   "metadata": {},
   "outputs": [
    {
     "output_type": "stream",
     "name": "stdout",
     "text": [
      "created_at\nid\nid_str\ntext\ntruncated\nsource\nin_reply_to_status_id\nin_reply_to_status_id_str\nin_reply_to_user_id\nin_reply_to_user_id_str\nin_reply_to_screen_name\ngeo\ncoordinates\nplace\ncontributors\nis_quote_status\nretweet_count\nfavorite_count\nfavorited\nretweeted\npossibly_sensitive\nlang\nentities.hashtags\nentities.symbols\nentities.user_mentions\nentities.urls\nmetadata.iso_language_code\nmetadata.result_type\nuser.id\nuser.id_str\nuser.name\nuser.screen_name\nuser.location\nuser.description\nuser.url\nuser.entities.url.urls\nuser.entities.description.urls\nuser.protected\nuser.followers_count\nuser.friends_count\nuser.listed_count\nuser.created_at\nuser.favourites_count\nuser.utc_offset\nuser.time_zone\nuser.geo_enabled\nuser.verified\nuser.statuses_count\nuser.lang\nuser.contributors_enabled\nuser.is_translator\nuser.is_translation_enabled\nuser.profile_background_color\nuser.profile_background_image_url\nuser.profile_background_image_url_https\nuser.profile_background_tile\nuser.profile_image_url\nuser.profile_image_url_https\nuser.profile_banner_url\nuser.profile_link_color\nuser.profile_sidebar_border_color\nuser.profile_sidebar_fill_color\nuser.profile_text_color\nuser.profile_use_background_image\nuser.has_extended_profile\nuser.default_profile\nuser.default_profile_image\nuser.following\nuser.follow_request_sent\nuser.notifications\nuser.translator_type\nuser.withheld_in_countries\nquoted_status_id\nquoted_status_id_str\nquoted_status.created_at\nquoted_status.id\nquoted_status.id_str\nquoted_status.text\nquoted_status.truncated\nquoted_status.entities.hashtags\nquoted_status.entities.symbols\nquoted_status.entities.user_mentions\nquoted_status.entities.urls\nquoted_status.metadata.iso_language_code\nquoted_status.metadata.result_type\nquoted_status.source\nquoted_status.in_reply_to_status_id\nquoted_status.in_reply_to_status_id_str\nquoted_status.in_reply_to_user_id\nquoted_status.in_reply_to_user_id_str\nquoted_status.in_reply_to_screen_name\nquoted_status.user.id\nquoted_status.user.id_str\nquoted_status.user.name\nquoted_status.user.screen_name\nquoted_status.user.location\nquoted_status.user.description\nquoted_status.user.url\nquoted_status.user.entities.url.urls\nquoted_status.user.entities.description.urls\nquoted_status.user.protected\nquoted_status.user.followers_count\nquoted_status.user.friends_count\nquoted_status.user.listed_count\nquoted_status.user.created_at\nquoted_status.user.favourites_count\nquoted_status.user.utc_offset\nquoted_status.user.time_zone\nquoted_status.user.geo_enabled\nquoted_status.user.verified\nquoted_status.user.statuses_count\nquoted_status.user.lang\nquoted_status.user.contributors_enabled\nquoted_status.user.is_translator\nquoted_status.user.is_translation_enabled\nquoted_status.user.profile_background_color\nquoted_status.user.profile_background_image_url\nquoted_status.user.profile_background_image_url_https\nquoted_status.user.profile_background_tile\nquoted_status.user.profile_image_url\nquoted_status.user.profile_image_url_https\nquoted_status.user.profile_banner_url\nquoted_status.user.profile_link_color\nquoted_status.user.profile_sidebar_border_color\nquoted_status.user.profile_sidebar_fill_color\nquoted_status.user.profile_text_color\nquoted_status.user.profile_use_background_image\nquoted_status.user.has_extended_profile\nquoted_status.user.default_profile\nquoted_status.user.default_profile_image\nquoted_status.user.following\nquoted_status.user.follow_request_sent\nquoted_status.user.notifications\nquoted_status.user.translator_type\nquoted_status.user.withheld_in_countries\nquoted_status.geo\nquoted_status.coordinates\nquoted_status.place\nquoted_status.contributors\nquoted_status.is_quote_status\nquoted_status.quoted_status_id\nquoted_status.quoted_status_id_str\nquoted_status.retweet_count\nquoted_status.favorite_count\nquoted_status.favorited\nquoted_status.retweeted\nquoted_status.possibly_sensitive\nquoted_status.lang\nentities.media\nextended_entities.media\nquoted_status.entities.media\nquoted_status.extended_entities.media\n"
     ]
    }
   ],
   "source": [
    "# Twitter API data dictionary: https://developer.twitter.com/en/docs/twitter-api/data-dictionary/object-model/tweet\n",
    "\n",
    "# Get column names\n",
    "api_colnames_call = api.search(q=search_word, count=num_of_tweets)\n",
    "json_data = [c._json for c in api_colnames_call]\n",
    "\n",
    "# create dataframe from JSON result\n",
    "api_colnames = pd.json_normalize(json_data)\n",
    "\n",
    "# print all column names\n",
    "for col in api_colnames.columns:\n",
    "    print(col)"
   ]
  },
  {
   "cell_type": "code",
   "execution_count": 6,
   "metadata": {},
   "outputs": [
    {
     "output_type": "stream",
     "name": "stdout",
     "text": [
      "[[datetime.datetime(2021, 6, 4, 18, 20, 58), 1400880272963518465, \"Today's coronavirus news: Toronto is opening more than 10,000 additional vaccination appointments for next week, and Ontario is again asking the federal government to strengthen border enforcement. https://t.co/fU8mLoabqg\\n\\n#vaccineTO #COVIDtoronto #COVID19ON #COVIDcanada https://t.co/fRchXR4dwx\", 'torontodotcom', 0, 0], [datetime.datetime(2021, 6, 4, 17, 55, 16), 1400873802695733248, '👋 @CPHO_Canada @CMOH_Alberta @shandro \\nMaybe you could check this out?  Please and thanks.\\n\\n#COVIDCanada \\n#COVID19AB \\n\\n👇🇨🇦 https://t.co/17k5jp25vt', 'SamRafoss', 0, 1]]\n"
     ]
    }
   ],
   "source": [
    "# Specify which columns to pull from API\n",
    "tweet_metadata = [[tweet.created_at, tweet.id, tweet.full_text, tweet.user.screen_name, tweet.retweet_count, tweet.favorite_count] for tweet in tweets]\n",
    "\n",
    "print(tweet_metadata[:2])"
   ]
  },
  {
   "cell_type": "code",
   "execution_count": 7,
   "metadata": {},
   "outputs": [
    {
     "output_type": "execute_result",
     "data": {
      "text/plain": [
       "           created_at                   id  \\\n",
       "0 2021-06-04 18:20:58  1400880272963518465   \n",
       "1 2021-06-04 17:55:16  1400873802695733248   \n",
       "2 2021-06-04 17:20:12  1400864980078006274   \n",
       "3 2021-06-04 17:00:19  1400859977040945155   \n",
       "4 2021-06-04 16:02:35  1400845447959351298   \n",
       "\n",
       "                                           full_text             user  \\\n",
       "0  Today's coronavirus news: Toronto is opening m...    torontodotcom   \n",
       "1  👋 @CPHO_Canada @CMOH_Alberta @shandro \\nMaybe ...        SamRafoss   \n",
       "2  Excited to sit down for another @ProjectCanary...  crystalmundypsy   \n",
       "3  This Roberta Place personal support worker was...    torontodotcom   \n",
       "4  5 ways you can help end HIV &amp; AIDS\\n.\\n.\\n...            INSTI   \n",
       "\n",
       "   rt_count  fav_count  \n",
       "0         0          0  \n",
       "1         0          1  \n",
       "2         2          2  \n",
       "3         3          4  \n",
       "4         0          0  "
      ],
      "text/html": "<div>\n<style scoped>\n    .dataframe tbody tr th:only-of-type {\n        vertical-align: middle;\n    }\n\n    .dataframe tbody tr th {\n        vertical-align: top;\n    }\n\n    .dataframe thead th {\n        text-align: right;\n    }\n</style>\n<table border=\"1\" class=\"dataframe\">\n  <thead>\n    <tr style=\"text-align: right;\">\n      <th></th>\n      <th>created_at</th>\n      <th>id</th>\n      <th>full_text</th>\n      <th>user</th>\n      <th>rt_count</th>\n      <th>fav_count</th>\n    </tr>\n  </thead>\n  <tbody>\n    <tr>\n      <th>0</th>\n      <td>2021-06-04 18:20:58</td>\n      <td>1400880272963518465</td>\n      <td>Today's coronavirus news: Toronto is opening m...</td>\n      <td>torontodotcom</td>\n      <td>0</td>\n      <td>0</td>\n    </tr>\n    <tr>\n      <th>1</th>\n      <td>2021-06-04 17:55:16</td>\n      <td>1400873802695733248</td>\n      <td>👋 @CPHO_Canada @CMOH_Alberta @shandro \\nMaybe ...</td>\n      <td>SamRafoss</td>\n      <td>0</td>\n      <td>1</td>\n    </tr>\n    <tr>\n      <th>2</th>\n      <td>2021-06-04 17:20:12</td>\n      <td>1400864980078006274</td>\n      <td>Excited to sit down for another @ProjectCanary...</td>\n      <td>crystalmundypsy</td>\n      <td>2</td>\n      <td>2</td>\n    </tr>\n    <tr>\n      <th>3</th>\n      <td>2021-06-04 17:00:19</td>\n      <td>1400859977040945155</td>\n      <td>This Roberta Place personal support worker was...</td>\n      <td>torontodotcom</td>\n      <td>3</td>\n      <td>4</td>\n    </tr>\n    <tr>\n      <th>4</th>\n      <td>2021-06-04 16:02:35</td>\n      <td>1400845447959351298</td>\n      <td>5 ways you can help end HIV &amp;amp; AIDS\\n.\\n.\\n...</td>\n      <td>INSTI</td>\n      <td>0</td>\n      <td>0</td>\n    </tr>\n  </tbody>\n</table>\n</div>"
     },
     "metadata": {},
     "execution_count": 7
    }
   ],
   "source": [
    "df_tweets_raw = pd.DataFrame(data=tweet_metadata, columns=['created_at', 'id', 'full_text', 'user', 'rt_count', 'fav_count'])\n",
    "df_tweets_raw.head()"
   ]
  },
  {
   "source": [
    "# Step 3: Exploratory data analysis (EDA)"
   ],
   "cell_type": "markdown",
   "metadata": {}
  },
  {
   "cell_type": "code",
   "execution_count": 8,
   "metadata": {},
   "outputs": [
    {
     "output_type": "stream",
     "name": "stdout",
     "text": [
      "Rows: 198 \nColumns: 6\n"
     ]
    }
   ],
   "source": [
    "print('Rows:', df_tweets_raw.shape[0], '\\nColumns:', df_tweets_raw.shape[1])"
   ]
  },
  {
   "cell_type": "code",
   "execution_count": 10,
   "metadata": {},
   "outputs": [
    {
     "output_type": "stream",
     "name": "stdout",
     "text": [
      "Longest tweet is 331 characters long\n"
     ]
    }
   ],
   "source": [
    "max_tweet_length = df_tweets_raw.full_text.apply(len).max()\n",
    "print('Longest tweet is', max_tweet_length, 'characters long')"
   ]
  },
  {
   "cell_type": "code",
   "execution_count": 11,
   "metadata": {},
   "outputs": [
    {
     "output_type": "stream",
     "name": "stdout",
     "text": [
      "Min. date:  2021-05-27 17:01:16 \nMax. date:  2021-06-04 18:20:58\n"
     ]
    }
   ],
   "source": [
    "min_date = df_tweets_raw.created_at.min()\n",
    "max_date = df_tweets_raw.created_at.max()\n",
    "\n",
    "print('Min. date: ', min_date, '\\nMax. date: ', max_date)"
   ]
  },
  {
   "cell_type": "code",
   "execution_count": 11,
   "metadata": {},
   "outputs": [
    {
     "output_type": "stream",
     "name": "stderr",
     "text": [
      "ipykernel_launcher:1: FutureWarning: Treating datetime data as categorical rather than numeric in `.describe` is deprecated and will be removed in a future version of pandas. Specify `datetime_is_numeric=True` to silence this warning and adopt the future behavior now.\n"
     ]
    },
    {
     "output_type": "execute_result",
     "data": {
      "text/plain": [
       "                 created_at            id  \\\n",
       "count                   202  2.020000e+02   \n",
       "unique                  201           NaN   \n",
       "top     2021-05-27 18:20:04           NaN   \n",
       "freq                      2           NaN   \n",
       "first   2021-05-24 09:01:30           NaN   \n",
       "last    2021-06-01 02:33:01           NaN   \n",
       "mean                    NaN  1.398030e+18   \n",
       "std                     NaN  7.600366e+14   \n",
       "min                     NaN  1.396753e+18   \n",
       "25%                     NaN  1.397374e+18   \n",
       "50%                     NaN  1.397981e+18   \n",
       "75%                     NaN  1.398574e+18   \n",
       "max                     NaN  1.399555e+18   \n",
       "\n",
       "                                                     text        user  \\\n",
       "count                                                 202         202   \n",
       "unique                                                202          56   \n",
       "top     Canada receiving 500,000 Moderna doses next we...  iChinadian   \n",
       "freq                                                    1          65   \n",
       "first                                                 NaN         NaN   \n",
       "last                                                  NaN         NaN   \n",
       "mean                                                  NaN         NaN   \n",
       "std                                                   NaN         NaN   \n",
       "min                                                   NaN         NaN   \n",
       "25%                                                   NaN         NaN   \n",
       "50%                                                   NaN         NaN   \n",
       "75%                                                   NaN         NaN   \n",
       "max                                                   NaN         NaN   \n",
       "\n",
       "          rt_count   fav_count  \n",
       "count   202.000000  202.000000  \n",
       "unique         NaN         NaN  \n",
       "top            NaN         NaN  \n",
       "freq           NaN         NaN  \n",
       "first          NaN         NaN  \n",
       "last           NaN         NaN  \n",
       "mean      0.435644    1.564356  \n",
       "std       1.082799    5.554642  \n",
       "min       0.000000    0.000000  \n",
       "25%       0.000000    0.000000  \n",
       "50%       0.000000    0.000000  \n",
       "75%       0.000000    1.000000  \n",
       "max       7.000000   56.000000  "
      ],
      "text/html": "<div>\n<style scoped>\n    .dataframe tbody tr th:only-of-type {\n        vertical-align: middle;\n    }\n\n    .dataframe tbody tr th {\n        vertical-align: top;\n    }\n\n    .dataframe thead th {\n        text-align: right;\n    }\n</style>\n<table border=\"1\" class=\"dataframe\">\n  <thead>\n    <tr style=\"text-align: right;\">\n      <th></th>\n      <th>created_at</th>\n      <th>id</th>\n      <th>text</th>\n      <th>user</th>\n      <th>rt_count</th>\n      <th>fav_count</th>\n    </tr>\n  </thead>\n  <tbody>\n    <tr>\n      <th>count</th>\n      <td>202</td>\n      <td>2.020000e+02</td>\n      <td>202</td>\n      <td>202</td>\n      <td>202.000000</td>\n      <td>202.000000</td>\n    </tr>\n    <tr>\n      <th>unique</th>\n      <td>201</td>\n      <td>NaN</td>\n      <td>202</td>\n      <td>56</td>\n      <td>NaN</td>\n      <td>NaN</td>\n    </tr>\n    <tr>\n      <th>top</th>\n      <td>2021-05-27 18:20:04</td>\n      <td>NaN</td>\n      <td>Canada receiving 500,000 Moderna doses next we...</td>\n      <td>iChinadian</td>\n      <td>NaN</td>\n      <td>NaN</td>\n    </tr>\n    <tr>\n      <th>freq</th>\n      <td>2</td>\n      <td>NaN</td>\n      <td>1</td>\n      <td>65</td>\n      <td>NaN</td>\n      <td>NaN</td>\n    </tr>\n    <tr>\n      <th>first</th>\n      <td>2021-05-24 09:01:30</td>\n      <td>NaN</td>\n      <td>NaN</td>\n      <td>NaN</td>\n      <td>NaN</td>\n      <td>NaN</td>\n    </tr>\n    <tr>\n      <th>last</th>\n      <td>2021-06-01 02:33:01</td>\n      <td>NaN</td>\n      <td>NaN</td>\n      <td>NaN</td>\n      <td>NaN</td>\n      <td>NaN</td>\n    </tr>\n    <tr>\n      <th>mean</th>\n      <td>NaN</td>\n      <td>1.398030e+18</td>\n      <td>NaN</td>\n      <td>NaN</td>\n      <td>0.435644</td>\n      <td>1.564356</td>\n    </tr>\n    <tr>\n      <th>std</th>\n      <td>NaN</td>\n      <td>7.600366e+14</td>\n      <td>NaN</td>\n      <td>NaN</td>\n      <td>1.082799</td>\n      <td>5.554642</td>\n    </tr>\n    <tr>\n      <th>min</th>\n      <td>NaN</td>\n      <td>1.396753e+18</td>\n      <td>NaN</td>\n      <td>NaN</td>\n      <td>0.000000</td>\n      <td>0.000000</td>\n    </tr>\n    <tr>\n      <th>25%</th>\n      <td>NaN</td>\n      <td>1.397374e+18</td>\n      <td>NaN</td>\n      <td>NaN</td>\n      <td>0.000000</td>\n      <td>0.000000</td>\n    </tr>\n    <tr>\n      <th>50%</th>\n      <td>NaN</td>\n      <td>1.397981e+18</td>\n      <td>NaN</td>\n      <td>NaN</td>\n      <td>0.000000</td>\n      <td>0.000000</td>\n    </tr>\n    <tr>\n      <th>75%</th>\n      <td>NaN</td>\n      <td>1.398574e+18</td>\n      <td>NaN</td>\n      <td>NaN</td>\n      <td>0.000000</td>\n      <td>1.000000</td>\n    </tr>\n    <tr>\n      <th>max</th>\n      <td>NaN</td>\n      <td>1.399555e+18</td>\n      <td>NaN</td>\n      <td>NaN</td>\n      <td>7.000000</td>\n      <td>56.000000</td>\n    </tr>\n  </tbody>\n</table>\n</div>"
     },
     "metadata": {},
     "execution_count": 11
    }
   ],
   "source": [
    "df_tweets_raw.describe(include='all')"
   ]
  },
  {
   "source": [
    "# Step 4: Clean data"
   ],
   "cell_type": "markdown",
   "metadata": {}
  },
  {
   "source": [
    "Create a copy to preserve the raw data"
   ],
   "cell_type": "markdown",
   "metadata": {}
  },
  {
   "cell_type": "code",
   "execution_count": 12,
   "metadata": {},
   "outputs": [],
   "source": [
    "df_tweets = df_tweets_raw.copy()"
   ]
  },
  {
   "source": [
    "Sample tweets"
   ],
   "cell_type": "markdown",
   "metadata": {}
  },
  {
   "cell_type": "code",
   "execution_count": 13,
   "metadata": {},
   "outputs": [
    {
     "output_type": "execute_result",
     "data": {
      "text/plain": [
       "'@5BobbyArmstrong @fordnation @Franktmcveety People that replied “F” should be Ashamed 😢 of Themselves. #CovidCanada… https://t.co/zox5lCuzbn'"
      ]
     },
     "metadata": {},
     "execution_count": 13
    }
   ],
   "source": [
    "df_tweets_raw.text[26]"
   ]
  },
  {
   "cell_type": "code",
   "execution_count": 14,
   "metadata": {},
   "outputs": [
    {
     "output_type": "stream",
     "name": "stdout",
     "text": [
      "1) Great work done on picking up the COVID-19  population vaccinated in Canada! I am happy to see this progress.… https://t.co/4EEwVho4se\n\n2) COVID-19 in B.C.: Vaccine error among youth; one new bloodclotting case; outbreak at one school; and more… https://t.co/w95icVuclI\n\n3) COVID-19: More than three million British Columbians have now received vaccine https://t.co/2nbYEqqULv #COVIDBC… https://t.co/Q3AZMZf3av\n\n4) Updated (May 31, 2021) summary of the #Canadian #COVID19 #pandemic based on @GovCanHealth data. #Canada has adminis… https://t.co/i9mzBEybEL\n\n5) Active COVID-19 infections in B.C. fall to lowest level since November https://t.co/Bi9kRPwNBD via @viawesome… https://t.co/0acCgpT5un\n\n"
     ]
    }
   ],
   "source": [
    "# View more sample tweets\n",
    "for i in range(0,5):\n",
    "    print(str(i+1) + ') ' + df_tweets_raw.text[i] + '\\n')"
   ]
  },
  {
   "source": [
    "## Step 4a: Convert tweets to lower case"
   ],
   "cell_type": "markdown",
   "metadata": {}
  },
  {
   "cell_type": "code",
   "execution_count": 15,
   "metadata": {},
   "outputs": [],
   "source": [
    "# Convert transcripts to lower case\n",
    "df_tweets['text_cleaned'] = df_tweets['full_text'].map(lambda x: x.lower())"
   ]
  },
  {
   "cell_type": "code",
   "execution_count": 16,
   "metadata": {},
   "outputs": [
    {
     "output_type": "execute_result",
     "data": {
      "text/plain": [
       "'@5bobbyarmstrong @fordnation @franktmcveety people that replied “f” should be ashamed 😢 of themselves. #covidcanada… https://t.co/zox5lcuzbn'"
      ]
     },
     "metadata": {},
     "execution_count": 16
    }
   ],
   "source": [
    "df_tweets.text_cleaned[26]"
   ]
  },
  {
   "source": [
    "## Step 4b: Remove custom stop words"
   ],
   "cell_type": "markdown",
   "metadata": {}
  },
  {
   "cell_type": "code",
   "execution_count": 17,
   "metadata": {},
   "outputs": [
    {
     "output_type": "stream",
     "name": "stdout",
     "text": [
      "Cleaned tweet:\n@5bobbyarmstrong @fordnation @franktmcveety people that replied “f” should be ashamed 😢 of themselves. #covidcanada…\n"
     ]
    }
   ],
   "source": [
    "# Remove tweet URLs\n",
    "df_tweets['text_cleaned'] = df_tweets['text_cleaned'].map(lambda x: re.sub(r'https\\:\\/\\/t\\.co\\/*\\w*', '', x, flags=re.MULTILINE).strip())\n",
    "\n",
    "# Print out sample of cleaned transcripts\n",
    "print(\"Cleaned tweet:\\n\" + df_tweets['text_cleaned'][26])"
   ]
  },
  {
   "source": [
    "## Step 4c: Tokenize and lemmatize tweets\n",
    "Tokenization parses tweets into individual words and lemmatization removes inflectional endings (ie. endings that add grammatical meaning). These methods prepare the data for word frequency and n-gram analysis.\n",
    "\n",
    "Methods used below reference this post: https://towardsdatascience.com/from-dataframe-to-n-grams-e34e29df3460"
   ],
   "cell_type": "markdown",
   "metadata": {}
  },
  {
   "cell_type": "code",
   "execution_count": 18,
   "metadata": {},
   "outputs": [
    {
     "output_type": "execute_result",
     "data": {
      "text/plain": [
       "['great',\n",
       " 'work',\n",
       " 'done',\n",
       " 'picking',\n",
       " 'covid19',\n",
       " 'population',\n",
       " 'vaccinated',\n",
       " 'canada',\n",
       " 'happy',\n",
       " 'see',\n",
       " 'progress',\n",
       " 'covid19',\n",
       " 'bc',\n",
       " 'vaccine',\n",
       " 'error']"
      ]
     },
     "metadata": {},
     "execution_count": 18
    }
   ],
   "source": [
    "def basic_clean(text):\n",
    "    \"\"\"\n",
    "    A simple function to clean up the data. All the words that\n",
    "    are not designated as a stop word is then lemmatized after\n",
    "    encoding and basic regex parsing are performed.\n",
    "    \"\"\"\n",
    "    wnl = nltk.stem.WordNetLemmatizer()\n",
    "    stopwords = nltk.corpus.stopwords.words('english')\n",
    "    text = (unicodedata.normalize('NFKD', text)\n",
    "    .encode('ascii', 'ignore')\n",
    "    .decode('utf-8', 'ignore'))\n",
    "    words = re.sub(r'[^\\w\\s]', '', text).split()\n",
    "    return [wnl.lemmatize(word) for word in words if word not in stopwords]\n",
    "\n",
    "words = basic_clean(''.join(str(df_tweets['text_cleaned'].tolist())))\n",
    "words[:15]"
   ]
  },
  {
   "source": [
    "# Step 5: Analyze tweets"
   ],
   "cell_type": "markdown",
   "metadata": {}
  },
  {
   "source": [
    "## Step 5a: Word frequencies and n-grams"
   ],
   "cell_type": "markdown",
   "metadata": {}
  },
  {
   "cell_type": "code",
   "execution_count": 20,
   "metadata": {},
   "outputs": [
    {
     "output_type": "execute_result",
     "data": {
      "text/plain": [
       "(covid19, case)           17\n",
       "(covid19, vaccine)        11\n",
       "(2021, summary)            9\n",
       "(canadian, covid19)        9\n",
       "(covid19, pandemic)        9\n",
       "(via, viawesome)           9\n",
       "(govcanhealth, data)       9\n",
       "(canada, adminis)          9\n",
       "(based, govcanhealth)      9\n",
       "(covidbc, covidcanada)     9\n",
       "(updated, may)             9\n",
       "(pandemic, based)          9\n",
       "(data, canada)             9\n",
       "(summary, canadian)        9\n",
       "(new, covid19)             8\n",
       "dtype: int64"
      ]
     },
     "metadata": {},
     "execution_count": 20
    }
   ],
   "source": [
    "def tweets_ngrams(n, top_n):\n",
    "    result = (pd.Series(nltk.ngrams(words, n)).value_counts())[:top_n]\n",
    "    return result\n",
    "\n",
    "word_series = tweets_ngrams(1, 15)\n",
    "bigram_series = tweets_ngrams(2, 15)\n",
    "trigram_series = tweets_ngrams(3, 15)\n",
    "\n",
    "bigram_series"
   ]
  },
  {
   "cell_type": "code",
   "execution_count": 21,
   "metadata": {},
   "outputs": [],
   "source": [
    "#TODO: visualize word frequencies in horizontal bar charts"
   ]
  },
  {
   "cell_type": "code",
   "execution_count": 22,
   "metadata": {},
   "outputs": [],
   "source": [
    "sns.set_style('whitegrid')\n",
    "%matplotlib inline"
   ]
  },
  {
   "cell_type": "code",
   "execution_count": 23,
   "metadata": {},
   "outputs": [
    {
     "output_type": "stream",
     "name": "stderr",
     "text": [
      "C:\\Users\\S Lo\\AppData\\Local\\Programs\\Python\\Python37\\lib\\site-packages\\seaborn\\_decorators.py:43: FutureWarning: Pass the following variables as keyword args: x, y. From version 0.12, the only valid positional argument will be `data`, and passing other arguments without an explicit keyword will result in an error or misinterpretation.\n  FutureWarning\n"
     ]
    },
    {
     "output_type": "display_data",
     "data": {
      "text/plain": "<Figure size 1080x667.491 with 1 Axes>",
      "image/svg+xml": "<?xml version=\"1.0\" encoding=\"utf-8\" standalone=\"no\"?>\r\n<!DOCTYPE svg PUBLIC \"-//W3C//DTD SVG 1.1//EN\"\r\n  \"http://www.w3.org/Graphics/SVG/1.1/DTD/svg11.dtd\">\r\n<!-- Created with matplotlib (https://matplotlib.org/) -->\r\n<svg height=\"562.235501pt\" version=\"1.1\" viewBox=\"0 0 938.815625 562.235501\" width=\"938.815625pt\" xmlns=\"http://www.w3.org/2000/svg\" xmlns:xlink=\"http://www.w3.org/1999/xlink\">\r\n <metadata>\r\n  <rdf:RDF xmlns:cc=\"http://creativecommons.org/ns#\" xmlns:dc=\"http://purl.org/dc/elements/1.1/\" xmlns:rdf=\"http://www.w3.org/1999/02/22-rdf-syntax-ns#\">\r\n   <cc:Work>\r\n    <dc:type rdf:resource=\"http://purl.org/dc/dcmitype/StillImage\"/>\r\n    <dc:date>2021-05-31T23:43:26.041785</dc:date>\r\n    <dc:format>image/svg+xml</dc:format>\r\n    <dc:creator>\r\n     <cc:Agent>\r\n      <dc:title>Matplotlib v3.3.4, https://matplotlib.org/</dc:title>\r\n     </cc:Agent>\r\n    </dc:creator>\r\n   </cc:Work>\r\n  </rdf:RDF>\r\n </metadata>\r\n <defs>\r\n  <style type=\"text/css\">*{stroke-linecap:butt;stroke-linejoin:round;}</style>\r\n </defs>\r\n <g id=\"figure_1\">\r\n  <g id=\"patch_1\">\r\n   <path d=\"M 0 562.235501 \r\nL 938.815625 562.235501 \r\nL 938.815625 0 \r\nL 0 0 \r\nz\r\n\" style=\"fill:none;\"/>\r\n  </g>\r\n  <g id=\"axes_1\">\r\n   <g id=\"patch_2\">\r\n    <path d=\"M 94.615625 525.744876 \r\nL 931.615625 525.744876 \r\nL 931.615625 21.789375 \r\nL 94.615625 21.789375 \r\nz\r\n\" style=\"fill:#ffffff;\"/>\r\n   </g>\r\n   <g id=\"matplotlib.axis_1\">\r\n    <g id=\"xtick_1\">\r\n     <g id=\"line2d_1\">\r\n      <path clip-path=\"url(#p7ee4c48447)\" d=\"M 94.615625 525.744876 \r\nL 94.615625 21.789375 \r\n\" style=\"fill:none;stroke:#cccccc;stroke-linecap:round;stroke-width:0.8;\"/>\r\n     </g>\r\n     <g id=\"text_1\">\r\n      <!-- 0.0 -->\r\n      <g style=\"fill:#262626;\" transform=\"translate(87.665625 539.902688)scale(0.1 -0.1)\">\r\n       <defs>\r\n        <path d=\"M 4.15625 35.296875 \r\nQ 4.15625 48 6.765625 55.734375 \r\nQ 9.375 63.484375 14.515625 67.671875 \r\nQ 19.671875 71.875 27.484375 71.875 \r\nQ 33.25 71.875 37.59375 69.546875 \r\nQ 41.9375 67.234375 44.765625 62.859375 \r\nQ 47.609375 58.5 49.21875 52.21875 \r\nQ 50.828125 45.953125 50.828125 35.296875 \r\nQ 50.828125 22.703125 48.234375 14.96875 \r\nQ 45.65625 7.234375 40.5 3 \r\nQ 35.359375 -1.21875 27.484375 -1.21875 \r\nQ 17.140625 -1.21875 11.234375 6.203125 \r\nQ 4.15625 15.140625 4.15625 35.296875 \r\nz\r\nM 13.1875 35.296875 \r\nQ 13.1875 17.671875 17.3125 11.828125 \r\nQ 21.4375 6 27.484375 6 \r\nQ 33.546875 6 37.671875 11.859375 \r\nQ 41.796875 17.71875 41.796875 35.296875 \r\nQ 41.796875 52.984375 37.671875 58.78125 \r\nQ 33.546875 64.59375 27.390625 64.59375 \r\nQ 21.34375 64.59375 17.71875 59.46875 \r\nQ 13.1875 52.9375 13.1875 35.296875 \r\nz\r\n\" id=\"ArialMT-48\"/>\r\n        <path d=\"M 9.078125 0 \r\nL 9.078125 10.015625 \r\nL 19.09375 10.015625 \r\nL 19.09375 0 \r\nz\r\n\" id=\"ArialMT-46\"/>\r\n       </defs>\r\n       <use xlink:href=\"#ArialMT-48\"/>\r\n       <use x=\"55.615234\" xlink:href=\"#ArialMT-46\"/>\r\n       <use x=\"83.398438\" xlink:href=\"#ArialMT-48\"/>\r\n      </g>\r\n     </g>\r\n    </g>\r\n    <g id=\"xtick_2\">\r\n     <g id=\"line2d_2\">\r\n      <path clip-path=\"url(#p7ee4c48447)\" d=\"M 199.502843 525.744876 \r\nL 199.502843 21.789375 \r\n\" style=\"fill:none;stroke:#cccccc;stroke-linecap:round;stroke-width:0.8;\"/>\r\n     </g>\r\n     <g id=\"text_2\">\r\n      <!-- 2.5 -->\r\n      <g style=\"fill:#262626;\" transform=\"translate(192.552843 539.902688)scale(0.1 -0.1)\">\r\n       <defs>\r\n        <path d=\"M 50.34375 8.453125 \r\nL 50.34375 0 \r\nL 3.03125 0 \r\nQ 2.9375 3.171875 4.046875 6.109375 \r\nQ 5.859375 10.9375 9.828125 15.625 \r\nQ 13.8125 20.3125 21.34375 26.46875 \r\nQ 33.015625 36.03125 37.109375 41.625 \r\nQ 41.21875 47.21875 41.21875 52.203125 \r\nQ 41.21875 57.421875 37.46875 61 \r\nQ 33.734375 64.59375 27.734375 64.59375 \r\nQ 21.390625 64.59375 17.578125 60.78125 \r\nQ 13.765625 56.984375 13.71875 50.25 \r\nL 4.6875 51.171875 \r\nQ 5.609375 61.28125 11.65625 66.578125 \r\nQ 17.71875 71.875 27.9375 71.875 \r\nQ 38.234375 71.875 44.234375 66.15625 \r\nQ 50.25 60.453125 50.25 52 \r\nQ 50.25 47.703125 48.484375 43.546875 \r\nQ 46.734375 39.40625 42.65625 34.8125 \r\nQ 38.578125 30.21875 29.109375 22.21875 \r\nQ 21.1875 15.578125 18.9375 13.203125 \r\nQ 16.703125 10.84375 15.234375 8.453125 \r\nz\r\n\" id=\"ArialMT-50\"/>\r\n        <path d=\"M 4.15625 18.75 \r\nL 13.375 19.53125 \r\nQ 14.40625 12.796875 18.140625 9.390625 \r\nQ 21.875 6 27.15625 6 \r\nQ 33.5 6 37.890625 10.78125 \r\nQ 42.28125 15.578125 42.28125 23.484375 \r\nQ 42.28125 31 38.0625 35.34375 \r\nQ 33.84375 39.703125 27 39.703125 \r\nQ 22.75 39.703125 19.328125 37.765625 \r\nQ 15.921875 35.84375 13.96875 32.765625 \r\nL 5.71875 33.84375 \r\nL 12.640625 70.609375 \r\nL 48.25 70.609375 \r\nL 48.25 62.203125 \r\nL 19.671875 62.203125 \r\nL 15.828125 42.96875 \r\nQ 22.265625 47.46875 29.34375 47.46875 \r\nQ 38.71875 47.46875 45.15625 40.96875 \r\nQ 51.609375 34.46875 51.609375 24.265625 \r\nQ 51.609375 14.546875 45.953125 7.46875 \r\nQ 39.0625 -1.21875 27.15625 -1.21875 \r\nQ 17.390625 -1.21875 11.203125 4.25 \r\nQ 5.03125 9.71875 4.15625 18.75 \r\nz\r\n\" id=\"ArialMT-53\"/>\r\n       </defs>\r\n       <use xlink:href=\"#ArialMT-50\"/>\r\n       <use x=\"55.615234\" xlink:href=\"#ArialMT-46\"/>\r\n       <use x=\"83.398438\" xlink:href=\"#ArialMT-53\"/>\r\n      </g>\r\n     </g>\r\n    </g>\r\n    <g id=\"xtick_3\">\r\n     <g id=\"line2d_3\">\r\n      <path clip-path=\"url(#p7ee4c48447)\" d=\"M 304.390061 525.744876 \r\nL 304.390061 21.789375 \r\n\" style=\"fill:none;stroke:#cccccc;stroke-linecap:round;stroke-width:0.8;\"/>\r\n     </g>\r\n     <g id=\"text_3\">\r\n      <!-- 5.0 -->\r\n      <g style=\"fill:#262626;\" transform=\"translate(297.440061 539.902688)scale(0.1 -0.1)\">\r\n       <use xlink:href=\"#ArialMT-53\"/>\r\n       <use x=\"55.615234\" xlink:href=\"#ArialMT-46\"/>\r\n       <use x=\"83.398438\" xlink:href=\"#ArialMT-48\"/>\r\n      </g>\r\n     </g>\r\n    </g>\r\n    <g id=\"xtick_4\">\r\n     <g id=\"line2d_4\">\r\n      <path clip-path=\"url(#p7ee4c48447)\" d=\"M 409.277279 525.744876 \r\nL 409.277279 21.789375 \r\n\" style=\"fill:none;stroke:#cccccc;stroke-linecap:round;stroke-width:0.8;\"/>\r\n     </g>\r\n     <g id=\"text_4\">\r\n      <!-- 7.5 -->\r\n      <g style=\"fill:#262626;\" transform=\"translate(402.327279 539.902688)scale(0.1 -0.1)\">\r\n       <defs>\r\n        <path d=\"M 4.734375 62.203125 \r\nL 4.734375 70.65625 \r\nL 51.078125 70.65625 \r\nL 51.078125 63.8125 \r\nQ 44.234375 56.546875 37.515625 44.484375 \r\nQ 30.8125 32.421875 27.15625 19.671875 \r\nQ 24.515625 10.6875 23.78125 0 \r\nL 14.75 0 \r\nQ 14.890625 8.453125 18.0625 20.40625 \r\nQ 21.234375 32.375 27.171875 43.484375 \r\nQ 33.109375 54.59375 39.796875 62.203125 \r\nz\r\n\" id=\"ArialMT-55\"/>\r\n       </defs>\r\n       <use xlink:href=\"#ArialMT-55\"/>\r\n       <use x=\"55.615234\" xlink:href=\"#ArialMT-46\"/>\r\n       <use x=\"83.398438\" xlink:href=\"#ArialMT-53\"/>\r\n      </g>\r\n     </g>\r\n    </g>\r\n    <g id=\"xtick_5\">\r\n     <g id=\"line2d_5\">\r\n      <path clip-path=\"url(#p7ee4c48447)\" d=\"M 514.164497 525.744876 \r\nL 514.164497 21.789375 \r\n\" style=\"fill:none;stroke:#cccccc;stroke-linecap:round;stroke-width:0.8;\"/>\r\n     </g>\r\n     <g id=\"text_5\">\r\n      <!-- 10.0 -->\r\n      <g style=\"fill:#262626;\" transform=\"translate(504.434028 539.902688)scale(0.1 -0.1)\">\r\n       <defs>\r\n        <path d=\"M 37.25 0 \r\nL 28.46875 0 \r\nL 28.46875 56 \r\nQ 25.296875 52.984375 20.140625 49.953125 \r\nQ 14.984375 46.921875 10.890625 45.40625 \r\nL 10.890625 53.90625 \r\nQ 18.265625 57.375 23.78125 62.296875 \r\nQ 29.296875 67.234375 31.59375 71.875 \r\nL 37.25 71.875 \r\nz\r\n\" id=\"ArialMT-49\"/>\r\n       </defs>\r\n       <use xlink:href=\"#ArialMT-49\"/>\r\n       <use x=\"55.615234\" xlink:href=\"#ArialMT-48\"/>\r\n       <use x=\"111.230469\" xlink:href=\"#ArialMT-46\"/>\r\n       <use x=\"139.013672\" xlink:href=\"#ArialMT-48\"/>\r\n      </g>\r\n     </g>\r\n    </g>\r\n    <g id=\"xtick_6\">\r\n     <g id=\"line2d_6\">\r\n      <path clip-path=\"url(#p7ee4c48447)\" d=\"M 619.051715 525.744876 \r\nL 619.051715 21.789375 \r\n\" style=\"fill:none;stroke:#cccccc;stroke-linecap:round;stroke-width:0.8;\"/>\r\n     </g>\r\n     <g id=\"text_6\">\r\n      <!-- 12.5 -->\r\n      <g style=\"fill:#262626;\" transform=\"translate(609.321246 539.902688)scale(0.1 -0.1)\">\r\n       <use xlink:href=\"#ArialMT-49\"/>\r\n       <use x=\"55.615234\" xlink:href=\"#ArialMT-50\"/>\r\n       <use x=\"111.230469\" xlink:href=\"#ArialMT-46\"/>\r\n       <use x=\"139.013672\" xlink:href=\"#ArialMT-53\"/>\r\n      </g>\r\n     </g>\r\n    </g>\r\n    <g id=\"xtick_7\">\r\n     <g id=\"line2d_7\">\r\n      <path clip-path=\"url(#p7ee4c48447)\" d=\"M 723.938933 525.744876 \r\nL 723.938933 21.789375 \r\n\" style=\"fill:none;stroke:#cccccc;stroke-linecap:round;stroke-width:0.8;\"/>\r\n     </g>\r\n     <g id=\"text_7\">\r\n      <!-- 15.0 -->\r\n      <g style=\"fill:#262626;\" transform=\"translate(714.208465 539.902688)scale(0.1 -0.1)\">\r\n       <use xlink:href=\"#ArialMT-49\"/>\r\n       <use x=\"55.615234\" xlink:href=\"#ArialMT-53\"/>\r\n       <use x=\"111.230469\" xlink:href=\"#ArialMT-46\"/>\r\n       <use x=\"139.013672\" xlink:href=\"#ArialMT-48\"/>\r\n      </g>\r\n     </g>\r\n    </g>\r\n    <g id=\"xtick_8\">\r\n     <g id=\"line2d_8\">\r\n      <path clip-path=\"url(#p7ee4c48447)\" d=\"M 828.826151 525.744876 \r\nL 828.826151 21.789375 \r\n\" style=\"fill:none;stroke:#cccccc;stroke-linecap:round;stroke-width:0.8;\"/>\r\n     </g>\r\n     <g id=\"text_8\">\r\n      <!-- 17.5 -->\r\n      <g style=\"fill:#262626;\" transform=\"translate(819.095683 539.902688)scale(0.1 -0.1)\">\r\n       <use xlink:href=\"#ArialMT-49\"/>\r\n       <use x=\"55.615234\" xlink:href=\"#ArialMT-55\"/>\r\n       <use x=\"111.230469\" xlink:href=\"#ArialMT-46\"/>\r\n       <use x=\"139.013672\" xlink:href=\"#ArialMT-53\"/>\r\n      </g>\r\n     </g>\r\n    </g>\r\n    <g id=\"text_9\">\r\n     <!-- counts -->\r\n     <g style=\"fill:#262626;\" transform=\"translate(498.385156 553.048001)scale(0.1 -0.1)\">\r\n      <defs>\r\n       <path d=\"M 40.4375 19 \r\nL 49.078125 17.875 \r\nQ 47.65625 8.9375 41.8125 3.875 \r\nQ 35.984375 -1.171875 27.484375 -1.171875 \r\nQ 16.84375 -1.171875 10.375 5.78125 \r\nQ 3.90625 12.75 3.90625 25.734375 \r\nQ 3.90625 34.125 6.6875 40.421875 \r\nQ 9.46875 46.734375 15.15625 49.875 \r\nQ 20.84375 53.03125 27.546875 53.03125 \r\nQ 35.984375 53.03125 41.359375 48.75 \r\nQ 46.734375 44.484375 48.25 36.625 \r\nL 39.703125 35.296875 \r\nQ 38.484375 40.53125 35.375 43.15625 \r\nQ 32.28125 45.796875 27.875 45.796875 \r\nQ 21.234375 45.796875 17.078125 41.03125 \r\nQ 12.9375 36.28125 12.9375 25.984375 \r\nQ 12.9375 15.53125 16.9375 10.796875 \r\nQ 20.953125 6.0625 27.390625 6.0625 \r\nQ 32.5625 6.0625 36.03125 9.234375 \r\nQ 39.5 12.40625 40.4375 19 \r\nz\r\n\" id=\"ArialMT-99\"/>\r\n       <path d=\"M 3.328125 25.921875 \r\nQ 3.328125 40.328125 11.328125 47.265625 \r\nQ 18.015625 53.03125 27.640625 53.03125 \r\nQ 38.328125 53.03125 45.109375 46.015625 \r\nQ 51.90625 39.015625 51.90625 26.65625 \r\nQ 51.90625 16.65625 48.90625 10.90625 \r\nQ 45.90625 5.171875 40.15625 2 \r\nQ 34.421875 -1.171875 27.640625 -1.171875 \r\nQ 16.75 -1.171875 10.03125 5.8125 \r\nQ 3.328125 12.796875 3.328125 25.921875 \r\nz\r\nM 12.359375 25.921875 \r\nQ 12.359375 15.96875 16.703125 11.015625 \r\nQ 21.046875 6.0625 27.640625 6.0625 \r\nQ 34.1875 6.0625 38.53125 11.03125 \r\nQ 42.875 16.015625 42.875 26.21875 \r\nQ 42.875 35.84375 38.5 40.796875 \r\nQ 34.125 45.75 27.640625 45.75 \r\nQ 21.046875 45.75 16.703125 40.8125 \r\nQ 12.359375 35.890625 12.359375 25.921875 \r\nz\r\n\" id=\"ArialMT-111\"/>\r\n       <path d=\"M 40.578125 0 \r\nL 40.578125 7.625 \r\nQ 34.515625 -1.171875 24.125 -1.171875 \r\nQ 19.53125 -1.171875 15.546875 0.578125 \r\nQ 11.578125 2.34375 9.640625 5 \r\nQ 7.71875 7.671875 6.9375 11.53125 \r\nQ 6.390625 14.109375 6.390625 19.734375 \r\nL 6.390625 51.859375 \r\nL 15.1875 51.859375 \r\nL 15.1875 23.09375 \r\nQ 15.1875 16.21875 15.71875 13.8125 \r\nQ 16.546875 10.359375 19.234375 8.375 \r\nQ 21.921875 6.390625 25.875 6.390625 \r\nQ 29.828125 6.390625 33.296875 8.421875 \r\nQ 36.765625 10.453125 38.203125 13.9375 \r\nQ 39.65625 17.4375 39.65625 24.078125 \r\nL 39.65625 51.859375 \r\nL 48.4375 51.859375 \r\nL 48.4375 0 \r\nz\r\n\" id=\"ArialMT-117\"/>\r\n       <path d=\"M 6.59375 0 \r\nL 6.59375 51.859375 \r\nL 14.5 51.859375 \r\nL 14.5 44.484375 \r\nQ 20.21875 53.03125 31 53.03125 \r\nQ 35.6875 53.03125 39.625 51.34375 \r\nQ 43.5625 49.65625 45.515625 46.921875 \r\nQ 47.46875 44.1875 48.25 40.4375 \r\nQ 48.734375 37.984375 48.734375 31.890625 \r\nL 48.734375 0 \r\nL 39.9375 0 \r\nL 39.9375 31.546875 \r\nQ 39.9375 36.921875 38.90625 39.578125 \r\nQ 37.890625 42.234375 35.28125 43.8125 \r\nQ 32.671875 45.40625 29.15625 45.40625 \r\nQ 23.53125 45.40625 19.453125 41.84375 \r\nQ 15.375 38.28125 15.375 28.328125 \r\nL 15.375 0 \r\nz\r\n\" id=\"ArialMT-110\"/>\r\n       <path d=\"M 25.78125 7.859375 \r\nL 27.046875 0.09375 \r\nQ 23.34375 -0.6875 20.40625 -0.6875 \r\nQ 15.625 -0.6875 12.984375 0.828125 \r\nQ 10.359375 2.34375 9.28125 4.8125 \r\nQ 8.203125 7.28125 8.203125 15.1875 \r\nL 8.203125 45.015625 \r\nL 1.765625 45.015625 \r\nL 1.765625 51.859375 \r\nL 8.203125 51.859375 \r\nL 8.203125 64.703125 \r\nL 16.9375 69.96875 \r\nL 16.9375 51.859375 \r\nL 25.78125 51.859375 \r\nL 25.78125 45.015625 \r\nL 16.9375 45.015625 \r\nL 16.9375 14.703125 \r\nQ 16.9375 10.9375 17.40625 9.859375 \r\nQ 17.875 8.796875 18.921875 8.15625 \r\nQ 19.96875 7.515625 21.921875 7.515625 \r\nQ 23.390625 7.515625 25.78125 7.859375 \r\nz\r\n\" id=\"ArialMT-116\"/>\r\n       <path d=\"M 3.078125 15.484375 \r\nL 11.765625 16.84375 \r\nQ 12.5 11.625 15.84375 8.84375 \r\nQ 19.1875 6.0625 25.203125 6.0625 \r\nQ 31.25 6.0625 34.171875 8.515625 \r\nQ 37.109375 10.984375 37.109375 14.3125 \r\nQ 37.109375 17.28125 34.515625 19 \r\nQ 32.71875 20.171875 25.53125 21.96875 \r\nQ 15.875 24.421875 12.140625 26.203125 \r\nQ 8.40625 27.984375 6.46875 31.125 \r\nQ 4.546875 34.28125 4.546875 38.09375 \r\nQ 4.546875 41.546875 6.125 44.5 \r\nQ 7.71875 47.46875 10.453125 49.421875 \r\nQ 12.5 50.921875 16.03125 51.96875 \r\nQ 19.578125 53.03125 23.640625 53.03125 \r\nQ 29.734375 53.03125 34.34375 51.265625 \r\nQ 38.96875 49.515625 41.15625 46.5 \r\nQ 43.359375 43.5 44.1875 38.484375 \r\nL 35.59375 37.3125 \r\nQ 35.015625 41.3125 32.203125 43.546875 \r\nQ 29.390625 45.796875 24.265625 45.796875 \r\nQ 18.21875 45.796875 15.625 43.796875 \r\nQ 13.03125 41.796875 13.03125 39.109375 \r\nQ 13.03125 37.40625 14.109375 36.03125 \r\nQ 15.1875 34.625 17.484375 33.6875 \r\nQ 18.796875 33.203125 25.25 31.453125 \r\nQ 34.578125 28.953125 38.25 27.359375 \r\nQ 41.9375 25.78125 44.03125 22.75 \r\nQ 46.140625 19.734375 46.140625 15.234375 \r\nQ 46.140625 10.84375 43.578125 6.953125 \r\nQ 41.015625 3.078125 36.171875 0.953125 \r\nQ 31.34375 -1.171875 25.25 -1.171875 \r\nQ 15.140625 -1.171875 9.84375 3.03125 \r\nQ 4.546875 7.234375 3.078125 15.484375 \r\nz\r\n\" id=\"ArialMT-115\"/>\r\n      </defs>\r\n      <use xlink:href=\"#ArialMT-99\"/>\r\n      <use x=\"50\" xlink:href=\"#ArialMT-111\"/>\r\n      <use x=\"105.615234\" xlink:href=\"#ArialMT-117\"/>\r\n      <use x=\"161.230469\" xlink:href=\"#ArialMT-110\"/>\r\n      <use x=\"216.845703\" xlink:href=\"#ArialMT-116\"/>\r\n      <use x=\"244.628906\" xlink:href=\"#ArialMT-115\"/>\r\n     </g>\r\n    </g>\r\n   </g>\r\n   <g id=\"matplotlib.axis_2\">\r\n    <g id=\"ytick_1\">\r\n     <g id=\"text_10\">\r\n      <!-- covid -->\r\n      <g style=\"fill:#262626;\" transform=\"translate(64.271875 38.290217)scale(0.1 -0.1)\">\r\n       <defs>\r\n        <path d=\"M 21 0 \r\nL 1.265625 51.859375 \r\nL 10.546875 51.859375 \r\nL 21.6875 20.796875 \r\nQ 23.484375 15.765625 25 10.359375 \r\nQ 26.171875 14.453125 28.265625 20.21875 \r\nL 39.796875 51.859375 \r\nL 48.828125 51.859375 \r\nL 29.203125 0 \r\nz\r\n\" id=\"ArialMT-118\"/>\r\n        <path d=\"M 6.640625 61.46875 \r\nL 6.640625 71.578125 \r\nL 15.4375 71.578125 \r\nL 15.4375 61.46875 \r\nz\r\nM 6.640625 0 \r\nL 6.640625 51.859375 \r\nL 15.4375 51.859375 \r\nL 15.4375 0 \r\nz\r\n\" id=\"ArialMT-105\"/>\r\n        <path d=\"M 40.234375 0 \r\nL 40.234375 6.546875 \r\nQ 35.296875 -1.171875 25.734375 -1.171875 \r\nQ 19.53125 -1.171875 14.328125 2.25 \r\nQ 9.125 5.671875 6.265625 11.796875 \r\nQ 3.421875 17.921875 3.421875 25.875 \r\nQ 3.421875 33.640625 6 39.96875 \r\nQ 8.59375 46.296875 13.765625 49.65625 \r\nQ 18.953125 53.03125 25.34375 53.03125 \r\nQ 30.03125 53.03125 33.6875 51.046875 \r\nQ 37.359375 49.078125 39.65625 45.90625 \r\nL 39.65625 71.578125 \r\nL 48.390625 71.578125 \r\nL 48.390625 0 \r\nz\r\nM 12.453125 25.875 \r\nQ 12.453125 15.921875 16.640625 10.984375 \r\nQ 20.84375 6.0625 26.5625 6.0625 \r\nQ 32.328125 6.0625 36.34375 10.765625 \r\nQ 40.375 15.484375 40.375 25.140625 \r\nQ 40.375 35.796875 36.265625 40.765625 \r\nQ 32.171875 45.75 26.171875 45.75 \r\nQ 20.3125 45.75 16.375 40.96875 \r\nQ 12.453125 36.1875 12.453125 25.875 \r\nz\r\n\" id=\"ArialMT-100\"/>\r\n       </defs>\r\n       <use xlink:href=\"#ArialMT-99\"/>\r\n       <use x=\"50\" xlink:href=\"#ArialMT-111\"/>\r\n       <use x=\"105.615234\" xlink:href=\"#ArialMT-118\"/>\r\n       <use x=\"155.615234\" xlink:href=\"#ArialMT-105\"/>\r\n       <use x=\"177.832031\" xlink:href=\"#ArialMT-100\"/>\r\n      </g>\r\n     </g>\r\n    </g>\r\n    <g id=\"ytick_2\">\r\n     <g id=\"text_11\">\r\n      <!-- 19 -->\r\n      <g style=\"fill:#262626;\" transform=\"translate(76.49375 64.134089)scale(0.1 -0.1)\">\r\n       <defs>\r\n        <path d=\"M 5.46875 16.546875 \r\nL 13.921875 17.328125 \r\nQ 14.984375 11.375 18.015625 8.6875 \r\nQ 21.046875 6 25.78125 6 \r\nQ 29.828125 6 32.875 7.859375 \r\nQ 35.9375 9.71875 37.890625 12.8125 \r\nQ 39.84375 15.921875 41.15625 21.1875 \r\nQ 42.484375 26.46875 42.484375 31.9375 \r\nQ 42.484375 32.515625 42.4375 33.6875 \r\nQ 39.796875 29.5 35.234375 26.875 \r\nQ 30.671875 24.265625 25.34375 24.265625 \r\nQ 16.453125 24.265625 10.296875 30.703125 \r\nQ 4.15625 37.15625 4.15625 47.703125 \r\nQ 4.15625 58.59375 10.578125 65.234375 \r\nQ 17 71.875 26.65625 71.875 \r\nQ 33.640625 71.875 39.421875 68.109375 \r\nQ 45.21875 64.359375 48.21875 57.390625 \r\nQ 51.21875 50.4375 51.21875 37.25 \r\nQ 51.21875 23.53125 48.234375 15.40625 \r\nQ 45.265625 7.28125 39.375 3.03125 \r\nQ 33.5 -1.21875 25.59375 -1.21875 \r\nQ 17.1875 -1.21875 11.859375 3.4375 \r\nQ 6.546875 8.109375 5.46875 16.546875 \r\nz\r\nM 41.453125 48.140625 \r\nQ 41.453125 55.71875 37.421875 60.15625 \r\nQ 33.40625 64.59375 27.734375 64.59375 \r\nQ 21.875 64.59375 17.53125 59.8125 \r\nQ 13.1875 55.03125 13.1875 47.40625 \r\nQ 13.1875 40.578125 17.3125 36.296875 \r\nQ 21.4375 32.03125 27.484375 32.03125 \r\nQ 33.59375 32.03125 37.515625 36.296875 \r\nQ 41.453125 40.578125 41.453125 48.140625 \r\nz\r\n\" id=\"ArialMT-57\"/>\r\n       </defs>\r\n       <use xlink:href=\"#ArialMT-49\"/>\r\n       <use x=\"55.615234\" xlink:href=\"#ArialMT-57\"/>\r\n      </g>\r\n     </g>\r\n    </g>\r\n    <g id=\"ytick_3\">\r\n     <g id=\"text_12\">\r\n      <!-- covidcanada -->\r\n      <g style=\"fill:#262626;\" transform=\"translate(31.467187 89.977961)scale(0.1 -0.1)\">\r\n       <defs>\r\n        <path d=\"M 40.4375 6.390625 \r\nQ 35.546875 2.25 31.03125 0.53125 \r\nQ 26.515625 -1.171875 21.34375 -1.171875 \r\nQ 12.796875 -1.171875 8.203125 3 \r\nQ 3.609375 7.171875 3.609375 13.671875 \r\nQ 3.609375 17.484375 5.34375 20.625 \r\nQ 7.078125 23.78125 9.890625 25.6875 \r\nQ 12.703125 27.59375 16.21875 28.5625 \r\nQ 18.796875 29.25 24.03125 29.890625 \r\nQ 34.671875 31.15625 39.703125 32.90625 \r\nQ 39.75 34.71875 39.75 35.203125 \r\nQ 39.75 40.578125 37.25 42.78125 \r\nQ 33.890625 45.75 27.25 45.75 \r\nQ 21.046875 45.75 18.09375 43.578125 \r\nQ 15.140625 41.40625 13.71875 35.890625 \r\nL 5.125 37.0625 \r\nQ 6.296875 42.578125 8.984375 45.96875 \r\nQ 11.671875 49.359375 16.75 51.1875 \r\nQ 21.828125 53.03125 28.515625 53.03125 \r\nQ 35.15625 53.03125 39.296875 51.46875 \r\nQ 43.453125 49.90625 45.40625 47.53125 \r\nQ 47.359375 45.171875 48.140625 41.546875 \r\nQ 48.578125 39.3125 48.578125 33.453125 \r\nL 48.578125 21.734375 \r\nQ 48.578125 9.46875 49.140625 6.21875 \r\nQ 49.703125 2.984375 51.375 0 \r\nL 42.1875 0 \r\nQ 40.828125 2.734375 40.4375 6.390625 \r\nz\r\nM 39.703125 26.03125 \r\nQ 34.90625 24.078125 25.34375 22.703125 \r\nQ 19.921875 21.921875 17.671875 20.9375 \r\nQ 15.4375 19.96875 14.203125 18.09375 \r\nQ 12.984375 16.21875 12.984375 13.921875 \r\nQ 12.984375 10.40625 15.640625 8.0625 \r\nQ 18.3125 5.71875 23.4375 5.71875 \r\nQ 28.515625 5.71875 32.46875 7.9375 \r\nQ 36.421875 10.15625 38.28125 14.015625 \r\nQ 39.703125 17 39.703125 22.796875 \r\nz\r\n\" id=\"ArialMT-97\"/>\r\n       </defs>\r\n       <use xlink:href=\"#ArialMT-99\"/>\r\n       <use x=\"50\" xlink:href=\"#ArialMT-111\"/>\r\n       <use x=\"105.615234\" xlink:href=\"#ArialMT-118\"/>\r\n       <use x=\"155.615234\" xlink:href=\"#ArialMT-105\"/>\r\n       <use x=\"177.832031\" xlink:href=\"#ArialMT-100\"/>\r\n       <use x=\"233.447266\" xlink:href=\"#ArialMT-99\"/>\r\n       <use x=\"283.447266\" xlink:href=\"#ArialMT-97\"/>\r\n       <use x=\"339.0625\" xlink:href=\"#ArialMT-110\"/>\r\n       <use x=\"394.677734\" xlink:href=\"#ArialMT-97\"/>\r\n       <use x=\"450.292969\" xlink:href=\"#ArialMT-100\"/>\r\n       <use x=\"505.908203\" xlink:href=\"#ArialMT-97\"/>\r\n      </g>\r\n     </g>\r\n    </g>\r\n    <g id=\"ytick_4\">\r\n     <g id=\"text_13\">\r\n      <!-- canada -->\r\n      <g style=\"fill:#262626;\" transform=\"translate(54.810937 115.821833)scale(0.1 -0.1)\">\r\n       <use xlink:href=\"#ArialMT-99\"/>\r\n       <use x=\"50\" xlink:href=\"#ArialMT-97\"/>\r\n       <use x=\"105.615234\" xlink:href=\"#ArialMT-110\"/>\r\n       <use x=\"161.230469\" xlink:href=\"#ArialMT-97\"/>\r\n       <use x=\"216.845703\" xlink:href=\"#ArialMT-100\"/>\r\n       <use x=\"272.460938\" xlink:href=\"#ArialMT-97\"/>\r\n      </g>\r\n     </g>\r\n    </g>\r\n    <g id=\"ytick_5\">\r\n     <g id=\"text_14\">\r\n      <!-- cases -->\r\n      <g style=\"fill:#262626;\" transform=\"translate(61.49375 141.665704)scale(0.1 -0.1)\">\r\n       <defs>\r\n        <path d=\"M 42.09375 16.703125 \r\nL 51.171875 15.578125 \r\nQ 49.03125 7.625 43.21875 3.21875 \r\nQ 37.40625 -1.171875 28.375 -1.171875 \r\nQ 17 -1.171875 10.328125 5.828125 \r\nQ 3.65625 12.84375 3.65625 25.484375 \r\nQ 3.65625 38.578125 10.390625 45.796875 \r\nQ 17.140625 53.03125 27.875 53.03125 \r\nQ 38.28125 53.03125 44.875 45.953125 \r\nQ 51.46875 38.875 51.46875 26.03125 \r\nQ 51.46875 25.25 51.421875 23.6875 \r\nL 12.75 23.6875 \r\nQ 13.234375 15.140625 17.578125 10.59375 \r\nQ 21.921875 6.0625 28.421875 6.0625 \r\nQ 33.25 6.0625 36.671875 8.59375 \r\nQ 40.09375 11.140625 42.09375 16.703125 \r\nz\r\nM 13.234375 30.90625 \r\nL 42.1875 30.90625 \r\nQ 41.609375 37.453125 38.875 40.71875 \r\nQ 34.671875 45.796875 27.984375 45.796875 \r\nQ 21.921875 45.796875 17.796875 41.75 \r\nQ 13.671875 37.703125 13.234375 30.90625 \r\nz\r\n\" id=\"ArialMT-101\"/>\r\n       </defs>\r\n       <use xlink:href=\"#ArialMT-99\"/>\r\n       <use x=\"50\" xlink:href=\"#ArialMT-97\"/>\r\n       <use x=\"105.615234\" xlink:href=\"#ArialMT-115\"/>\r\n       <use x=\"155.615234\" xlink:href=\"#ArialMT-101\"/>\r\n       <use x=\"211.230469\" xlink:href=\"#ArialMT-115\"/>\r\n      </g>\r\n     </g>\r\n    </g>\r\n    <g id=\"ytick_6\">\r\n     <g id=\"text_15\">\r\n      <!-- vaccine -->\r\n      <g style=\"fill:#262626;\" transform=\"translate(53.710937 167.509576)scale(0.1 -0.1)\">\r\n       <use xlink:href=\"#ArialMT-118\"/>\r\n       <use x=\"50\" xlink:href=\"#ArialMT-97\"/>\r\n       <use x=\"105.615234\" xlink:href=\"#ArialMT-99\"/>\r\n       <use x=\"155.615234\" xlink:href=\"#ArialMT-99\"/>\r\n       <use x=\"205.615234\" xlink:href=\"#ArialMT-105\"/>\r\n       <use x=\"227.832031\" xlink:href=\"#ArialMT-110\"/>\r\n       <use x=\"283.447266\" xlink:href=\"#ArialMT-101\"/>\r\n      </g>\r\n     </g>\r\n    </g>\r\n    <g id=\"ytick_7\">\r\n     <g id=\"text_16\">\r\n      <!-- covid19 -->\r\n      <g style=\"fill:#262626;\" transform=\"translate(53.15 193.353448)scale(0.1 -0.1)\">\r\n       <use xlink:href=\"#ArialMT-99\"/>\r\n       <use x=\"50\" xlink:href=\"#ArialMT-111\"/>\r\n       <use x=\"105.615234\" xlink:href=\"#ArialMT-118\"/>\r\n       <use x=\"155.615234\" xlink:href=\"#ArialMT-105\"/>\r\n       <use x=\"177.832031\" xlink:href=\"#ArialMT-100\"/>\r\n       <use x=\"233.447266\" xlink:href=\"#ArialMT-49\"/>\r\n       <use x=\"289.0625\" xlink:href=\"#ArialMT-57\"/>\r\n      </g>\r\n     </g>\r\n    </g>\r\n    <g id=\"ytick_8\">\r\n     <g id=\"text_17\">\r\n      <!-- new -->\r\n      <g style=\"fill:#262626;\" transform=\"translate(69.271875 219.19732)scale(0.1 -0.1)\">\r\n       <defs>\r\n        <path d=\"M 16.15625 0 \r\nL 0.296875 51.859375 \r\nL 9.375 51.859375 \r\nL 17.625 21.921875 \r\nL 20.703125 10.796875 \r\nQ 20.90625 11.625 23.390625 21.484375 \r\nL 31.640625 51.859375 \r\nL 40.671875 51.859375 \r\nL 48.4375 21.78125 \r\nL 51.03125 11.859375 \r\nL 54 21.875 \r\nL 62.890625 51.859375 \r\nL 71.4375 51.859375 \r\nL 55.21875 0 \r\nL 46.09375 0 \r\nL 37.84375 31.0625 \r\nL 35.84375 39.890625 \r\nL 25.34375 0 \r\nz\r\n\" id=\"ArialMT-119\"/>\r\n       </defs>\r\n       <use xlink:href=\"#ArialMT-110\"/>\r\n       <use x=\"55.615234\" xlink:href=\"#ArialMT-101\"/>\r\n       <use x=\"111.230469\" xlink:href=\"#ArialMT-119\"/>\r\n      </g>\r\n     </g>\r\n    </g>\r\n    <g id=\"ytick_9\">\r\n     <g id=\"text_18\">\r\n      <!-- covidbc -->\r\n      <g style=\"fill:#262626;\" transform=\"translate(53.710937 245.041192)scale(0.1 -0.1)\">\r\n       <defs>\r\n        <path d=\"M 14.703125 0 \r\nL 6.546875 0 \r\nL 6.546875 71.578125 \r\nL 15.328125 71.578125 \r\nL 15.328125 46.046875 \r\nQ 20.90625 53.03125 29.546875 53.03125 \r\nQ 34.328125 53.03125 38.59375 51.09375 \r\nQ 42.875 49.171875 45.625 45.671875 \r\nQ 48.390625 42.1875 49.953125 37.25 \r\nQ 51.515625 32.328125 51.515625 26.703125 \r\nQ 51.515625 13.375 44.921875 6.09375 \r\nQ 38.328125 -1.171875 29.109375 -1.171875 \r\nQ 19.921875 -1.171875 14.703125 6.5 \r\nz\r\nM 14.59375 26.3125 \r\nQ 14.59375 17 17.140625 12.84375 \r\nQ 21.296875 6.0625 28.375 6.0625 \r\nQ 34.125 6.0625 38.328125 11.0625 \r\nQ 42.53125 16.0625 42.53125 25.984375 \r\nQ 42.53125 36.140625 38.5 40.96875 \r\nQ 34.46875 45.796875 28.765625 45.796875 \r\nQ 23 45.796875 18.796875 40.796875 \r\nQ 14.59375 35.796875 14.59375 26.3125 \r\nz\r\n\" id=\"ArialMT-98\"/>\r\n       </defs>\r\n       <use xlink:href=\"#ArialMT-99\"/>\r\n       <use x=\"50\" xlink:href=\"#ArialMT-111\"/>\r\n       <use x=\"105.615234\" xlink:href=\"#ArialMT-118\"/>\r\n       <use x=\"155.615234\" xlink:href=\"#ArialMT-105\"/>\r\n       <use x=\"177.832031\" xlink:href=\"#ArialMT-100\"/>\r\n       <use x=\"233.447266\" xlink:href=\"#ArialMT-98\"/>\r\n       <use x=\"289.0625\" xlink:href=\"#ArialMT-99\"/>\r\n      </g>\r\n     </g>\r\n    </g>\r\n    <g id=\"ytick_10\">\r\n     <g id=\"text_19\">\r\n      <!-- ontario -->\r\n      <g style=\"fill:#262626;\" transform=\"translate(57.042187 270.885064)scale(0.1 -0.1)\">\r\n       <defs>\r\n        <path d=\"M 6.5 0 \r\nL 6.5 51.859375 \r\nL 14.40625 51.859375 \r\nL 14.40625 44 \r\nQ 17.4375 49.515625 20 51.265625 \r\nQ 22.5625 53.03125 25.640625 53.03125 \r\nQ 30.078125 53.03125 34.671875 50.203125 \r\nL 31.640625 42.046875 \r\nQ 28.421875 43.953125 25.203125 43.953125 \r\nQ 22.3125 43.953125 20.015625 42.21875 \r\nQ 17.71875 40.484375 16.75 37.40625 \r\nQ 15.28125 32.71875 15.28125 27.15625 \r\nL 15.28125 0 \r\nz\r\n\" id=\"ArialMT-114\"/>\r\n       </defs>\r\n       <use xlink:href=\"#ArialMT-111\"/>\r\n       <use x=\"55.615234\" xlink:href=\"#ArialMT-110\"/>\r\n       <use x=\"111.230469\" xlink:href=\"#ArialMT-116\"/>\r\n       <use x=\"139.013672\" xlink:href=\"#ArialMT-97\"/>\r\n       <use x=\"194.628906\" xlink:href=\"#ArialMT-114\"/>\r\n       <use x=\"227.929688\" xlink:href=\"#ArialMT-105\"/>\r\n       <use x=\"250.146484\" xlink:href=\"#ArialMT-111\"/>\r\n      </g>\r\n     </g>\r\n    </g>\r\n    <g id=\"ytick_11\">\r\n     <g id=\"text_20\">\r\n      <!-- travel -->\r\n      <g style=\"fill:#262626;\" transform=\"translate(63.164062 296.728935)scale(0.1 -0.1)\">\r\n       <defs>\r\n        <path d=\"M 6.390625 0 \r\nL 6.390625 71.578125 \r\nL 15.1875 71.578125 \r\nL 15.1875 0 \r\nz\r\n\" id=\"ArialMT-108\"/>\r\n       </defs>\r\n       <use xlink:href=\"#ArialMT-116\"/>\r\n       <use x=\"27.783203\" xlink:href=\"#ArialMT-114\"/>\r\n       <use x=\"61.083984\" xlink:href=\"#ArialMT-97\"/>\r\n       <use x=\"116.699219\" xlink:href=\"#ArialMT-118\"/>\r\n       <use x=\"166.699219\" xlink:href=\"#ArialMT-101\"/>\r\n       <use x=\"222.314453\" xlink:href=\"#ArialMT-108\"/>\r\n      </g>\r\n     </g>\r\n    </g>\r\n    <g id=\"ytick_12\">\r\n     <g id=\"text_21\">\r\n      <!-- 2021 -->\r\n      <g style=\"fill:#262626;\" transform=\"translate(65.371875 322.572807)scale(0.1 -0.1)\">\r\n       <use xlink:href=\"#ArialMT-50\"/>\r\n       <use x=\"55.615234\" xlink:href=\"#ArialMT-48\"/>\r\n       <use x=\"111.230469\" xlink:href=\"#ArialMT-50\"/>\r\n       <use x=\"166.845703\" xlink:href=\"#ArialMT-49\"/>\r\n      </g>\r\n     </g>\r\n    </g>\r\n    <g id=\"ytick_13\">\r\n     <g id=\"text_22\">\r\n      <!-- pandemic -->\r\n      <g style=\"fill:#262626;\" transform=\"translate(44.259375 348.416679)scale(0.1 -0.1)\">\r\n       <defs>\r\n        <path d=\"M 6.59375 -19.875 \r\nL 6.59375 51.859375 \r\nL 14.59375 51.859375 \r\nL 14.59375 45.125 \r\nQ 17.4375 49.078125 21 51.046875 \r\nQ 24.5625 53.03125 29.640625 53.03125 \r\nQ 36.28125 53.03125 41.359375 49.609375 \r\nQ 46.4375 46.1875 49.015625 39.953125 \r\nQ 51.609375 33.734375 51.609375 26.3125 \r\nQ 51.609375 18.359375 48.75 11.984375 \r\nQ 45.90625 5.609375 40.453125 2.21875 \r\nQ 35.015625 -1.171875 29 -1.171875 \r\nQ 24.609375 -1.171875 21.109375 0.6875 \r\nQ 17.625 2.546875 15.375 5.375 \r\nL 15.375 -19.875 \r\nz\r\nM 14.546875 25.640625 \r\nQ 14.546875 15.625 18.59375 10.84375 \r\nQ 22.65625 6.0625 28.421875 6.0625 \r\nQ 34.28125 6.0625 38.453125 11.015625 \r\nQ 42.625 15.96875 42.625 26.375 \r\nQ 42.625 36.28125 38.546875 41.203125 \r\nQ 34.46875 46.140625 28.8125 46.140625 \r\nQ 23.1875 46.140625 18.859375 40.890625 \r\nQ 14.546875 35.640625 14.546875 25.640625 \r\nz\r\n\" id=\"ArialMT-112\"/>\r\n        <path d=\"M 6.59375 0 \r\nL 6.59375 51.859375 \r\nL 14.453125 51.859375 \r\nL 14.453125 44.578125 \r\nQ 16.890625 48.390625 20.9375 50.703125 \r\nQ 25 53.03125 30.171875 53.03125 \r\nQ 35.9375 53.03125 39.625 50.640625 \r\nQ 43.3125 48.25 44.828125 43.953125 \r\nQ 50.984375 53.03125 60.84375 53.03125 \r\nQ 68.5625 53.03125 72.703125 48.75 \r\nQ 76.859375 44.484375 76.859375 35.59375 \r\nL 76.859375 0 \r\nL 68.109375 0 \r\nL 68.109375 32.671875 \r\nQ 68.109375 37.9375 67.25 40.25 \r\nQ 66.40625 42.578125 64.15625 43.984375 \r\nQ 61.921875 45.40625 58.890625 45.40625 \r\nQ 53.421875 45.40625 49.796875 41.765625 \r\nQ 46.1875 38.140625 46.1875 30.125 \r\nL 46.1875 0 \r\nL 37.40625 0 \r\nL 37.40625 33.6875 \r\nQ 37.40625 39.546875 35.25 42.46875 \r\nQ 33.109375 45.40625 28.21875 45.40625 \r\nQ 24.515625 45.40625 21.359375 43.453125 \r\nQ 18.21875 41.5 16.796875 37.734375 \r\nQ 15.375 33.984375 15.375 26.90625 \r\nL 15.375 0 \r\nz\r\n\" id=\"ArialMT-109\"/>\r\n       </defs>\r\n       <use xlink:href=\"#ArialMT-112\"/>\r\n       <use x=\"55.615234\" xlink:href=\"#ArialMT-97\"/>\r\n       <use x=\"111.230469\" xlink:href=\"#ArialMT-110\"/>\r\n       <use x=\"166.845703\" xlink:href=\"#ArialMT-100\"/>\r\n       <use x=\"222.460938\" xlink:href=\"#ArialMT-101\"/>\r\n       <use x=\"278.076172\" xlink:href=\"#ArialMT-109\"/>\r\n       <use x=\"361.376953\" xlink:href=\"#ArialMT-105\"/>\r\n       <use x=\"383.59375\" xlink:href=\"#ArialMT-99\"/>\r\n      </g>\r\n     </g>\r\n    </g>\r\n    <g id=\"ytick_14\">\r\n     <g id=\"text_23\">\r\n      <!-- data -->\r\n      <g style=\"fill:#262626;\" transform=\"translate(68.154687 374.260551)scale(0.1 -0.1)\">\r\n       <use xlink:href=\"#ArialMT-100\"/>\r\n       <use x=\"55.615234\" xlink:href=\"#ArialMT-97\"/>\r\n       <use x=\"111.230469\" xlink:href=\"#ArialMT-116\"/>\r\n       <use x=\"139.013672\" xlink:href=\"#ArialMT-97\"/>\r\n      </g>\r\n     </g>\r\n    </g>\r\n    <g id=\"ytick_15\">\r\n     <g id=\"text_24\">\r\n      <!-- canadians -->\r\n      <g style=\"fill:#262626;\" transform=\"translate(42.028125 400.104423)scale(0.1 -0.1)\">\r\n       <use xlink:href=\"#ArialMT-99\"/>\r\n       <use x=\"50\" xlink:href=\"#ArialMT-97\"/>\r\n       <use x=\"105.615234\" xlink:href=\"#ArialMT-110\"/>\r\n       <use x=\"161.230469\" xlink:href=\"#ArialMT-97\"/>\r\n       <use x=\"216.845703\" xlink:href=\"#ArialMT-100\"/>\r\n       <use x=\"272.460938\" xlink:href=\"#ArialMT-105\"/>\r\n       <use x=\"294.677734\" xlink:href=\"#ArialMT-97\"/>\r\n       <use x=\"350.292969\" xlink:href=\"#ArialMT-110\"/>\r\n       <use x=\"405.908203\" xlink:href=\"#ArialMT-115\"/>\r\n      </g>\r\n     </g>\r\n    </g>\r\n    <g id=\"ytick_16\">\r\n     <g id=\"text_25\">\r\n      <!-- doses -->\r\n      <g style=\"fill:#262626;\" transform=\"translate(60.932812 425.948295)scale(0.1 -0.1)\">\r\n       <use xlink:href=\"#ArialMT-100\"/>\r\n       <use x=\"55.615234\" xlink:href=\"#ArialMT-111\"/>\r\n       <use x=\"111.230469\" xlink:href=\"#ArialMT-115\"/>\r\n       <use x=\"161.230469\" xlink:href=\"#ArialMT-101\"/>\r\n       <use x=\"216.845703\" xlink:href=\"#ArialMT-115\"/>\r\n      </g>\r\n     </g>\r\n    </g>\r\n    <g id=\"ytick_17\">\r\n     <g id=\"text_26\">\r\n      <!-- canadian -->\r\n      <g style=\"fill:#262626;\" transform=\"translate(47.028125 451.792166)scale(0.1 -0.1)\">\r\n       <use xlink:href=\"#ArialMT-99\"/>\r\n       <use x=\"50\" xlink:href=\"#ArialMT-97\"/>\r\n       <use x=\"105.615234\" xlink:href=\"#ArialMT-110\"/>\r\n       <use x=\"161.230469\" xlink:href=\"#ArialMT-97\"/>\r\n       <use x=\"216.845703\" xlink:href=\"#ArialMT-100\"/>\r\n       <use x=\"272.460938\" xlink:href=\"#ArialMT-105\"/>\r\n       <use x=\"294.677734\" xlink:href=\"#ArialMT-97\"/>\r\n       <use x=\"350.292969\" xlink:href=\"#ArialMT-110\"/>\r\n      </g>\r\n     </g>\r\n    </g>\r\n    <g id=\"ytick_18\">\r\n     <g id=\"text_27\">\r\n      <!-- covid19canada -->\r\n      <g style=\"fill:#262626;\" transform=\"translate(20.345312 477.636038)scale(0.1 -0.1)\">\r\n       <use xlink:href=\"#ArialMT-99\"/>\r\n       <use x=\"50\" xlink:href=\"#ArialMT-111\"/>\r\n       <use x=\"105.615234\" xlink:href=\"#ArialMT-118\"/>\r\n       <use x=\"155.615234\" xlink:href=\"#ArialMT-105\"/>\r\n       <use x=\"177.832031\" xlink:href=\"#ArialMT-100\"/>\r\n       <use x=\"233.447266\" xlink:href=\"#ArialMT-49\"/>\r\n       <use x=\"289.0625\" xlink:href=\"#ArialMT-57\"/>\r\n       <use x=\"344.677734\" xlink:href=\"#ArialMT-99\"/>\r\n       <use x=\"394.677734\" xlink:href=\"#ArialMT-97\"/>\r\n       <use x=\"450.292969\" xlink:href=\"#ArialMT-110\"/>\r\n       <use x=\"505.908203\" xlink:href=\"#ArialMT-97\"/>\r\n       <use x=\"561.523438\" xlink:href=\"#ArialMT-100\"/>\r\n       <use x=\"617.138672\" xlink:href=\"#ArialMT-97\"/>\r\n      </g>\r\n     </g>\r\n    </g>\r\n    <g id=\"ytick_19\">\r\n     <g id=\"text_28\">\r\n      <!-- news -->\r\n      <g style=\"fill:#262626;\" transform=\"translate(64.271875 503.47991)scale(0.1 -0.1)\">\r\n       <use xlink:href=\"#ArialMT-110\"/>\r\n       <use x=\"55.615234\" xlink:href=\"#ArialMT-101\"/>\r\n       <use x=\"111.230469\" xlink:href=\"#ArialMT-119\"/>\r\n       <use x=\"183.447266\" xlink:href=\"#ArialMT-115\"/>\r\n      </g>\r\n     </g>\r\n    </g>\r\n    <g id=\"ytick_20\">\r\n     <g id=\"text_29\">\r\n      <!-- mandatory -->\r\n      <g style=\"fill:#262626;\" transform=\"translate(40.373437 529.323782)scale(0.1 -0.1)\">\r\n       <defs>\r\n        <path d=\"M 6.203125 -19.96875 \r\nL 5.21875 -11.71875 \r\nQ 8.109375 -12.5 10.25 -12.5 \r\nQ 13.1875 -12.5 14.9375 -11.515625 \r\nQ 16.703125 -10.546875 17.828125 -8.796875 \r\nQ 18.65625 -7.46875 20.515625 -2.25 \r\nQ 20.75 -1.515625 21.296875 -0.09375 \r\nL 1.609375 51.859375 \r\nL 11.078125 51.859375 \r\nL 21.875 21.828125 \r\nQ 23.96875 16.109375 25.640625 9.8125 \r\nQ 27.15625 15.875 29.25 21.625 \r\nL 40.328125 51.859375 \r\nL 49.125 51.859375 \r\nL 29.390625 -0.875 \r\nQ 26.21875 -9.421875 24.46875 -12.640625 \r\nQ 22.125 -17 19.09375 -19.015625 \r\nQ 16.0625 -21.046875 11.859375 -21.046875 \r\nQ 9.328125 -21.046875 6.203125 -19.96875 \r\nz\r\n\" id=\"ArialMT-121\"/>\r\n       </defs>\r\n       <use xlink:href=\"#ArialMT-109\"/>\r\n       <use x=\"83.300781\" xlink:href=\"#ArialMT-97\"/>\r\n       <use x=\"138.916016\" xlink:href=\"#ArialMT-110\"/>\r\n       <use x=\"194.53125\" xlink:href=\"#ArialMT-100\"/>\r\n       <use x=\"250.146484\" xlink:href=\"#ArialMT-97\"/>\r\n       <use x=\"305.761719\" xlink:href=\"#ArialMT-116\"/>\r\n       <use x=\"333.544922\" xlink:href=\"#ArialMT-111\"/>\r\n       <use x=\"389.160156\" xlink:href=\"#ArialMT-114\"/>\r\n       <use x=\"422.460938\" xlink:href=\"#ArialMT-121\"/>\r\n      </g>\r\n     </g>\r\n    </g>\r\n    <g id=\"text_30\">\r\n     <!-- words -->\r\n     <g style=\"fill:#262626;\" transform=\"translate(14.357812 287.103844)rotate(-90)scale(0.1 -0.1)\">\r\n      <use xlink:href=\"#ArialMT-119\"/>\r\n      <use x=\"72.216797\" xlink:href=\"#ArialMT-111\"/>\r\n      <use x=\"127.832031\" xlink:href=\"#ArialMT-114\"/>\r\n      <use x=\"161.132812\" xlink:href=\"#ArialMT-100\"/>\r\n      <use x=\"216.748047\" xlink:href=\"#ArialMT-115\"/>\r\n     </g>\r\n    </g>\r\n   </g>\r\n   <g id=\"patch_3\">\r\n    <path clip-path=\"url(#p7ee4c48447)\" d=\"M 94.615625 24.373762 \r\nL 891.758482 24.373762 \r\nL 891.758482 45.04886 \r\nL 94.615625 45.04886 \r\nz\r\n\" style=\"fill:#e68193;stroke:#ffffff;stroke-linejoin:miter;\"/>\r\n   </g>\r\n   <g id=\"patch_4\">\r\n    <path clip-path=\"url(#p7ee4c48447)\" d=\"M 94.615625 50.217634 \r\nL 807.848708 50.217634 \r\nL 807.848708 70.892731 \r\nL 94.615625 70.892731 \r\nz\r\n\" style=\"fill:#de7e4b;stroke:#ffffff;stroke-linejoin:miter;\"/>\r\n   </g>\r\n   <g id=\"patch_5\">\r\n    <path clip-path=\"url(#p7ee4c48447)\" d=\"M 94.615625 76.061506 \r\nL 723.938933 76.061506 \r\nL 723.938933 96.736603 \r\nL 94.615625 96.736603 \r\nz\r\n\" style=\"fill:#bb8c45;stroke:#ffffff;stroke-linejoin:miter;\"/>\r\n   </g>\r\n   <g id=\"patch_6\">\r\n    <path clip-path=\"url(#p7ee4c48447)\" d=\"M 94.615625 101.905378 \r\nL 681.984046 101.905378 \r\nL 681.984046 122.580475 \r\nL 94.615625 122.580475 \r\nz\r\n\" style=\"fill:#a39142;stroke:#ffffff;stroke-linejoin:miter;\"/>\r\n   </g>\r\n   <g id=\"patch_7\">\r\n    <path clip-path=\"url(#p7ee4c48447)\" d=\"M 94.615625 127.749249 \r\nL 640.029159 127.749249 \r\nL 640.029159 148.424347 \r\nL 94.615625 148.424347 \r\nz\r\n\" style=\"fill:#8c9540;stroke:#ffffff;stroke-linejoin:miter;\"/>\r\n   </g>\r\n   <g id=\"patch_8\">\r\n    <path clip-path=\"url(#p7ee4c48447)\" d=\"M 94.615625 153.593121 \r\nL 577.096828 153.593121 \r\nL 577.096828 174.268219 \r\nL 94.615625 174.268219 \r\nz\r\n\" style=\"fill:#6d9d41;stroke:#ffffff;stroke-linejoin:miter;\"/>\r\n   </g>\r\n   <g id=\"patch_9\">\r\n    <path clip-path=\"url(#p7ee4c48447)\" d=\"M 94.615625 179.436993 \r\nL 514.164497 179.436993 \r\nL 514.164497 200.112091 \r\nL 94.615625 200.112091 \r\nz\r\n\" style=\"fill:#42a269;stroke:#ffffff;stroke-linejoin:miter;\"/>\r\n   </g>\r\n   <g id=\"patch_10\">\r\n    <path clip-path=\"url(#p7ee4c48447)\" d=\"M 94.615625 205.280865 \r\nL 451.232166 205.280865 \r\nL 451.232166 225.955962 \r\nL 94.615625 225.955962 \r\nz\r\n\" style=\"fill:#449f87;stroke:#ffffff;stroke-linejoin:miter;\"/>\r\n   </g>\r\n   <g id=\"patch_11\">\r\n    <path clip-path=\"url(#p7ee4c48447)\" d=\"M 94.615625 231.124737 \r\nL 388.299836 231.124737 \r\nL 388.299836 251.799834 \r\nL 94.615625 251.799834 \r\nz\r\n\" style=\"fill:#459e97;stroke:#ffffff;stroke-linejoin:miter;\"/>\r\n   </g>\r\n   <g id=\"patch_12\">\r\n    <path clip-path=\"url(#p7ee4c48447)\" d=\"M 94.615625 256.968609 \r\nL 346.344948 256.968609 \r\nL 346.344948 277.643706 \r\nL 94.615625 277.643706 \r\nz\r\n\" style=\"fill:#479ea8;stroke:#ffffff;stroke-linejoin:miter;\"/>\r\n   </g>\r\n   <g id=\"patch_13\">\r\n    <path clip-path=\"url(#p7ee4c48447)\" d=\"M 94.615625 282.81248 \r\nL 304.390061 282.81248 \r\nL 304.390061 303.487578 \r\nL 94.615625 303.487578 \r\nz\r\n\" style=\"fill:#4c9fbd;stroke:#ffffff;stroke-linejoin:miter;\"/>\r\n   </g>\r\n   <g id=\"patch_14\">\r\n    <path clip-path=\"url(#p7ee4c48447)\" d=\"M 94.615625 308.656352 \r\nL 262.435174 308.656352 \r\nL 262.435174 329.33145 \r\nL 94.615625 329.33145 \r\nz\r\n\" style=\"fill:#6da0e1;stroke:#ffffff;stroke-linejoin:miter;\"/>\r\n   </g>\r\n   <g id=\"patch_15\">\r\n    <path clip-path=\"url(#p7ee4c48447)\" d=\"M 94.615625 334.500224 \r\nL 220.480287 334.500224 \r\nL 220.480287 355.175322 \r\nL 94.615625 355.175322 \r\nz\r\n\" style=\"fill:#ab99e7;stroke:#ffffff;stroke-linejoin:miter;\"/>\r\n   </g>\r\n   <g id=\"patch_16\">\r\n    <path clip-path=\"url(#p7ee4c48447)\" d=\"M 94.615625 360.344096 \r\nL 178.525399 360.344096 \r\nL 178.525399 381.019193 \r\nL 94.615625 381.019193 \r\nz\r\n\" style=\"fill:#ce84e4;stroke:#ffffff;stroke-linejoin:miter;\"/>\r\n   </g>\r\n   <g id=\"patch_17\">\r\n    <path clip-path=\"url(#p7ee4c48447)\" d=\"M 94.615625 386.187968 \r\nL 136.570512 386.187968 \r\nL 136.570512 406.863065 \r\nL 94.615625 406.863065 \r\nz\r\n\" style=\"fill:#e274d1;stroke:#ffffff;stroke-linejoin:miter;\"/>\r\n   </g>\r\n   <g id=\"patch_18\">\r\n    <path clip-path=\"url(#p7ee4c48447)\" d=\"M 94.615625 412.03184 \r\nL 94.615625 412.03184 \r\nL 94.615625 432.706937 \r\nL 94.615625 432.706937 \r\nz\r\n\" style=\"fill:#e47cb4;stroke:#ffffff;stroke-linejoin:miter;\"/>\r\n   </g>\r\n   <g id=\"line2d_9\">\r\n    <path clip-path=\"url(#p7ee4c48447)\" d=\"M 0 0 \r\n\" style=\"fill:none;stroke:#424242;stroke-linecap:round;stroke-width:4.5;\"/>\r\n   </g>\r\n   <g id=\"line2d_10\">\r\n    <path clip-path=\"url(#p7ee4c48447)\" d=\"M 765.89382 60.555183 \r\nL 849.803595 60.555183 \r\n\" style=\"fill:none;stroke:#424242;stroke-linecap:round;stroke-width:4.5;\"/>\r\n   </g>\r\n   <g id=\"line2d_11\">\r\n    <path clip-path=\"url(#p7ee4c48447)\" d=\"M 0 0 \r\n\" style=\"fill:none;stroke:#424242;stroke-linecap:round;stroke-width:4.5;\"/>\r\n   </g>\r\n   <g id=\"line2d_12\">\r\n    <path clip-path=\"url(#p7ee4c48447)\" d=\"M 0 0 \r\n\" style=\"fill:none;stroke:#424242;stroke-linecap:round;stroke-width:4.5;\"/>\r\n   </g>\r\n   <g id=\"line2d_13\">\r\n    <path clip-path=\"url(#p7ee4c48447)\" d=\"M 0 0 \r\n\" style=\"fill:none;stroke:#424242;stroke-linecap:round;stroke-width:4.5;\"/>\r\n   </g>\r\n   <g id=\"line2d_14\">\r\n    <path clip-path=\"url(#p7ee4c48447)\" d=\"M 556.119384 163.93067 \r\nL 598.074272 163.93067 \r\n\" style=\"fill:none;stroke:#424242;stroke-linecap:round;stroke-width:4.5;\"/>\r\n   </g>\r\n   <g id=\"line2d_15\">\r\n    <path clip-path=\"url(#p7ee4c48447)\" d=\"M 0 0 \r\n\" style=\"fill:none;stroke:#424242;stroke-linecap:round;stroke-width:4.5;\"/>\r\n   </g>\r\n   <g id=\"line2d_16\">\r\n    <path clip-path=\"url(#p7ee4c48447)\" d=\"M 430.254723 215.618414 \r\nL 472.20961 215.618414 \r\n\" style=\"fill:none;stroke:#424242;stroke-linecap:round;stroke-width:4.5;\"/>\r\n   </g>\r\n   <g id=\"line2d_17\">\r\n    <path clip-path=\"url(#p7ee4c48447)\" d=\"M 0 0 \r\n\" style=\"fill:none;stroke:#424242;stroke-linecap:round;stroke-width:4.5;\"/>\r\n   </g>\r\n   <g id=\"line2d_18\">\r\n    <path clip-path=\"url(#p7ee4c48447)\" d=\"M 0 0 \r\n\" style=\"fill:none;stroke:#424242;stroke-linecap:round;stroke-width:4.5;\"/>\r\n   </g>\r\n   <g id=\"line2d_19\">\r\n    <path clip-path=\"url(#p7ee4c48447)\" d=\"M 0 0 \r\n\" style=\"fill:none;stroke:#424242;stroke-linecap:round;stroke-width:4.5;\"/>\r\n   </g>\r\n   <g id=\"line2d_20\">\r\n    <path clip-path=\"url(#p7ee4c48447)\" d=\"M 0 0 \r\n\" style=\"fill:none;stroke:#424242;stroke-linecap:round;stroke-width:4.5;\"/>\r\n   </g>\r\n   <g id=\"line2d_21\">\r\n    <path clip-path=\"url(#p7ee4c48447)\" d=\"M 0 0 \r\n\" style=\"fill:none;stroke:#424242;stroke-linecap:round;stroke-width:4.5;\"/>\r\n   </g>\r\n   <g id=\"line2d_22\">\r\n    <path clip-path=\"url(#p7ee4c48447)\" d=\"M 0 0 \r\n\" style=\"fill:none;stroke:#424242;stroke-linecap:round;stroke-width:4.5;\"/>\r\n   </g>\r\n   <g id=\"line2d_23\">\r\n    <path clip-path=\"url(#p7ee4c48447)\" d=\"M 0 0 \r\n\" style=\"fill:none;stroke:#424242;stroke-linecap:round;stroke-width:4.5;\"/>\r\n   </g>\r\n   <g id=\"line2d_24\">\r\n    <path clip-path=\"url(#p7ee4c48447)\" d=\"M 0 0 \r\n\" style=\"fill:none;stroke:#424242;stroke-linecap:round;stroke-width:4.5;\"/>\r\n   </g>\r\n   <g id=\"patch_19\">\r\n    <path d=\"M 94.615625 525.744876 \r\nL 94.615625 21.789375 \r\n\" style=\"fill:none;stroke:#cccccc;stroke-linecap:square;stroke-linejoin:miter;stroke-width:0.8;\"/>\r\n   </g>\r\n   <g id=\"patch_20\">\r\n    <path d=\"M 931.615625 525.744876 \r\nL 931.615625 21.789375 \r\n\" style=\"fill:none;stroke:#cccccc;stroke-linecap:square;stroke-linejoin:miter;stroke-width:0.8;\"/>\r\n   </g>\r\n   <g id=\"patch_21\">\r\n    <path d=\"M 94.615625 525.744876 \r\nL 931.615625 525.744876 \r\n\" style=\"fill:none;stroke:#cccccc;stroke-linecap:square;stroke-linejoin:miter;stroke-width:0.8;\"/>\r\n   </g>\r\n   <g id=\"patch_22\">\r\n    <path d=\"M 94.615625 21.789375 \r\nL 931.615625 21.789375 \r\n\" style=\"fill:none;stroke:#cccccc;stroke-linecap:square;stroke-linejoin:miter;stroke-width:0.8;\"/>\r\n   </g>\r\n   <g id=\"text_31\">\r\n    <!-- 30 most common words -->\r\n    <g style=\"fill:#262626;\" transform=\"translate(449.43125 15.789375)scale(0.12 -0.12)\">\r\n     <defs>\r\n      <path d=\"M 4.203125 18.890625 \r\nL 12.984375 20.0625 \r\nQ 14.5 12.59375 18.140625 9.296875 \r\nQ 21.78125 6 27 6 \r\nQ 33.203125 6 37.46875 10.296875 \r\nQ 41.75 14.59375 41.75 20.953125 \r\nQ 41.75 27 37.796875 30.921875 \r\nQ 33.84375 34.859375 27.734375 34.859375 \r\nQ 25.25 34.859375 21.53125 33.890625 \r\nL 22.515625 41.609375 \r\nQ 23.390625 41.5 23.921875 41.5 \r\nQ 29.546875 41.5 34.03125 44.421875 \r\nQ 38.53125 47.359375 38.53125 53.46875 \r\nQ 38.53125 58.296875 35.25 61.46875 \r\nQ 31.984375 64.65625 26.8125 64.65625 \r\nQ 21.6875 64.65625 18.265625 61.421875 \r\nQ 14.84375 58.203125 13.875 51.765625 \r\nL 5.078125 53.328125 \r\nQ 6.6875 62.15625 12.390625 67.015625 \r\nQ 18.109375 71.875 26.609375 71.875 \r\nQ 32.46875 71.875 37.390625 69.359375 \r\nQ 42.328125 66.84375 44.9375 62.5 \r\nQ 47.5625 58.15625 47.5625 53.265625 \r\nQ 47.5625 48.640625 45.0625 44.828125 \r\nQ 42.578125 41.015625 37.703125 38.765625 \r\nQ 44.046875 37.3125 47.5625 32.6875 \r\nQ 51.078125 28.078125 51.078125 21.140625 \r\nQ 51.078125 11.765625 44.234375 5.25 \r\nQ 37.40625 -1.265625 26.953125 -1.265625 \r\nQ 17.53125 -1.265625 11.296875 4.34375 \r\nQ 5.078125 9.96875 4.203125 18.890625 \r\nz\r\n\" id=\"ArialMT-51\"/>\r\n      <path id=\"ArialMT-32\"/>\r\n     </defs>\r\n     <use xlink:href=\"#ArialMT-51\"/>\r\n     <use x=\"55.615234\" xlink:href=\"#ArialMT-48\"/>\r\n     <use x=\"111.230469\" xlink:href=\"#ArialMT-32\"/>\r\n     <use x=\"139.013672\" xlink:href=\"#ArialMT-109\"/>\r\n     <use x=\"222.314453\" xlink:href=\"#ArialMT-111\"/>\r\n     <use x=\"277.929688\" xlink:href=\"#ArialMT-115\"/>\r\n     <use x=\"327.929688\" xlink:href=\"#ArialMT-116\"/>\r\n     <use x=\"355.712891\" xlink:href=\"#ArialMT-32\"/>\r\n     <use x=\"383.496094\" xlink:href=\"#ArialMT-99\"/>\r\n     <use x=\"433.496094\" xlink:href=\"#ArialMT-111\"/>\r\n     <use x=\"489.111328\" xlink:href=\"#ArialMT-109\"/>\r\n     <use x=\"572.412109\" xlink:href=\"#ArialMT-109\"/>\r\n     <use x=\"655.712891\" xlink:href=\"#ArialMT-111\"/>\r\n     <use x=\"711.328125\" xlink:href=\"#ArialMT-110\"/>\r\n     <use x=\"766.943359\" xlink:href=\"#ArialMT-32\"/>\r\n     <use x=\"794.726562\" xlink:href=\"#ArialMT-119\"/>\r\n     <use x=\"866.943359\" xlink:href=\"#ArialMT-111\"/>\r\n     <use x=\"922.558594\" xlink:href=\"#ArialMT-114\"/>\r\n     <use x=\"955.859375\" xlink:href=\"#ArialMT-100\"/>\r\n     <use x=\"1011.474609\" xlink:href=\"#ArialMT-115\"/>\r\n    </g>\r\n   </g>\r\n  </g>\r\n </g>\r\n <defs>\r\n  <clipPath id=\"p7ee4c48447\">\r\n   <rect height=\"503.955501\" width=\"837\" x=\"94.615625\" y=\"21.789375\"/>\r\n  </clipPath>\r\n </defs>\r\n</svg>\r\n",
      "image/png": "[encoded data removed]"
     },
     "metadata": {
      "needs_background": "light"
     }
    }
   ],
   "source": [
    "# Helper function\n",
    "def plot_30_most_common_words(count_data, count_vectorizer):\n",
    "    words = count_vectorizer.get_feature_names()\n",
    "    total_counts = np.zeros(len(words))\n",
    "    for t in count_data:\n",
    "        total_counts+=t.toarray()[0]\n",
    "    \n",
    "    count_dict = (zip(words, total_counts))\n",
    "    count_dict = sorted(count_dict, key=lambda x:x[1], reverse=True)[0:20]\n",
    "    words = [w[0] for w in count_dict]\n",
    "    counts = [w[1] for w in count_dict]\n",
    "    x_pos = np.arange(len(words)) \n",
    "    \n",
    "    plt.figure(2, figsize=(15, 15/1.6180))\n",
    "    plt.subplot(title='30 most common words')\n",
    "    sns.set_context(\"notebook\", font_scale=1.25, rc={\"lines.linewidth\": 2.5})\n",
    "    sns.barplot(x_pos, counts, palette='husl', orient = 'h')\n",
    "    plt.yticks(x_pos, words) \n",
    "    plt.ylabel('words')\n",
    "    plt.xlabel('counts')\n",
    "    plt.show()\n",
    "\n",
    "# Initialise the count vectorizer with the English stop words\n",
    "count_vectorizer = CountVectorizer(stop_words='english')\n",
    "\n",
    "# Fit and transform the processed transcripts\n",
    "count_data = count_vectorizer.fit_transform(df_tweets['text_cleaned'])\n",
    "\n",
    "# Visualise the 30 most common words\n",
    "plot_30_most_common_words(count_data, count_vectorizer)"
   ]
  },
  {
   "source": [
    "## Step 5b: Sentiment analysis"
   ],
   "cell_type": "markdown",
   "metadata": {}
  },
  {
   "cell_type": "code",
   "execution_count": 24,
   "metadata": {},
   "outputs": [
    {
     "output_type": "stream",
     "name": "stdout",
     "text": [
      "                                                text  polarity  subjectivity\n0  0      Great work done on picking up the COVID...  0.900000      0.875000\n1  0      Great work done on picking up the COVID...  0.136364      0.454545\n2  0      Great work done on picking up the COVID...  0.250000      0.250000\n4  0      Great work done on picking up the COVID... -0.133333      0.600000\n5  0      Great work done on picking up the COVID...  0.500000      0.500000\n"
     ]
    }
   ],
   "source": [
    "#TODO: Dom to troubleshoot - why tweets are the same\n",
    "# initialize list\n",
    "new_df = []\n",
    "\n",
    "for tweet in df_tweets['text_cleaned']:\n",
    "    blob = TextBlob(str(tweet))\n",
    "    score = {\n",
    "        'full_text': df_tweets['full_text'],\n",
    "        'polarity': blob.sentiment.polarity,\n",
    "        'subjectivity': blob.sentiment.subjectivity\n",
    "    }\n",
    "    new_df.append(score)\n",
    "    #print(score)\n",
    "\n",
    "# turn the new_df \n",
    "test = pd.DataFrame(new_df)\n",
    "\n",
    "# remove rows where polarity = 0.000\n",
    "test = test[(test.polarity != 0.0000)]\n",
    "print(test.head())\n",
    "\n",
    "test.to_csv('data/sentiment_reviews.csv', index=False)"
   ]
  }
 ]
}