{
 "metadata": {
  "language_info": {
   "codemirror_mode": {
    "name": "ipython",
    "version": 3
   },
   "file_extension": ".py",
   "mimetype": "text/x-python",
   "name": "python",
   "nbconvert_exporter": "python",
   "pygments_lexer": "ipython3",
   "version": "3.9.1"
  },
  "orig_nbformat": 2,
  "kernelspec": {
   "name": "python391jvsc74a57bd007a70a5077e9c9feae5d08fa41fc44d95abc22f10394969018e5e0f4ca96aa5b",
   "display_name": "Python 3.9.1 64-bit"
  }
 },
 "nbformat": 4,
 "nbformat_minor": 2,
 "cells": [
  {
   "cell_type": "code",
   "execution_count": 5,
   "metadata": {},
   "outputs": [],
   "source": [
    "import os\n",
    "import tweepy as tw\n",
    "import pandas as pd\n",
    "import yaml\n",
    "\n",
    "import re\n",
    "import unicodedata\n",
    "import nltk\n",
    "from nltk.corpus import stopwords\n",
    "\n",
    "from sklearn.feature_extraction.text import CountVectorizer\n",
    "import numpy as np\n",
    "import matplotlib.pyplot as plt\n",
    "import seaborn as sns\n",
    "\n",
    "from textblob import TextBlob"
   ]
  },
  {
   "source": [
    "# Step 1: Set up Twitter API access\n",
    "Set up the project here: https://developer.twitter.com/en/portal/projects-and-apps\n",
    "\n",
    "Using this site as reference: https://www.earthdatascience.org/courses/use-data-open-source-python/intro-to-apis/twitter-data-in-python/"
   ],
   "cell_type": "markdown",
   "metadata": {}
  },
  {
   "cell_type": "code",
   "execution_count": 6,
   "metadata": {},
   "outputs": [],
   "source": [
    "# Reference: https://gist.github.com/radcliff/47af9f6238c95f6ae239\n",
    "# Load yml file to dictionary\n",
    "credentials = yaml.load(open('./credentials.yml'), Loader=yaml.FullLoader)\n",
    "\n",
    "# Define access keys and tokens\n",
    "consumer_key = credentials['twitter_api']['consumer_key']\n",
    "consumer_secret = credentials['twitter_api']['consumer_secret']\n",
    "access_token = credentials['twitter_api']['access_token']\n",
    "access_token_secret = credentials['twitter_api']['access_token_secret']"
   ]
  },
  {
   "cell_type": "code",
   "execution_count": 8,
   "metadata": {},
   "outputs": [],
   "source": [
    "auth = tw.OAuthHandler(consumer_key, consumer_secret)\n",
    "auth.set_access_token(access_token, access_token_secret)\n",
    "api = tw.API(auth, wait_on_rate_limit = True)"
   ]
  },
  {
   "source": [
    "# Step 2: Get tweets and transform into dataframe"
   ],
   "cell_type": "markdown",
   "metadata": {}
  },
  {
   "cell_type": "code",
   "execution_count": 10,
   "metadata": {},
   "outputs": [],
   "source": [
    "# Reference: https://www.earthdatascience.org/courses/use-data-open-source-python/intro-to-apis/twitter-data-in-python/\n",
    "\n",
    "# define parameters for API request\n",
    "search_word = \"#covidcanada\"\n",
    "num_of_tweets = 1000\n",
    "include_retweets = False\n",
    "language = \"en\"\n",
    "\n",
    "if include_retweets == False:\n",
    "    search_word = search_word + \" -filter:retweets\"\n",
    "\n",
    "tweets = tw.Cursor(api.search,\n",
    "                    q=search_word,\n",
    "                    tweet_mode = \"extended\",\n",
    "                    lang=language).items(num_of_tweets)"
   ]
  },
  {
   "cell_type": "code",
   "execution_count": 11,
   "metadata": {},
   "outputs": [
    {
     "output_type": "stream",
     "name": "stdout",
     "text": [
      "created_at\nid\nid_str\ntext\ntruncated\nsource\nin_reply_to_status_id\nin_reply_to_status_id_str\nin_reply_to_user_id\nin_reply_to_user_id_str\nin_reply_to_screen_name\ngeo\ncoordinates\nplace\ncontributors\nis_quote_status\nretweet_count\nfavorite_count\nfavorited\nretweeted\npossibly_sensitive\nlang\nentities.hashtags\nentities.symbols\nentities.user_mentions\nentities.urls\nmetadata.iso_language_code\nmetadata.result_type\nuser.id\nuser.id_str\nuser.name\nuser.screen_name\nuser.location\nuser.description\nuser.url\nuser.entities.url.urls\nuser.entities.description.urls\nuser.protected\nuser.followers_count\nuser.friends_count\nuser.listed_count\nuser.created_at\nuser.favourites_count\nuser.utc_offset\nuser.time_zone\nuser.geo_enabled\nuser.verified\nuser.statuses_count\nuser.lang\nuser.contributors_enabled\nuser.is_translator\nuser.is_translation_enabled\nuser.profile_background_color\nuser.profile_background_image_url\nuser.profile_background_image_url_https\nuser.profile_background_tile\nuser.profile_image_url\nuser.profile_image_url_https\nuser.profile_banner_url\nuser.profile_link_color\nuser.profile_sidebar_border_color\nuser.profile_sidebar_fill_color\nuser.profile_text_color\nuser.profile_use_background_image\nuser.has_extended_profile\nuser.default_profile\nuser.default_profile_image\nuser.following\nuser.follow_request_sent\nuser.notifications\nuser.translator_type\nuser.withheld_in_countries\nentities.media\nextended_entities.media\nquoted_status_id\nquoted_status_id_str\nquoted_status.created_at\nquoted_status.id\nquoted_status.id_str\nquoted_status.text\nquoted_status.truncated\nquoted_status.entities.hashtags\nquoted_status.entities.symbols\nquoted_status.entities.user_mentions\nquoted_status.entities.urls\nquoted_status.metadata.iso_language_code\nquoted_status.metadata.result_type\nquoted_status.source\nquoted_status.in_reply_to_status_id\nquoted_status.in_reply_to_status_id_str\nquoted_status.in_reply_to_user_id\nquoted_status.in_reply_to_user_id_str\nquoted_status.in_reply_to_screen_name\nquoted_status.user.id\nquoted_status.user.id_str\nquoted_status.user.name\nquoted_status.user.screen_name\nquoted_status.user.location\nquoted_status.user.description\nquoted_status.user.url\nquoted_status.user.entities.url.urls\nquoted_status.user.entities.description.urls\nquoted_status.user.protected\nquoted_status.user.followers_count\nquoted_status.user.friends_count\nquoted_status.user.listed_count\nquoted_status.user.created_at\nquoted_status.user.favourites_count\nquoted_status.user.utc_offset\nquoted_status.user.time_zone\nquoted_status.user.geo_enabled\nquoted_status.user.verified\nquoted_status.user.statuses_count\nquoted_status.user.lang\nquoted_status.user.contributors_enabled\nquoted_status.user.is_translator\nquoted_status.user.is_translation_enabled\nquoted_status.user.profile_background_color\nquoted_status.user.profile_background_image_url\nquoted_status.user.profile_background_image_url_https\nquoted_status.user.profile_background_tile\nquoted_status.user.profile_image_url\nquoted_status.user.profile_image_url_https\nquoted_status.user.profile_banner_url\nquoted_status.user.profile_link_color\nquoted_status.user.profile_sidebar_border_color\nquoted_status.user.profile_sidebar_fill_color\nquoted_status.user.profile_text_color\nquoted_status.user.profile_use_background_image\nquoted_status.user.has_extended_profile\nquoted_status.user.default_profile\nquoted_status.user.default_profile_image\nquoted_status.user.following\nquoted_status.user.follow_request_sent\nquoted_status.user.notifications\nquoted_status.user.translator_type\nquoted_status.user.withheld_in_countries\nquoted_status.geo\nquoted_status.coordinates\nquoted_status.place\nquoted_status.contributors\nquoted_status.is_quote_status\nquoted_status.retweet_count\nquoted_status.favorite_count\nquoted_status.favorited\nquoted_status.retweeted\nquoted_status.possibly_sensitive\nquoted_status.lang\nquoted_status.entities.media\nquoted_status.extended_entities.media\nquoted_status.quoted_status_id\nquoted_status.quoted_status_id_str\n"
     ]
    }
   ],
   "source": [
    "# Twitter API data dictionary: https://developer.twitter.com/en/docs/twitter-api/data-dictionary/object-model/tweet\n",
    "\n",
    "# Get column names\n",
    "api_colnames_call = api.search(q=search_word, count=num_of_tweets)\n",
    "json_data = [c._json for c in api_colnames_call]\n",
    "\n",
    "# create dataframe from JSON result\n",
    "api_colnames = pd.json_normalize(json_data)\n",
    "\n",
    "# print all column names\n",
    "for col in api_colnames.columns:\n",
    "    print(col)"
   ]
  },
  {
   "cell_type": "code",
   "execution_count": 12,
   "metadata": {},
   "outputs": [
    {
     "output_type": "stream",
     "name": "stdout",
     "text": [
      "[[datetime.datetime(2021, 6, 5, 22, 29, 27), 1401305194340622340, 'Delta variant heightens urgency for second doses to stop spread, scientists say https://t.co/BCUAUKsZST via @CTVNews #COVIDCanada #COVID19Canada #B1617', 'iChinadian', 0, 0], [datetime.datetime(2021, 6, 5, 22, 28, 49), 1401305034546028546, 'Race between vaccines and variants is back on as B.1.617 takes hold in Canada | CBC News https://t.co/1L4rhsvnqw #B1617 #COVIDCanada #COVID19Canada', 'iChinadian', 0, 0]]\n"
     ]
    }
   ],
   "source": [
    "# Specify which columns to pull from API\n",
    "tweet_metadata = [[tweet.created_at, tweet.id, tweet.full_text, tweet.user.screen_name, tweet.retweet_count, tweet.favorite_count] for tweet in tweets]\n",
    "\n",
    "print(tweet_metadata[:2])"
   ]
  },
  {
   "cell_type": "code",
   "execution_count": 13,
   "metadata": {},
   "outputs": [
    {
     "output_type": "execute_result",
     "data": {
      "text/plain": [
       "           created_at                   id  \\\n",
       "0 2021-06-05 22:29:27  1401305194340622340   \n",
       "1 2021-06-05 22:28:49  1401305034546028546   \n",
       "2 2021-06-05 22:28:28  1401304946822193153   \n",
       "3 2021-06-05 22:24:37  1401303977728241666   \n",
       "4 2021-06-05 13:48:45  1401174154821443588   \n",
       "\n",
       "                                           full_text          user  rt_count  \\\n",
       "0  Delta variant heightens urgency for second dos...    iChinadian         0   \n",
       "1  Race between vaccines and variants is back on ...    iChinadian         0   \n",
       "2  Canada secures more Pfizer shots as focus shif...    iChinadian         0   \n",
       "3  Ontario records slight drop in COVID-19 cases ...    iChinadian         0   \n",
       "4  @GoldenKnights 🛑Well in Ontario,Canada we can ...  GHockeyCoach         0   \n",
       "\n",
       "   fav_count  created_dt  \n",
       "0          0  2021-06-05  \n",
       "1          0  2021-06-05  \n",
       "2          0  2021-06-05  \n",
       "3          0  2021-06-05  \n",
       "4          6  2021-06-05  "
      ],
      "text/html": "<div>\n<style scoped>\n    .dataframe tbody tr th:only-of-type {\n        vertical-align: middle;\n    }\n\n    .dataframe tbody tr th {\n        vertical-align: top;\n    }\n\n    .dataframe thead th {\n        text-align: right;\n    }\n</style>\n<table border=\"1\" class=\"dataframe\">\n  <thead>\n    <tr style=\"text-align: right;\">\n      <th></th>\n      <th>created_at</th>\n      <th>id</th>\n      <th>full_text</th>\n      <th>user</th>\n      <th>rt_count</th>\n      <th>fav_count</th>\n      <th>created_dt</th>\n    </tr>\n  </thead>\n  <tbody>\n    <tr>\n      <th>0</th>\n      <td>2021-06-05 22:29:27</td>\n      <td>1401305194340622340</td>\n      <td>Delta variant heightens urgency for second dos...</td>\n      <td>iChinadian</td>\n      <td>0</td>\n      <td>0</td>\n      <td>2021-06-05</td>\n    </tr>\n    <tr>\n      <th>1</th>\n      <td>2021-06-05 22:28:49</td>\n      <td>1401305034546028546</td>\n      <td>Race between vaccines and variants is back on ...</td>\n      <td>iChinadian</td>\n      <td>0</td>\n      <td>0</td>\n      <td>2021-06-05</td>\n    </tr>\n    <tr>\n      <th>2</th>\n      <td>2021-06-05 22:28:28</td>\n      <td>1401304946822193153</td>\n      <td>Canada secures more Pfizer shots as focus shif...</td>\n      <td>iChinadian</td>\n      <td>0</td>\n      <td>0</td>\n      <td>2021-06-05</td>\n    </tr>\n    <tr>\n      <th>3</th>\n      <td>2021-06-05 22:24:37</td>\n      <td>1401303977728241666</td>\n      <td>Ontario records slight drop in COVID-19 cases ...</td>\n      <td>iChinadian</td>\n      <td>0</td>\n      <td>0</td>\n      <td>2021-06-05</td>\n    </tr>\n    <tr>\n      <th>4</th>\n      <td>2021-06-05 13:48:45</td>\n      <td>1401174154821443588</td>\n      <td>@GoldenKnights 🛑Well in Ontario,Canada we can ...</td>\n      <td>GHockeyCoach</td>\n      <td>0</td>\n      <td>6</td>\n      <td>2021-06-05</td>\n    </tr>\n  </tbody>\n</table>\n</div>"
     },
     "metadata": {},
     "execution_count": 13
    }
   ],
   "source": [
    "# Create a pandas dataframe\n",
    "df_tweets_raw = pd.DataFrame(data=tweet_metadata, columns=['created_at', 'id', 'full_text', 'user', 'rt_count', 'fav_count'])\n",
    "df_tweets_raw['created_dt'] = df_tweets_raw['created_at'].dt.date\n",
    "\n",
    "df_tweets_raw.head()"
   ]
  },
  {
   "source": [
    "# Step 3: Basic exploratory data analysis (EDA)"
   ],
   "cell_type": "markdown",
   "metadata": {}
  },
  {
   "cell_type": "code",
   "execution_count": 14,
   "metadata": {},
   "outputs": [
    {
     "output_type": "stream",
     "name": "stdout",
     "text": [
      "Rows: 173 \nColumns: 7\n"
     ]
    }
   ],
   "source": [
    "print('Rows:', df_tweets_raw.shape[0], '\\nColumns:', df_tweets_raw.shape[1])"
   ]
  },
  {
   "cell_type": "code",
   "execution_count": 15,
   "metadata": {},
   "outputs": [
    {
     "output_type": "stream",
     "name": "stdout",
     "text": [
      "Longest tweet is 331 characters long\n"
     ]
    }
   ],
   "source": [
    "max_tweet_length = df_tweets_raw.full_text.apply(len).max()\n",
    "print('Longest tweet is', max_tweet_length, 'characters long')"
   ]
  },
  {
   "cell_type": "code",
   "execution_count": 16,
   "metadata": {},
   "outputs": [
    {
     "output_type": "stream",
     "name": "stdout",
     "text": [
      "Min. date:  2021-05-28 19:30:05 \nMax. date:  2021-06-05 22:29:27\n"
     ]
    }
   ],
   "source": [
    "min_date = df_tweets_raw.created_at.min()\n",
    "max_date = df_tweets_raw.created_at.max()\n",
    "\n",
    "print('Min. date: ', min_date, '\\nMax. date: ', max_date)"
   ]
  },
  {
   "cell_type": "code",
   "execution_count": 20,
   "metadata": {},
   "outputs": [
    {
     "output_type": "stream",
     "name": "stderr",
     "text": [
      "<ipython-input-20-4d9704376e2a>:1: FutureWarning: Treating datetime data as categorical rather than numeric in `.describe` is deprecated and will be removed in a future version of pandas. Specify `datetime_is_numeric=True` to silence this warning and adopt the future behavior now.\n  df_tweets_raw.describe(include='all')\n"
     ]
    },
    {
     "output_type": "execute_result",
     "data": {
      "text/plain": [
       "                 created_at            id  \\\n",
       "count                   173  1.730000e+02   \n",
       "unique                  172           NaN   \n",
       "top     2021-06-01 03:06:15           NaN   \n",
       "freq                      2           NaN   \n",
       "first   2021-05-28 19:30:05           NaN   \n",
       "last    2021-06-05 22:29:27           NaN   \n",
       "mean                    NaN  1.399715e+18   \n",
       "std                     NaN  8.504467e+14   \n",
       "min                     NaN  1.398361e+18   \n",
       "25%                     NaN  1.398980e+18   \n",
       "50%                     NaN  1.399764e+18   \n",
       "75%                     NaN  1.400482e+18   \n",
       "max                     NaN  1.401305e+18   \n",
       "\n",
       "                                                full_text        user  \\\n",
       "count                                                 173         173   \n",
       "unique                                                173          52   \n",
       "top     Tam warns against easing measures as #COVID-19...  iChinadian   \n",
       "freq                                                    1          54   \n",
       "first                                                 NaN         NaN   \n",
       "last                                                  NaN         NaN   \n",
       "mean                                                  NaN         NaN   \n",
       "std                                                   NaN         NaN   \n",
       "min                                                   NaN         NaN   \n",
       "25%                                                   NaN         NaN   \n",
       "50%                                                   NaN         NaN   \n",
       "75%                                                   NaN         NaN   \n",
       "max                                                   NaN         NaN   \n",
       "\n",
       "          rt_count   fav_count  created_dt  character_ct  stopword_ct  \\\n",
       "count   173.000000  173.000000         173    173.000000   173.000000   \n",
       "unique         NaN         NaN           9           NaN          NaN   \n",
       "top            NaN         NaN  2021-05-29           NaN          NaN   \n",
       "freq           NaN         NaN          29           NaN          NaN   \n",
       "first          NaN         NaN         NaN           NaN          NaN   \n",
       "last           NaN         NaN         NaN           NaN          NaN   \n",
       "mean      0.358382    0.971098         NaN    198.959538     2.768786   \n",
       "std       0.926924    2.880221         NaN     60.135444     3.352153   \n",
       "min       0.000000    0.000000         NaN     54.000000     0.000000   \n",
       "25%       0.000000    0.000000         NaN    148.000000     1.000000   \n",
       "50%       0.000000    0.000000         NaN    190.000000     2.000000   \n",
       "75%       0.000000    1.000000         NaN    251.000000     3.000000   \n",
       "max       6.000000   25.000000         NaN    331.000000    18.000000   \n",
       "\n",
       "        hashtag_ct   atsign_ct  numeric_ct  punctuation_ct  \n",
       "count   173.000000  173.000000  173.000000      173.000000  \n",
       "unique         NaN         NaN         NaN             NaN  \n",
       "top            NaN         NaN         NaN             NaN  \n",
       "freq           NaN         NaN         NaN             NaN  \n",
       "first          NaN         NaN         NaN             NaN  \n",
       "last           NaN         NaN         NaN             NaN  \n",
       "mean      4.751445    0.416185    0.410405       16.179191  \n",
       "std       3.131156    0.876153    0.848601        7.813020  \n",
       "min       1.000000    0.000000    0.000000        2.000000  \n",
       "25%       3.000000    0.000000    0.000000       12.000000  \n",
       "50%       4.000000    0.000000    0.000000       14.000000  \n",
       "75%       6.000000    1.000000    1.000000       19.000000  \n",
       "max      17.000000    7.000000    4.000000       54.000000  "
      ],
      "text/html": "<div>\n<style scoped>\n    .dataframe tbody tr th:only-of-type {\n        vertical-align: middle;\n    }\n\n    .dataframe tbody tr th {\n        vertical-align: top;\n    }\n\n    .dataframe thead th {\n        text-align: right;\n    }\n</style>\n<table border=\"1\" class=\"dataframe\">\n  <thead>\n    <tr style=\"text-align: right;\">\n      <th></th>\n      <th>created_at</th>\n      <th>id</th>\n      <th>full_text</th>\n      <th>user</th>\n      <th>rt_count</th>\n      <th>fav_count</th>\n      <th>created_dt</th>\n      <th>character_ct</th>\n      <th>stopword_ct</th>\n      <th>hashtag_ct</th>\n      <th>atsign_ct</th>\n      <th>numeric_ct</th>\n      <th>punctuation_ct</th>\n    </tr>\n  </thead>\n  <tbody>\n    <tr>\n      <th>count</th>\n      <td>173</td>\n      <td>1.730000e+02</td>\n      <td>173</td>\n      <td>173</td>\n      <td>173.000000</td>\n      <td>173.000000</td>\n      <td>173</td>\n      <td>173.000000</td>\n      <td>173.000000</td>\n      <td>173.000000</td>\n      <td>173.000000</td>\n      <td>173.000000</td>\n      <td>173.000000</td>\n    </tr>\n    <tr>\n      <th>unique</th>\n      <td>172</td>\n      <td>NaN</td>\n      <td>173</td>\n      <td>52</td>\n      <td>NaN</td>\n      <td>NaN</td>\n      <td>9</td>\n      <td>NaN</td>\n      <td>NaN</td>\n      <td>NaN</td>\n      <td>NaN</td>\n      <td>NaN</td>\n      <td>NaN</td>\n    </tr>\n    <tr>\n      <th>top</th>\n      <td>2021-06-01 03:06:15</td>\n      <td>NaN</td>\n      <td>Tam warns against easing measures as #COVID-19...</td>\n      <td>iChinadian</td>\n      <td>NaN</td>\n      <td>NaN</td>\n      <td>2021-05-29</td>\n      <td>NaN</td>\n      <td>NaN</td>\n      <td>NaN</td>\n      <td>NaN</td>\n      <td>NaN</td>\n      <td>NaN</td>\n    </tr>\n    <tr>\n      <th>freq</th>\n      <td>2</td>\n      <td>NaN</td>\n      <td>1</td>\n      <td>54</td>\n      <td>NaN</td>\n      <td>NaN</td>\n      <td>29</td>\n      <td>NaN</td>\n      <td>NaN</td>\n      <td>NaN</td>\n      <td>NaN</td>\n      <td>NaN</td>\n      <td>NaN</td>\n    </tr>\n    <tr>\n      <th>first</th>\n      <td>2021-05-28 19:30:05</td>\n      <td>NaN</td>\n      <td>NaN</td>\n      <td>NaN</td>\n      <td>NaN</td>\n      <td>NaN</td>\n      <td>NaN</td>\n      <td>NaN</td>\n      <td>NaN</td>\n      <td>NaN</td>\n      <td>NaN</td>\n      <td>NaN</td>\n      <td>NaN</td>\n    </tr>\n    <tr>\n      <th>last</th>\n      <td>2021-06-05 22:29:27</td>\n      <td>NaN</td>\n      <td>NaN</td>\n      <td>NaN</td>\n      <td>NaN</td>\n      <td>NaN</td>\n      <td>NaN</td>\n      <td>NaN</td>\n      <td>NaN</td>\n      <td>NaN</td>\n      <td>NaN</td>\n      <td>NaN</td>\n      <td>NaN</td>\n    </tr>\n    <tr>\n      <th>mean</th>\n      <td>NaN</td>\n      <td>1.399715e+18</td>\n      <td>NaN</td>\n      <td>NaN</td>\n      <td>0.358382</td>\n      <td>0.971098</td>\n      <td>NaN</td>\n      <td>198.959538</td>\n      <td>2.768786</td>\n      <td>4.751445</td>\n      <td>0.416185</td>\n      <td>0.410405</td>\n      <td>16.179191</td>\n    </tr>\n    <tr>\n      <th>std</th>\n      <td>NaN</td>\n      <td>8.504467e+14</td>\n      <td>NaN</td>\n      <td>NaN</td>\n      <td>0.926924</td>\n      <td>2.880221</td>\n      <td>NaN</td>\n      <td>60.135444</td>\n      <td>3.352153</td>\n      <td>3.131156</td>\n      <td>0.876153</td>\n      <td>0.848601</td>\n      <td>7.813020</td>\n    </tr>\n    <tr>\n      <th>min</th>\n      <td>NaN</td>\n      <td>1.398361e+18</td>\n      <td>NaN</td>\n      <td>NaN</td>\n      <td>0.000000</td>\n      <td>0.000000</td>\n      <td>NaN</td>\n      <td>54.000000</td>\n      <td>0.000000</td>\n      <td>1.000000</td>\n      <td>0.000000</td>\n      <td>0.000000</td>\n      <td>2.000000</td>\n    </tr>\n    <tr>\n      <th>25%</th>\n      <td>NaN</td>\n      <td>1.398980e+18</td>\n      <td>NaN</td>\n      <td>NaN</td>\n      <td>0.000000</td>\n      <td>0.000000</td>\n      <td>NaN</td>\n      <td>148.000000</td>\n      <td>1.000000</td>\n      <td>3.000000</td>\n      <td>0.000000</td>\n      <td>0.000000</td>\n      <td>12.000000</td>\n    </tr>\n    <tr>\n      <th>50%</th>\n      <td>NaN</td>\n      <td>1.399764e+18</td>\n      <td>NaN</td>\n      <td>NaN</td>\n      <td>0.000000</td>\n      <td>0.000000</td>\n      <td>NaN</td>\n      <td>190.000000</td>\n      <td>2.000000</td>\n      <td>4.000000</td>\n      <td>0.000000</td>\n      <td>0.000000</td>\n      <td>14.000000</td>\n    </tr>\n    <tr>\n      <th>75%</th>\n      <td>NaN</td>\n      <td>1.400482e+18</td>\n      <td>NaN</td>\n      <td>NaN</td>\n      <td>0.000000</td>\n      <td>1.000000</td>\n      <td>NaN</td>\n      <td>251.000000</td>\n      <td>3.000000</td>\n      <td>6.000000</td>\n      <td>1.000000</td>\n      <td>1.000000</td>\n      <td>19.000000</td>\n    </tr>\n    <tr>\n      <th>max</th>\n      <td>NaN</td>\n      <td>1.401305e+18</td>\n      <td>NaN</td>\n      <td>NaN</td>\n      <td>6.000000</td>\n      <td>25.000000</td>\n      <td>NaN</td>\n      <td>331.000000</td>\n      <td>18.000000</td>\n      <td>17.000000</td>\n      <td>7.000000</td>\n      <td>4.000000</td>\n      <td>54.000000</td>\n    </tr>\n  </tbody>\n</table>\n</div>"
     },
     "metadata": {},
     "execution_count": 20
    }
   ],
   "source": [
    "df_tweets_raw.describe(include='all')"
   ]
  },
  {
   "source": [
    "# Step 4: Feature Extraction (before text cleaning)\n",
    "* Count of Stopwords\n",
    "* Count of @ characters\n",
    "* Count of Hashtag characters\n",
    "* Count of Numeric characters\n",
    "* Count of Punctuation\n",
    "* Count of Emojis 😜\n",
    "* Count of Emoticons :-)"
   ],
   "cell_type": "markdown",
   "metadata": {}
  },
  {
   "cell_type": "code",
   "execution_count": 21,
   "metadata": {},
   "outputs": [
    {
     "output_type": "stream",
     "name": "stderr",
     "text": [
      "[nltk_data] Downloading package stopwords to\n[nltk_data]     C:\\Users\\domen\\AppData\\Roaming\\nltk_data...\n[nltk_data]   Package stopwords is already up-to-date!\n[nltk_data] Downloading package wordnet to\n[nltk_data]     C:\\Users\\domen\\AppData\\Roaming\\nltk_data...\n[nltk_data]   Package wordnet is already up-to-date!\n[nltk_data] Downloading package punkt to\n[nltk_data]     C:\\Users\\domen\\AppData\\Roaming\\nltk_data...\n[nltk_data]   Package punkt is already up-to-date!\n[nltk_data] Downloading package averaged_perceptron_tagger to\n[nltk_data]     C:\\Users\\domen\\AppData\\Roaming\\nltk_data...\n[nltk_data]   Package averaged_perceptron_tagger is already up-to-\n[nltk_data]       date!\n"
     ]
    }
   ],
   "source": [
    "# Load libraries\n",
    "#!pip install -q wordcloud\n",
    "#import wordcloud\n",
    "from nltk.corpus import stopwords\n",
    "import nltk\n",
    "import string\n",
    "nltk.download('stopwords')\n",
    "nltk.download('wordnet')\n",
    "nltk.download('punkt')\n",
    "nltk.download('averaged_perceptron_tagger')\n",
    "stop = stopwords.words('english')"
   ]
  },
  {
   "source": [
    "## Step 4a: Pre-cleaning counts (easy)"
   ],
   "cell_type": "markdown",
   "metadata": {}
  },
  {
   "cell_type": "code",
   "execution_count": 19,
   "metadata": {},
   "outputs": [
    {
     "output_type": "execute_result",
     "data": {
      "text/plain": [
       "                                             full_text  stopword_ct  \\\n",
       "144  I demand @JustinTrudeau @PattyHajdu @AnitaOakv...           18   \n",
       "165  3 DAYS!  RACE Winners MAY 31\\n\\nMAY 28\\n\\nWEST...           18   \n",
       "95   MAY 31\\n\\nTOTAL INFECTIONS\\n(by proportion of ...           17   \n",
       "\n",
       "     hashtag_ct  atsign_ct  numeric_ct  punctuation_ct  character_ct  \n",
       "144           4          6           0              19           277  \n",
       "165           4          0           3              54           308  \n",
       "95            6          0           1              50           275  "
      ],
      "text/html": "<div>\n<style scoped>\n    .dataframe tbody tr th:only-of-type {\n        vertical-align: middle;\n    }\n\n    .dataframe tbody tr th {\n        vertical-align: top;\n    }\n\n    .dataframe thead th {\n        text-align: right;\n    }\n</style>\n<table border=\"1\" class=\"dataframe\">\n  <thead>\n    <tr style=\"text-align: right;\">\n      <th></th>\n      <th>full_text</th>\n      <th>stopword_ct</th>\n      <th>hashtag_ct</th>\n      <th>atsign_ct</th>\n      <th>numeric_ct</th>\n      <th>punctuation_ct</th>\n      <th>character_ct</th>\n    </tr>\n  </thead>\n  <tbody>\n    <tr>\n      <th>144</th>\n      <td>I demand @JustinTrudeau @PattyHajdu @AnitaOakv...</td>\n      <td>18</td>\n      <td>4</td>\n      <td>6</td>\n      <td>0</td>\n      <td>19</td>\n      <td>277</td>\n    </tr>\n    <tr>\n      <th>165</th>\n      <td>3 DAYS!  RACE Winners MAY 31\\n\\nMAY 28\\n\\nWEST...</td>\n      <td>18</td>\n      <td>4</td>\n      <td>0</td>\n      <td>3</td>\n      <td>54</td>\n      <td>308</td>\n    </tr>\n    <tr>\n      <th>95</th>\n      <td>MAY 31\\n\\nTOTAL INFECTIONS\\n(by proportion of ...</td>\n      <td>17</td>\n      <td>6</td>\n      <td>0</td>\n      <td>1</td>\n      <td>50</td>\n      <td>275</td>\n    </tr>\n  </tbody>\n</table>\n</div>"
     },
     "metadata": {},
     "execution_count": 19
    }
   ],
   "source": [
    "# Easy ones: Stopwords, hashtags, numerics, uppercase, & punctuation\n",
    "\n",
    "# Create pre-clean character count feature\n",
    "df_tweets_raw['character_ct'] = df_tweets_raw.full_text.apply(lambda x: len(x))\n",
    "\n",
    "# Create stopword count feature\n",
    "df_tweets_raw['stopword_ct'] = df_tweets_raw.full_text.apply(lambda x: len([x for x in x.split() if x in stop]))\n",
    "\n",
    "# Create hashtag count feature\n",
    "df_tweets_raw['hashtag_ct'] = df_tweets_raw.full_text.apply(lambda x: len([x for x in x.split() if x.startswith('#')]))\n",
    "\n",
    "# Create @ sign count feature\n",
    "df_tweets_raw['atsign_ct'] = df_tweets_raw.full_text.apply(lambda x: len([x for x in x.split() if x.startswith('@')]))\n",
    "\n",
    "# Create numeric count feature\n",
    "df_tweets_raw['numeric_ct'] = df_tweets_raw.full_text.apply(lambda x: len([x for x in x.split() if x.isdigit()]))\n",
    "\n",
    "# Create an uppercase count feature\n",
    "df_tweets_raw['stopword_ct'] = df_tweets_raw.full_text.apply(lambda x: len([x for x in x.split() if x.isupper()]))\n",
    "\n",
    "# Create punctuation count feature\n",
    "def count_punct(text):\n",
    "    count = sum([1 for char in text if char in string.punctuation])\n",
    "    return count\n",
    "\n",
    "df_tweets_raw['punctuation_ct'] = df_tweets_raw.full_text.apply(lambda x: count_punct(x))\n",
    "\n",
    "\n",
    "# See all new columns\n",
    "df_tweets_raw[['full_text', 'stopword_ct', 'hashtag_ct', 'atsign_ct', 'numeric_ct', 'punctuation_ct', 'character_ct']].sort_values(by='stopword_ct', ascending=False).head(3)"
   ]
  },
  {
   "source": [
    "## Step 4b: Pre-cleaning counts (hard)"
   ],
   "cell_type": "markdown",
   "metadata": {}
  },
  {
   "cell_type": "code",
   "execution_count": 128,
   "metadata": {},
   "outputs": [
    {
     "output_type": "execute_result",
     "data": {
      "text/plain": [
       "                                             full_text  emoji_ct\n",
       "108  @brianlilley Stop 🛑 Blaming #FordNation #Covid...         5\n",
       "3    👋 @CPHO_Canada @CMOH_Alberta @shandro \\nMaybe ...         2\n",
       "114  @5BobbyArmstrong @fordnation @Franktmcveety Pe...         2"
      ],
      "text/html": "<div>\n<style scoped>\n    .dataframe tbody tr th:only-of-type {\n        vertical-align: middle;\n    }\n\n    .dataframe tbody tr th {\n        vertical-align: top;\n    }\n\n    .dataframe thead th {\n        text-align: right;\n    }\n</style>\n<table border=\"1\" class=\"dataframe\">\n  <thead>\n    <tr style=\"text-align: right;\">\n      <th></th>\n      <th>full_text</th>\n      <th>emoji_ct</th>\n    </tr>\n  </thead>\n  <tbody>\n    <tr>\n      <th>108</th>\n      <td>@brianlilley Stop 🛑 Blaming #FordNation #Covid...</td>\n      <td>5</td>\n    </tr>\n    <tr>\n      <th>3</th>\n      <td>👋 @CPHO_Canada @CMOH_Alberta @shandro \\nMaybe ...</td>\n      <td>2</td>\n    </tr>\n    <tr>\n      <th>114</th>\n      <td>@5BobbyArmstrong @fordnation @Franktmcveety Pe...</td>\n      <td>2</td>\n    </tr>\n  </tbody>\n</table>\n</div>"
     },
     "metadata": {},
     "execution_count": 128
    }
   ],
   "source": [
    "# Harder ones: Emojis, Emoticons\n",
    "\n",
    "#TODO Right now, this code gets distinct number of emojis... \n",
    "#TODO Change to total number of emojis used\n",
    "\n",
    "# Load libraries for emoji & regex\n",
    "import emoji\n",
    "import regex\n",
    "import re\n",
    "\n",
    "# Define function to remove emojis\n",
    "def count_emoji(text):\n",
    "    emoji_pattern = re.compile(\"[\"\n",
    "                           u\"\\U0001F600-\\U0001F64F\"  # emoticons\n",
    "                           u\"\\U0001F300-\\U0001F5FF\"  # symbols & pictographs\n",
    "                           u\"\\U0001F680-\\U0001F6FF\"  # transport & map symbols\n",
    "                           u\"\\U0001F1E0-\\U0001F1FF\"  # flags \n",
    "                           u\"\\U00002702-\\U000027B0\"\n",
    "                           u\"\\U000024C2-\\U0001F251\"\n",
    "                           \"]+\", flags=re.UNICODE)\n",
    "    return emoji_pattern.findall(text)\n",
    "\n",
    "# Emoji count \n",
    "df_tweets_raw['emoji_ct'] = df_tweets_raw.full_text.apply(lambda x: len(count_emoji(x)))\n",
    "\n",
    "# See a few \n",
    "df_tweets_raw[['full_text', 'emoji_ct']].sort_values('emoji_ct',ascending=False).head(3)"
   ]
  },
  {
   "cell_type": "code",
   "execution_count": null,
   "metadata": {},
   "outputs": [],
   "source": [
    "# TODO: THIS\n",
    "#   Write a function to identify all the emoticons, call it emoticon_ct\n",
    "\n",
    "# See 3 rows\n",
    "# df[['text','emoticon_ct']].head(3)\n",
    "\n"
   ]
  },
  {
   "source": [
    "## Part 5: Data & Text Cleaning\n",
    "* Change to lower case\n",
    "* Remove punctuation, stopwords, URLs, html tags, emojis, emoticons\n",
    "* Spell correction\n",
    "* Explore & remove custom stopwords"
   ],
   "cell_type": "markdown",
   "metadata": {}
  },
  {
   "cell_type": "code",
   "execution_count": 129,
   "metadata": {},
   "outputs": [
    {
     "output_type": "execute_result",
     "data": {
      "text/plain": [
       "'COVID-19 variants have been given new names by the World Health Organization. Here are the new labels: https://t.co/PhpOOdtWdd\\n\\n#COVIDtoronto #COVID19ON #COVIDcanada https://t.co/4DWJpmfNgS'"
      ]
     },
     "metadata": {},
     "execution_count": 129
    }
   ],
   "source": [
    "# Create a copy to preserve the raw data\n",
    "df_tweets = df_tweets_raw.copy()\n",
    "\n",
    "# Sample the tweets\n",
    "df_tweets_raw.full_text[26]"
   ]
  },
  {
   "cell_type": "code",
   "execution_count": 101,
   "metadata": {},
   "outputs": [
    {
     "output_type": "stream",
     "name": "stdout",
     "text": [
      "1) The ethics and concerns of disclosing the names of businesses where COVID-19 outbreaks have occurred. #COVID19 #pandemic #COVIDCanada #healthandsafety https://t.co/hX8MTXRtOp\n\n2) @dubsndoo Because she’s the only one with #covidcanada\n\n3) Today's coronavirus news: Toronto is opening more than 10,000 additional vaccination appointments for next week, and Ontario is again asking the federal government to strengthen border enforcement. https://t.co/fU8mLoabqg\n\n#vaccineTO #COVIDtoronto #COVID19ON #COVIDcanada https://t.co/fRchXR4dwx\n\n4) 👋 @CPHO_Canada @CMOH_Alberta @shandro \nMaybe you could check this out?  Please and thanks.\n\n#COVIDCanada \n#COVID19AB \n\n👇🇨🇦 https://t.co/17k5jp25vt\n\n5) Excited to sit down for another @ProjectCanary2 episode with @Melhathnofury on Sunday. Time to do some AB/BC bullshit catch-up #CovidCanada #CovidWest #BCPoli #ABPoli #BCEd #ABEd\n\n"
     ]
    }
   ],
   "source": [
    "# View more sample tweets\n",
    "for i in range(0,5):\n",
    "    print(str(i+1) + ') ' + df_tweets_raw.full_text[i] + '\\n')"
   ]
  },
  {
   "source": [
    "## Step 5a: Convert tweets to lower case"
   ],
   "cell_type": "markdown",
   "metadata": {}
  },
  {
   "cell_type": "code",
   "execution_count": 130,
   "metadata": {},
   "outputs": [
    {
     "output_type": "stream",
     "name": "stdout",
     "text": [
      "Cleaned tweet:\ncovid-19 variants have been given new names by the world health organization. here are the new labels: https://t.co/phpoodtwdd\n\n#covidtoronto #covid19on #covidcanada https://t.co/4dwjpmfngs\n"
     ]
    }
   ],
   "source": [
    "# Convert transcripts to lower case\n",
    "df_tweets['text_cleaned'] = df_tweets['full_text'].map(lambda x: x.lower())\n",
    "\n",
    "# Print out sample of cleaned transcripts\n",
    "print(\"Cleaned tweet:\\n\" + df_tweets['text_cleaned'][26])"
   ]
  },
  {
   "source": [
    "## Step 5b: Remove URLs, html tags, punctuation, stopwords, emojis, emoticons"
   ],
   "cell_type": "markdown",
   "metadata": {}
  },
  {
   "cell_type": "code",
   "execution_count": 131,
   "metadata": {},
   "outputs": [
    {
     "output_type": "stream",
     "name": "stdout",
     "text": [
      "Cleaned tweet:\ncovid-19 variants have been given new names by the world health organization. here are the new labels: \n\n#covidtoronto #covid19on #covidcanada\n"
     ]
    }
   ],
   "source": [
    "# Remove tweet URLs\n",
    "df_tweets['text_cleaned'] = df_tweets.text_cleaned.map(lambda x: re.sub(r'https\\:\\/\\/t\\.co\\/*\\w*', '', x, flags=re.MULTILINE).strip())\n",
    "\n",
    "# Print out sample of cleaned transcripts\n",
    "print(\"Cleaned tweet:\\n\" + df_tweets['text_cleaned'][26])"
   ]
  },
  {
   "cell_type": "code",
   "execution_count": 132,
   "metadata": {},
   "outputs": [
    {
     "output_type": "stream",
     "name": "stdout",
     "text": [
      "Cleaned tweet:\n",
      "covid19 variants have been given new names by the world health organization here are the new labels \n",
      "\n",
      "covidtoronto covid19on covidcanada\n",
      "<ipython-input-132-3fcf730612d2>:2: FutureWarning: The default value of regex will change from True to False in a future version.\n",
      "  df_tweets['text_cleaned'] = df_tweets.text_cleaned.str.replace('[^\\w\\s]','')\n"
     ]
    }
   ],
   "source": [
    "# Remove punctuation\n",
    "df_tweets['text_cleaned'] = df_tweets.text_cleaned.str.replace('[^\\w\\s]','')\n",
    "\n",
    "# Print out sample of cleaned transcripts\n",
    "print(\"Cleaned tweet:\\n\" + df_tweets['text_cleaned'][26])"
   ]
  },
  {
   "cell_type": "code",
   "execution_count": 133,
   "metadata": {},
   "outputs": [
    {
     "output_type": "stream",
     "name": "stdout",
     "text": [
      "Cleaned tweet:\ncovid19 variants given new names world health organization new labels covidtoronto covid19on covidcanada\n"
     ]
    }
   ],
   "source": [
    "# Remove stopwords (start with library to identify stopwords)\n",
    "from nltk.corpus import stopwords\n",
    "\n",
    "# Define english & french stopwords \n",
    "stop_en = stopwords.words('english')\n",
    "stop_fr = stopwords.words('french')\n",
    "\n",
    "# Remove english & french stopwords\n",
    "df_tweets['text_cleaned'] = df_tweets.text_cleaned.apply(lambda x: \" \".join(x for x in x.split() if x not in stop_en))\n",
    "df_tweets['text_cleaned'] = df_tweets.text_cleaned.apply(lambda x: \" \".join(x for x in x.split() if x not in stop_fr))\n",
    "\n",
    "# Print out sample of cleaned transcripts\n",
    "print(\"Cleaned tweet:\\n\" + df_tweets['text_cleaned'][26])"
   ]
  },
  {
   "cell_type": "code",
   "execution_count": 134,
   "metadata": {},
   "outputs": [
    {
     "output_type": "stream",
     "name": "stdout",
     "text": [
      "Cleaned tweet:\ncovid19 variants given new names world health organization new labels covidtoronto covid19on covidcanada\n"
     ]
    }
   ],
   "source": [
    "# Define function to remove emojis --> e.g. 😜\n",
    "def remove_emoji(text):\n",
    "    emoji_pattern = re.compile(\"[\"\n",
    "                           u\"\\U0001F600-\\U0001F64F\"  # emoticons\n",
    "                           u\"\\U0001F300-\\U0001F5FF\"  # symbols & pictographs\n",
    "                           u\"\\U0001F680-\\U0001F6FF\"  # transport & map symbols\n",
    "                           u\"\\U0001F1E0-\\U0001F1FF\"  # flags \n",
    "                           u\"\\U00002702-\\U000027B0\"\n",
    "                           u\"\\U000024C2-\\U0001F251\"\n",
    "                           \"]+\", flags=re.UNICODE)\n",
    "    return emoji_pattern.sub(r'', text)\n",
    "\n",
    "# Remove all emojis\n",
    "df_tweets['text_cleaned'] = df_tweets.text_cleaned.apply(lambda x: remove_emoji(x))\n",
    "\n",
    "# Print out sample of cleaned transcripts\n",
    "print(\"Cleaned tweet:\\n\" + df_tweets['text_cleaned'][26])"
   ]
  },
  {
   "cell_type": "code",
   "execution_count": 135,
   "metadata": {},
   "outputs": [
    {
     "output_type": "stream",
     "name": "stdout",
     "text": [
      "Requirement already satisfied: emot in c:\\users\\dofayad\\appdata\\local\\programs\\python\\python39\\lib\\site-packages (2.1)\n",
      "Cleaned tweet:\n",
      "covid19 variants given new names world health organization new labels covidtoronto covid19on covidcanada\n",
      "WARNING: You are using pip version 21.1.1; however, version 21.1.2 is available.\n",
      "You should consider upgrading via the 'c:\\users\\dofayad\\appdata\\local\\programs\\python\\python39\\python.exe -m pip install --upgrade pip' command.\n"
     ]
    }
   ],
   "source": [
    "# Define function to remove emoticons --> e.g. :-)\n",
    "\n",
    "# Libraries\n",
    "!pip install emot\n",
    "from emot.emo_unicode import UNICODE_EMO, EMOTICONS\n",
    "\n",
    "# Function for removing emoticons\n",
    "def remove_emoticons(text):\n",
    "    emoticon_pattern = re.compile(u'(' + u'|'.join(k for k in EMOTICONS) + u')')\n",
    "    return emoticon_pattern.sub(r'', text)\n",
    "\n",
    "# Remove all emoticons\n",
    "df_tweets['text_cleaned'] = df_tweets.text_cleaned.apply(lambda x: remove_emoticons(x))\n",
    "\n",
    "# Print out sample of cleaned transcripts\n",
    "print(\"Cleaned tweet:\\n\" + df_tweets['text_cleaned'][26])"
   ]
  },
  {
   "source": [
    "## Step 5c: Tokenize and lemmatize tweets\n",
    "Tokenization parses tweets into individual words and lemmatization removes inflectional endings (ie. endings that add grammatical meaning). These methods prepare the data for word frequency and n-gram analysis.\n",
    "\n",
    "Methods used below reference this post: https://towardsdatascience.com/from-dataframe-to-n-grams-e34e29df3460"
   ],
   "cell_type": "markdown",
   "metadata": {}
  },
  {
   "cell_type": "code",
   "execution_count": 136,
   "metadata": {},
   "outputs": [
    {
     "output_type": "execute_result",
     "data": {
      "text/plain": [
       "['ethic',\n",
       " 'concern',\n",
       " 'disclosing',\n",
       " 'name',\n",
       " 'business',\n",
       " 'covid19',\n",
       " 'outbreak',\n",
       " 'occurred',\n",
       " 'covid19',\n",
       " 'pandemic',\n",
       " 'covidcanada',\n",
       " 'healthandsafety',\n",
       " 'dubsndoo',\n",
       " 'shes',\n",
       " 'one']"
      ]
     },
     "metadata": {},
     "execution_count": 136
    }
   ],
   "source": [
    "def basic_clean(text):\n",
    "    \"\"\"\n",
    "    A simple function to clean up the data. All the words that\n",
    "    are not designated as a stop word are then lemmatized after\n",
    "    encoding and basic regex parsing are performed.\n",
    "    \"\"\"\n",
    "    wnl = nltk.stem.WordNetLemmatizer()\n",
    "    stopwords = nltk.corpus.stopwords.words('english')\n",
    "    text = (unicodedata.normalize('NFKD', text)\n",
    "    .encode('ascii', 'ignore')\n",
    "    .decode('utf-8', 'ignore'))\n",
    "    words = re.sub(r'[^\\w\\s]', '', text).split()\n",
    "    return [wnl.lemmatize(word) for word in words if word not in stopwords]\n",
    "\n",
    "words = basic_clean(''.join(str(df_tweets['text_cleaned'].tolist())))\n",
    "words[:15]"
   ]
  },
  {
   "source": [
    "## Step 5d: Word correction (needs work & review!)"
   ],
   "cell_type": "markdown",
   "metadata": {}
  },
  {
   "cell_type": "code",
   "execution_count": null,
   "metadata": {},
   "outputs": [],
   "source": [
    "#TODO Check to see if this worked as intended...\n",
    "\n",
    "# Spell correction \n",
    "from textblob import TextBlob\n",
    "df_tweets['text_cleaned'] = df_tweets.text_cleaned.[:5].apply(lambda x: str(TextBlob(x).correct()))"
   ]
  },
  {
   "source": [
    "# Step 6: Text analytics (analyze tweets)"
   ],
   "cell_type": "markdown",
   "metadata": {}
  },
  {
   "source": [
    "## Step 6a: Word frequencies and n-grams"
   ],
   "cell_type": "markdown",
   "metadata": {}
  },
  {
   "cell_type": "code",
   "execution_count": 137,
   "metadata": {},
   "outputs": [
    {
     "output_type": "execute_result",
     "data": {
      "text/plain": [
       "(covid19on, covidcanada)        25\n",
       "(covidcanada, covid19canada)    22\n",
       "(covidtoronto, covid19on)       21\n",
       "(covidcanada, covidbc)          20\n",
       "(covid19, case)                 18\n",
       "(covidbc, covidab)              16\n",
       "(covid19, covidcanada)          15\n",
       "(covidab, covidsk)              14\n",
       "(cbc, news)                     14\n",
       "(covid19, vaccine)              13\n",
       "(vaccine, dos)                  13\n",
       "(covidbc, covidcanada)          12\n",
       "(covid19bc, covid19canada)      11\n",
       "(may, 31)                       11\n",
       "(new, case)                     11\n",
       "dtype: int64"
      ]
     },
     "metadata": {},
     "execution_count": 137
    }
   ],
   "source": [
    "def tweets_ngrams(n, top_n):\n",
    "    result = (pd.Series(nltk.ngrams(words, n)).value_counts())[:top_n]\n",
    "    return result\n",
    "\n",
    "word_series = tweets_ngrams(1, 15)\n",
    "bigram_series = tweets_ngrams(2, 15)\n",
    "trigram_series = tweets_ngrams(3, 15)\n",
    "\n",
    "bigram_series"
   ]
  },
  {
   "cell_type": "code",
   "execution_count": null,
   "metadata": {},
   "outputs": [],
   "source": [
    "#TODO: visualize word frequencies in horizontal bar charts"
   ]
  },
  {
   "cell_type": "code",
   "execution_count": 138,
   "metadata": {},
   "outputs": [],
   "source": [
    "sns.set_style('whitegrid')\n",
    "%matplotlib inline"
   ]
  },
  {
   "cell_type": "code",
   "execution_count": 114,
   "metadata": {},
   "outputs": [
    {
     "output_type": "stream",
     "name": "stderr",
     "text": [
      "C:\\Users\\dofayad\\AppData\\Local\\Programs\\Python\\Python39\\lib\\site-packages\\seaborn\\_decorators.py:36: FutureWarning: Pass the following variables as keyword args: x, y. From version 0.12, the only valid positional argument will be `data`, and passing other arguments without an explicit keyword will result in an error or misinterpretation.\n  warnings.warn(\n"
     ]
    },
    {
     "output_type": "display_data",
     "data": {
      "text/plain": "<Figure size 1080x667.491 with 1 Axes>",
      "image/svg+xml": "<?xml version=\"1.0\" encoding=\"utf-8\" standalone=\"no\"?>\r\n<!DOCTYPE svg PUBLIC \"-//W3C//DTD SVG 1.1//EN\"\r\n  \"http://www.w3.org/Graphics/SVG/1.1/DTD/svg11.dtd\">\r\n<svg height=\"562.235501pt\" version=\"1.1\" viewBox=\"0 0 938.815625 562.235501\" width=\"938.815625pt\" xmlns=\"http://www.w3.org/2000/svg\" xmlns:xlink=\"http://www.w3.org/1999/xlink\">\r\n <metadata>\r\n  <rdf:RDF xmlns:cc=\"http://creativecommons.org/ns#\" xmlns:dc=\"http://purl.org/dc/elements/1.1/\" xmlns:rdf=\"http://www.w3.org/1999/02/22-rdf-syntax-ns#\">\r\n   <cc:Work>\r\n    <dc:type rdf:resource=\"http://purl.org/dc/dcmitype/StillImage\"/>\r\n    <dc:date>2021-06-04T16:15:05.790645</dc:date>\r\n    <dc:format>image/svg+xml</dc:format>\r\n    <dc:creator>\r\n     <cc:Agent>\r\n      <dc:title>Matplotlib v3.4.2, https://matplotlib.org/</dc:title>\r\n     </cc:Agent>\r\n    </dc:creator>\r\n   </cc:Work>\r\n  </rdf:RDF>\r\n </metadata>\r\n <defs>\r\n  <style type=\"text/css\">*{stroke-linecap:butt;stroke-linejoin:round;}</style>\r\n </defs>\r\n <g id=\"figure_1\">\r\n  <g id=\"patch_1\">\r\n   <path d=\"M 0 562.235501 \r\nL 938.815625 562.235501 \r\nL 938.815625 0 \r\nL 0 0 \r\nz\r\n\" style=\"fill:none;\"/>\r\n  </g>\r\n  <g id=\"axes_1\">\r\n   <g id=\"patch_2\">\r\n    <path d=\"M 94.615625 525.744876 \r\nL 931.615625 525.744876 \r\nL 931.615625 21.789375 \r\nL 94.615625 21.789375 \r\nz\r\n\" style=\"fill:#ffffff;\"/>\r\n   </g>\r\n   <g id=\"matplotlib.axis_1\">\r\n    <g id=\"xtick_1\">\r\n     <g id=\"line2d_1\">\r\n      <path clip-path=\"url(#pac66a07a43)\" d=\"M 94.615625 525.744876 \r\nL 94.615625 21.789375 \r\n\" style=\"fill:none;stroke:#cccccc;stroke-linecap:round;stroke-width:0.8;\"/>\r\n     </g>\r\n     <g id=\"text_1\">\r\n      <!-- 0.0 -->\r\n      <g style=\"fill:#262626;\" transform=\"translate(87.665625 539.902688)scale(0.1 -0.1)\">\r\n       <defs>\r\n        <path d=\"M 266 2259 \r\nQ 266 3072 433 3567 \r\nQ 600 4063 929 4331 \r\nQ 1259 4600 1759 4600 \r\nQ 2128 4600 2406 4451 \r\nQ 2684 4303 2865 4023 \r\nQ 3047 3744 3150 3342 \r\nQ 3253 2941 3253 2259 \r\nQ 3253 1453 3087 958 \r\nQ 2922 463 2592 192 \r\nQ 2263 -78 1759 -78 \r\nQ 1097 -78 719 397 \r\nQ 266 969 266 2259 \r\nz\r\nM 844 2259 \r\nQ 844 1131 1108 757 \r\nQ 1372 384 1759 384 \r\nQ 2147 384 2411 759 \r\nQ 2675 1134 2675 2259 \r\nQ 2675 3391 2411 3762 \r\nQ 2147 4134 1753 4134 \r\nQ 1366 4134 1134 3806 \r\nQ 844 3388 844 2259 \r\nz\r\n\" id=\"ArialMT-30\" transform=\"scale(0.015625)\"/>\r\n        <path d=\"M 581 0 \r\nL 581 641 \r\nL 1222 641 \r\nL 1222 0 \r\nL 581 0 \r\nz\r\n\" id=\"ArialMT-2e\" transform=\"scale(0.015625)\"/>\r\n       </defs>\r\n       <use xlink:href=\"#ArialMT-30\"/>\r\n       <use x=\"55.615234\" xlink:href=\"#ArialMT-2e\"/>\r\n       <use x=\"83.398438\" xlink:href=\"#ArialMT-30\"/>\r\n      </g>\r\n     </g>\r\n    </g>\r\n    <g id=\"xtick_2\">\r\n     <g id=\"line2d_2\">\r\n      <path clip-path=\"url(#pac66a07a43)\" d=\"M 199.502843 525.744876 \r\nL 199.502843 21.789375 \r\n\" style=\"fill:none;stroke:#cccccc;stroke-linecap:round;stroke-width:0.8;\"/>\r\n     </g>\r\n     <g id=\"text_2\">\r\n      <!-- 2.5 -->\r\n      <g style=\"fill:#262626;\" transform=\"translate(192.552843 539.902688)scale(0.1 -0.1)\">\r\n       <defs>\r\n        <path d=\"M 3222 541 \r\nL 3222 0 \r\nL 194 0 \r\nQ 188 203 259 391 \r\nQ 375 700 629 1000 \r\nQ 884 1300 1366 1694 \r\nQ 2113 2306 2375 2664 \r\nQ 2638 3022 2638 3341 \r\nQ 2638 3675 2398 3904 \r\nQ 2159 4134 1775 4134 \r\nQ 1369 4134 1125 3890 \r\nQ 881 3647 878 3216 \r\nL 300 3275 \r\nQ 359 3922 746 4261 \r\nQ 1134 4600 1788 4600 \r\nQ 2447 4600 2831 4234 \r\nQ 3216 3869 3216 3328 \r\nQ 3216 3053 3103 2787 \r\nQ 2991 2522 2730 2228 \r\nQ 2469 1934 1863 1422 \r\nQ 1356 997 1212 845 \r\nQ 1069 694 975 541 \r\nL 3222 541 \r\nz\r\n\" id=\"ArialMT-32\" transform=\"scale(0.015625)\"/>\r\n        <path d=\"M 266 1200 \r\nL 856 1250 \r\nQ 922 819 1161 601 \r\nQ 1400 384 1738 384 \r\nQ 2144 384 2425 690 \r\nQ 2706 997 2706 1503 \r\nQ 2706 1984 2436 2262 \r\nQ 2166 2541 1728 2541 \r\nQ 1456 2541 1237 2417 \r\nQ 1019 2294 894 2097 \r\nL 366 2166 \r\nL 809 4519 \r\nL 3088 4519 \r\nL 3088 3981 \r\nL 1259 3981 \r\nL 1013 2750 \r\nQ 1425 3038 1878 3038 \r\nQ 2478 3038 2890 2622 \r\nQ 3303 2206 3303 1553 \r\nQ 3303 931 2941 478 \r\nQ 2500 -78 1738 -78 \r\nQ 1113 -78 717 272 \r\nQ 322 622 266 1200 \r\nz\r\n\" id=\"ArialMT-35\" transform=\"scale(0.015625)\"/>\r\n       </defs>\r\n       <use xlink:href=\"#ArialMT-32\"/>\r\n       <use x=\"55.615234\" xlink:href=\"#ArialMT-2e\"/>\r\n       <use x=\"83.398438\" xlink:href=\"#ArialMT-35\"/>\r\n      </g>\r\n     </g>\r\n    </g>\r\n    <g id=\"xtick_3\">\r\n     <g id=\"line2d_3\">\r\n      <path clip-path=\"url(#pac66a07a43)\" d=\"M 304.390061 525.744876 \r\nL 304.390061 21.789375 \r\n\" style=\"fill:none;stroke:#cccccc;stroke-linecap:round;stroke-width:0.8;\"/>\r\n     </g>\r\n     <g id=\"text_3\">\r\n      <!-- 5.0 -->\r\n      <g style=\"fill:#262626;\" transform=\"translate(297.440061 539.902688)scale(0.1 -0.1)\">\r\n       <use xlink:href=\"#ArialMT-35\"/>\r\n       <use x=\"55.615234\" xlink:href=\"#ArialMT-2e\"/>\r\n       <use x=\"83.398438\" xlink:href=\"#ArialMT-30\"/>\r\n      </g>\r\n     </g>\r\n    </g>\r\n    <g id=\"xtick_4\">\r\n     <g id=\"line2d_4\">\r\n      <path clip-path=\"url(#pac66a07a43)\" d=\"M 409.277279 525.744876 \r\nL 409.277279 21.789375 \r\n\" style=\"fill:none;stroke:#cccccc;stroke-linecap:round;stroke-width:0.8;\"/>\r\n     </g>\r\n     <g id=\"text_4\">\r\n      <!-- 7.5 -->\r\n      <g style=\"fill:#262626;\" transform=\"translate(402.327279 539.902688)scale(0.1 -0.1)\">\r\n       <defs>\r\n        <path d=\"M 303 3981 \r\nL 303 4522 \r\nL 3269 4522 \r\nL 3269 4084 \r\nQ 2831 3619 2401 2847 \r\nQ 1972 2075 1738 1259 \r\nQ 1569 684 1522 0 \r\nL 944 0 \r\nQ 953 541 1156 1306 \r\nQ 1359 2072 1739 2783 \r\nQ 2119 3494 2547 3981 \r\nL 303 3981 \r\nz\r\n\" id=\"ArialMT-37\" transform=\"scale(0.015625)\"/>\r\n       </defs>\r\n       <use xlink:href=\"#ArialMT-37\"/>\r\n       <use x=\"55.615234\" xlink:href=\"#ArialMT-2e\"/>\r\n       <use x=\"83.398438\" xlink:href=\"#ArialMT-35\"/>\r\n      </g>\r\n     </g>\r\n    </g>\r\n    <g id=\"xtick_5\">\r\n     <g id=\"line2d_5\">\r\n      <path clip-path=\"url(#pac66a07a43)\" d=\"M 514.164497 525.744876 \r\nL 514.164497 21.789375 \r\n\" style=\"fill:none;stroke:#cccccc;stroke-linecap:round;stroke-width:0.8;\"/>\r\n     </g>\r\n     <g id=\"text_5\">\r\n      <!-- 10.0 -->\r\n      <g style=\"fill:#262626;\" transform=\"translate(504.434028 539.902688)scale(0.1 -0.1)\">\r\n       <defs>\r\n        <path d=\"M 2384 0 \r\nL 1822 0 \r\nL 1822 3584 \r\nQ 1619 3391 1289 3197 \r\nQ 959 3003 697 2906 \r\nL 697 3450 \r\nQ 1169 3672 1522 3987 \r\nQ 1875 4303 2022 4600 \r\nL 2384 4600 \r\nL 2384 0 \r\nz\r\n\" id=\"ArialMT-31\" transform=\"scale(0.015625)\"/>\r\n       </defs>\r\n       <use xlink:href=\"#ArialMT-31\"/>\r\n       <use x=\"55.615234\" xlink:href=\"#ArialMT-30\"/>\r\n       <use x=\"111.230469\" xlink:href=\"#ArialMT-2e\"/>\r\n       <use x=\"139.013672\" xlink:href=\"#ArialMT-30\"/>\r\n      </g>\r\n     </g>\r\n    </g>\r\n    <g id=\"xtick_6\">\r\n     <g id=\"line2d_6\">\r\n      <path clip-path=\"url(#pac66a07a43)\" d=\"M 619.051715 525.744876 \r\nL 619.051715 21.789375 \r\n\" style=\"fill:none;stroke:#cccccc;stroke-linecap:round;stroke-width:0.8;\"/>\r\n     </g>\r\n     <g id=\"text_6\">\r\n      <!-- 12.5 -->\r\n      <g style=\"fill:#262626;\" transform=\"translate(609.321246 539.902688)scale(0.1 -0.1)\">\r\n       <use xlink:href=\"#ArialMT-31\"/>\r\n       <use x=\"55.615234\" xlink:href=\"#ArialMT-32\"/>\r\n       <use x=\"111.230469\" xlink:href=\"#ArialMT-2e\"/>\r\n       <use x=\"139.013672\" xlink:href=\"#ArialMT-35\"/>\r\n      </g>\r\n     </g>\r\n    </g>\r\n    <g id=\"xtick_7\">\r\n     <g id=\"line2d_7\">\r\n      <path clip-path=\"url(#pac66a07a43)\" d=\"M 723.938933 525.744876 \r\nL 723.938933 21.789375 \r\n\" style=\"fill:none;stroke:#cccccc;stroke-linecap:round;stroke-width:0.8;\"/>\r\n     </g>\r\n     <g id=\"text_7\">\r\n      <!-- 15.0 -->\r\n      <g style=\"fill:#262626;\" transform=\"translate(714.208465 539.902688)scale(0.1 -0.1)\">\r\n       <use xlink:href=\"#ArialMT-31\"/>\r\n       <use x=\"55.615234\" xlink:href=\"#ArialMT-35\"/>\r\n       <use x=\"111.230469\" xlink:href=\"#ArialMT-2e\"/>\r\n       <use x=\"139.013672\" xlink:href=\"#ArialMT-30\"/>\r\n      </g>\r\n     </g>\r\n    </g>\r\n    <g id=\"xtick_8\">\r\n     <g id=\"line2d_8\">\r\n      <path clip-path=\"url(#pac66a07a43)\" d=\"M 828.826151 525.744876 \r\nL 828.826151 21.789375 \r\n\" style=\"fill:none;stroke:#cccccc;stroke-linecap:round;stroke-width:0.8;\"/>\r\n     </g>\r\n     <g id=\"text_8\">\r\n      <!-- 17.5 -->\r\n      <g style=\"fill:#262626;\" transform=\"translate(819.095683 539.902688)scale(0.1 -0.1)\">\r\n       <use xlink:href=\"#ArialMT-31\"/>\r\n       <use x=\"55.615234\" xlink:href=\"#ArialMT-37\"/>\r\n       <use x=\"111.230469\" xlink:href=\"#ArialMT-2e\"/>\r\n       <use x=\"139.013672\" xlink:href=\"#ArialMT-35\"/>\r\n      </g>\r\n     </g>\r\n    </g>\r\n    <g id=\"text_9\">\r\n     <!-- counts -->\r\n     <g style=\"fill:#262626;\" transform=\"translate(498.385156 553.048001)scale(0.1 -0.1)\">\r\n      <defs>\r\n       <path d=\"M 2588 1216 \r\nL 3141 1144 \r\nQ 3050 572 2676 248 \r\nQ 2303 -75 1759 -75 \r\nQ 1078 -75 664 370 \r\nQ 250 816 250 1647 \r\nQ 250 2184 428 2587 \r\nQ 606 2991 970 3192 \r\nQ 1334 3394 1763 3394 \r\nQ 2303 3394 2647 3120 \r\nQ 2991 2847 3088 2344 \r\nL 2541 2259 \r\nQ 2463 2594 2264 2762 \r\nQ 2066 2931 1784 2931 \r\nQ 1359 2931 1093 2626 \r\nQ 828 2322 828 1663 \r\nQ 828 994 1084 691 \r\nQ 1341 388 1753 388 \r\nQ 2084 388 2306 591 \r\nQ 2528 794 2588 1216 \r\nz\r\n\" id=\"ArialMT-63\" transform=\"scale(0.015625)\"/>\r\n       <path d=\"M 213 1659 \r\nQ 213 2581 725 3025 \r\nQ 1153 3394 1769 3394 \r\nQ 2453 3394 2887 2945 \r\nQ 3322 2497 3322 1706 \r\nQ 3322 1066 3130 698 \r\nQ 2938 331 2570 128 \r\nQ 2203 -75 1769 -75 \r\nQ 1072 -75 642 372 \r\nQ 213 819 213 1659 \r\nz\r\nM 791 1659 \r\nQ 791 1022 1069 705 \r\nQ 1347 388 1769 388 \r\nQ 2188 388 2466 706 \r\nQ 2744 1025 2744 1678 \r\nQ 2744 2294 2464 2611 \r\nQ 2184 2928 1769 2928 \r\nQ 1347 2928 1069 2612 \r\nQ 791 2297 791 1659 \r\nz\r\n\" id=\"ArialMT-6f\" transform=\"scale(0.015625)\"/>\r\n       <path d=\"M 2597 0 \r\nL 2597 488 \r\nQ 2209 -75 1544 -75 \r\nQ 1250 -75 995 37 \r\nQ 741 150 617 320 \r\nQ 494 491 444 738 \r\nQ 409 903 409 1263 \r\nL 409 3319 \r\nL 972 3319 \r\nL 972 1478 \r\nQ 972 1038 1006 884 \r\nQ 1059 663 1231 536 \r\nQ 1403 409 1656 409 \r\nQ 1909 409 2131 539 \r\nQ 2353 669 2445 892 \r\nQ 2538 1116 2538 1541 \r\nL 2538 3319 \r\nL 3100 3319 \r\nL 3100 0 \r\nL 2597 0 \r\nz\r\n\" id=\"ArialMT-75\" transform=\"scale(0.015625)\"/>\r\n       <path d=\"M 422 0 \r\nL 422 3319 \r\nL 928 3319 \r\nL 928 2847 \r\nQ 1294 3394 1984 3394 \r\nQ 2284 3394 2536 3286 \r\nQ 2788 3178 2913 3003 \r\nQ 3038 2828 3088 2588 \r\nQ 3119 2431 3119 2041 \r\nL 3119 0 \r\nL 2556 0 \r\nL 2556 2019 \r\nQ 2556 2363 2490 2533 \r\nQ 2425 2703 2258 2804 \r\nQ 2091 2906 1866 2906 \r\nQ 1506 2906 1245 2678 \r\nQ 984 2450 984 1813 \r\nL 984 0 \r\nL 422 0 \r\nz\r\n\" id=\"ArialMT-6e\" transform=\"scale(0.015625)\"/>\r\n       <path d=\"M 1650 503 \r\nL 1731 6 \r\nQ 1494 -44 1306 -44 \r\nQ 1000 -44 831 53 \r\nQ 663 150 594 308 \r\nQ 525 466 525 972 \r\nL 525 2881 \r\nL 113 2881 \r\nL 113 3319 \r\nL 525 3319 \r\nL 525 4141 \r\nL 1084 4478 \r\nL 1084 3319 \r\nL 1650 3319 \r\nL 1650 2881 \r\nL 1084 2881 \r\nL 1084 941 \r\nQ 1084 700 1114 631 \r\nQ 1144 563 1211 522 \r\nQ 1278 481 1403 481 \r\nQ 1497 481 1650 503 \r\nz\r\n\" id=\"ArialMT-74\" transform=\"scale(0.015625)\"/>\r\n       <path d=\"M 197 991 \r\nL 753 1078 \r\nQ 800 744 1014 566 \r\nQ 1228 388 1613 388 \r\nQ 2000 388 2187 545 \r\nQ 2375 703 2375 916 \r\nQ 2375 1106 2209 1216 \r\nQ 2094 1291 1634 1406 \r\nQ 1016 1563 777 1677 \r\nQ 538 1791 414 1992 \r\nQ 291 2194 291 2438 \r\nQ 291 2659 392 2848 \r\nQ 494 3038 669 3163 \r\nQ 800 3259 1026 3326 \r\nQ 1253 3394 1513 3394 \r\nQ 1903 3394 2198 3281 \r\nQ 2494 3169 2634 2976 \r\nQ 2775 2784 2828 2463 \r\nL 2278 2388 \r\nQ 2241 2644 2061 2787 \r\nQ 1881 2931 1553 2931 \r\nQ 1166 2931 1000 2803 \r\nQ 834 2675 834 2503 \r\nQ 834 2394 903 2306 \r\nQ 972 2216 1119 2156 \r\nQ 1203 2125 1616 2013 \r\nQ 2213 1853 2448 1751 \r\nQ 2684 1650 2818 1456 \r\nQ 2953 1263 2953 975 \r\nQ 2953 694 2789 445 \r\nQ 2625 197 2315 61 \r\nQ 2006 -75 1616 -75 \r\nQ 969 -75 630 194 \r\nQ 291 463 197 991 \r\nz\r\n\" id=\"ArialMT-73\" transform=\"scale(0.015625)\"/>\r\n      </defs>\r\n      <use xlink:href=\"#ArialMT-63\"/>\r\n      <use x=\"50\" xlink:href=\"#ArialMT-6f\"/>\r\n      <use x=\"105.615234\" xlink:href=\"#ArialMT-75\"/>\r\n      <use x=\"161.230469\" xlink:href=\"#ArialMT-6e\"/>\r\n      <use x=\"216.845703\" xlink:href=\"#ArialMT-74\"/>\r\n      <use x=\"244.628906\" xlink:href=\"#ArialMT-73\"/>\r\n     </g>\r\n    </g>\r\n   </g>\r\n   <g id=\"matplotlib.axis_2\">\r\n    <g id=\"ytick_1\">\r\n     <g id=\"text_10\">\r\n      <!-- covidcanada -->\r\n      <g style=\"fill:#262626;\" transform=\"translate(31.467187 38.290217)scale(0.1 -0.1)\">\r\n       <defs>\r\n        <path d=\"M 1344 0 \r\nL 81 3319 \r\nL 675 3319 \r\nL 1388 1331 \r\nQ 1503 1009 1600 663 \r\nQ 1675 925 1809 1294 \r\nL 2547 3319 \r\nL 3125 3319 \r\nL 1869 0 \r\nL 1344 0 \r\nz\r\n\" id=\"ArialMT-76\" transform=\"scale(0.015625)\"/>\r\n        <path d=\"M 425 3934 \r\nL 425 4581 \r\nL 988 4581 \r\nL 988 3934 \r\nL 425 3934 \r\nz\r\nM 425 0 \r\nL 425 3319 \r\nL 988 3319 \r\nL 988 0 \r\nL 425 0 \r\nz\r\n\" id=\"ArialMT-69\" transform=\"scale(0.015625)\"/>\r\n        <path d=\"M 2575 0 \r\nL 2575 419 \r\nQ 2259 -75 1647 -75 \r\nQ 1250 -75 917 144 \r\nQ 584 363 401 755 \r\nQ 219 1147 219 1656 \r\nQ 219 2153 384 2558 \r\nQ 550 2963 881 3178 \r\nQ 1213 3394 1622 3394 \r\nQ 1922 3394 2156 3267 \r\nQ 2391 3141 2538 2938 \r\nL 2538 4581 \r\nL 3097 4581 \r\nL 3097 0 \r\nL 2575 0 \r\nz\r\nM 797 1656 \r\nQ 797 1019 1065 703 \r\nQ 1334 388 1700 388 \r\nQ 2069 388 2326 689 \r\nQ 2584 991 2584 1609 \r\nQ 2584 2291 2321 2609 \r\nQ 2059 2928 1675 2928 \r\nQ 1300 2928 1048 2622 \r\nQ 797 2316 797 1656 \r\nz\r\n\" id=\"ArialMT-64\" transform=\"scale(0.015625)\"/>\r\n        <path d=\"M 2588 409 \r\nQ 2275 144 1986 34 \r\nQ 1697 -75 1366 -75 \r\nQ 819 -75 525 192 \r\nQ 231 459 231 875 \r\nQ 231 1119 342 1320 \r\nQ 453 1522 633 1644 \r\nQ 813 1766 1038 1828 \r\nQ 1203 1872 1538 1913 \r\nQ 2219 1994 2541 2106 \r\nQ 2544 2222 2544 2253 \r\nQ 2544 2597 2384 2738 \r\nQ 2169 2928 1744 2928 \r\nQ 1347 2928 1158 2789 \r\nQ 969 2650 878 2297 \r\nL 328 2372 \r\nQ 403 2725 575 2942 \r\nQ 747 3159 1072 3276 \r\nQ 1397 3394 1825 3394 \r\nQ 2250 3394 2515 3294 \r\nQ 2781 3194 2906 3042 \r\nQ 3031 2891 3081 2659 \r\nQ 3109 2516 3109 2141 \r\nL 3109 1391 \r\nQ 3109 606 3145 398 \r\nQ 3181 191 3288 0 \r\nL 2700 0 \r\nQ 2613 175 2588 409 \r\nz\r\nM 2541 1666 \r\nQ 2234 1541 1622 1453 \r\nQ 1275 1403 1131 1340 \r\nQ 988 1278 909 1158 \r\nQ 831 1038 831 891 \r\nQ 831 666 1001 516 \r\nQ 1172 366 1500 366 \r\nQ 1825 366 2078 508 \r\nQ 2331 650 2450 897 \r\nQ 2541 1088 2541 1459 \r\nL 2541 1666 \r\nz\r\n\" id=\"ArialMT-61\" transform=\"scale(0.015625)\"/>\r\n       </defs>\r\n       <use xlink:href=\"#ArialMT-63\"/>\r\n       <use x=\"50\" xlink:href=\"#ArialMT-6f\"/>\r\n       <use x=\"105.615234\" xlink:href=\"#ArialMT-76\"/>\r\n       <use x=\"155.615234\" xlink:href=\"#ArialMT-69\"/>\r\n       <use x=\"177.832031\" xlink:href=\"#ArialMT-64\"/>\r\n       <use x=\"233.447266\" xlink:href=\"#ArialMT-63\"/>\r\n       <use x=\"283.447266\" xlink:href=\"#ArialMT-61\"/>\r\n       <use x=\"339.0625\" xlink:href=\"#ArialMT-6e\"/>\r\n       <use x=\"394.677734\" xlink:href=\"#ArialMT-61\"/>\r\n       <use x=\"450.292969\" xlink:href=\"#ArialMT-64\"/>\r\n       <use x=\"505.908203\" xlink:href=\"#ArialMT-61\"/>\r\n      </g>\r\n     </g>\r\n    </g>\r\n    <g id=\"ytick_2\">\r\n     <g id=\"text_11\">\r\n      <!-- covid19 -->\r\n      <g style=\"fill:#262626;\" transform=\"translate(53.15 64.134089)scale(0.1 -0.1)\">\r\n       <defs>\r\n        <path d=\"M 350 1059 \r\nL 891 1109 \r\nQ 959 728 1153 556 \r\nQ 1347 384 1650 384 \r\nQ 1909 384 2104 503 \r\nQ 2300 622 2425 820 \r\nQ 2550 1019 2634 1356 \r\nQ 2719 1694 2719 2044 \r\nQ 2719 2081 2716 2156 \r\nQ 2547 1888 2255 1720 \r\nQ 1963 1553 1622 1553 \r\nQ 1053 1553 659 1965 \r\nQ 266 2378 266 3053 \r\nQ 266 3750 677 4175 \r\nQ 1088 4600 1706 4600 \r\nQ 2153 4600 2523 4359 \r\nQ 2894 4119 3086 3673 \r\nQ 3278 3228 3278 2384 \r\nQ 3278 1506 3087 986 \r\nQ 2897 466 2520 194 \r\nQ 2144 -78 1638 -78 \r\nQ 1100 -78 759 220 \r\nQ 419 519 350 1059 \r\nz\r\nM 2653 3081 \r\nQ 2653 3566 2395 3850 \r\nQ 2138 4134 1775 4134 \r\nQ 1400 4134 1122 3828 \r\nQ 844 3522 844 3034 \r\nQ 844 2597 1108 2323 \r\nQ 1372 2050 1759 2050 \r\nQ 2150 2050 2401 2323 \r\nQ 2653 2597 2653 3081 \r\nz\r\n\" id=\"ArialMT-39\" transform=\"scale(0.015625)\"/>\r\n       </defs>\r\n       <use xlink:href=\"#ArialMT-63\"/>\r\n       <use x=\"50\" xlink:href=\"#ArialMT-6f\"/>\r\n       <use x=\"105.615234\" xlink:href=\"#ArialMT-76\"/>\r\n       <use x=\"155.615234\" xlink:href=\"#ArialMT-69\"/>\r\n       <use x=\"177.832031\" xlink:href=\"#ArialMT-64\"/>\r\n       <use x=\"233.447266\" xlink:href=\"#ArialMT-31\"/>\r\n       <use x=\"289.0625\" xlink:href=\"#ArialMT-39\"/>\r\n      </g>\r\n     </g>\r\n    </g>\r\n    <g id=\"ytick_3\">\r\n     <g id=\"text_12\">\r\n      <!-- cases -->\r\n      <g style=\"fill:#262626;\" transform=\"translate(61.49375 89.977961)scale(0.1 -0.1)\">\r\n       <defs>\r\n        <path d=\"M 2694 1069 \r\nL 3275 997 \r\nQ 3138 488 2766 206 \r\nQ 2394 -75 1816 -75 \r\nQ 1088 -75 661 373 \r\nQ 234 822 234 1631 \r\nQ 234 2469 665 2931 \r\nQ 1097 3394 1784 3394 \r\nQ 2450 3394 2872 2941 \r\nQ 3294 2488 3294 1666 \r\nQ 3294 1616 3291 1516 \r\nL 816 1516 \r\nQ 847 969 1125 678 \r\nQ 1403 388 1819 388 \r\nQ 2128 388 2347 550 \r\nQ 2566 713 2694 1069 \r\nz\r\nM 847 1978 \r\nL 2700 1978 \r\nQ 2663 2397 2488 2606 \r\nQ 2219 2931 1791 2931 \r\nQ 1403 2931 1139 2672 \r\nQ 875 2413 847 1978 \r\nz\r\n\" id=\"ArialMT-65\" transform=\"scale(0.015625)\"/>\r\n       </defs>\r\n       <use xlink:href=\"#ArialMT-63\"/>\r\n       <use x=\"50\" xlink:href=\"#ArialMT-61\"/>\r\n       <use x=\"105.615234\" xlink:href=\"#ArialMT-73\"/>\r\n       <use x=\"155.615234\" xlink:href=\"#ArialMT-65\"/>\r\n       <use x=\"211.230469\" xlink:href=\"#ArialMT-73\"/>\r\n      </g>\r\n     </g>\r\n    </g>\r\n    <g id=\"ytick_4\">\r\n     <g id=\"text_13\">\r\n      <!-- covid19canada -->\r\n      <g style=\"fill:#262626;\" transform=\"translate(20.345312 115.821833)scale(0.1 -0.1)\">\r\n       <use xlink:href=\"#ArialMT-63\"/>\r\n       <use x=\"50\" xlink:href=\"#ArialMT-6f\"/>\r\n       <use x=\"105.615234\" xlink:href=\"#ArialMT-76\"/>\r\n       <use x=\"155.615234\" xlink:href=\"#ArialMT-69\"/>\r\n       <use x=\"177.832031\" xlink:href=\"#ArialMT-64\"/>\r\n       <use x=\"233.447266\" xlink:href=\"#ArialMT-31\"/>\r\n       <use x=\"289.0625\" xlink:href=\"#ArialMT-39\"/>\r\n       <use x=\"344.677734\" xlink:href=\"#ArialMT-63\"/>\r\n       <use x=\"394.677734\" xlink:href=\"#ArialMT-61\"/>\r\n       <use x=\"450.292969\" xlink:href=\"#ArialMT-6e\"/>\r\n       <use x=\"505.908203\" xlink:href=\"#ArialMT-61\"/>\r\n       <use x=\"561.523438\" xlink:href=\"#ArialMT-64\"/>\r\n       <use x=\"617.138672\" xlink:href=\"#ArialMT-61\"/>\r\n      </g>\r\n     </g>\r\n    </g>\r\n    <g id=\"ytick_5\">\r\n     <g id=\"text_14\">\r\n      <!-- canada -->\r\n      <g style=\"fill:#262626;\" transform=\"translate(54.810937 141.665704)scale(0.1 -0.1)\">\r\n       <use xlink:href=\"#ArialMT-63\"/>\r\n       <use x=\"50\" xlink:href=\"#ArialMT-61\"/>\r\n       <use x=\"105.615234\" xlink:href=\"#ArialMT-6e\"/>\r\n       <use x=\"161.230469\" xlink:href=\"#ArialMT-61\"/>\r\n       <use x=\"216.845703\" xlink:href=\"#ArialMT-64\"/>\r\n       <use x=\"272.460938\" xlink:href=\"#ArialMT-61\"/>\r\n      </g>\r\n     </g>\r\n    </g>\r\n    <g id=\"ytick_6\">\r\n     <g id=\"text_15\">\r\n      <!-- covidbc -->\r\n      <g style=\"fill:#262626;\" transform=\"translate(53.710937 167.509576)scale(0.1 -0.1)\">\r\n       <defs>\r\n        <path d=\"M 941 0 \r\nL 419 0 \r\nL 419 4581 \r\nL 981 4581 \r\nL 981 2947 \r\nQ 1338 3394 1891 3394 \r\nQ 2197 3394 2470 3270 \r\nQ 2744 3147 2920 2923 \r\nQ 3097 2700 3197 2384 \r\nQ 3297 2069 3297 1709 \r\nQ 3297 856 2875 390 \r\nQ 2453 -75 1863 -75 \r\nQ 1275 -75 941 416 \r\nL 941 0 \r\nz\r\nM 934 1684 \r\nQ 934 1088 1097 822 \r\nQ 1363 388 1816 388 \r\nQ 2184 388 2453 708 \r\nQ 2722 1028 2722 1663 \r\nQ 2722 2313 2464 2622 \r\nQ 2206 2931 1841 2931 \r\nQ 1472 2931 1203 2611 \r\nQ 934 2291 934 1684 \r\nz\r\n\" id=\"ArialMT-62\" transform=\"scale(0.015625)\"/>\r\n       </defs>\r\n       <use xlink:href=\"#ArialMT-63\"/>\r\n       <use x=\"50\" xlink:href=\"#ArialMT-6f\"/>\r\n       <use x=\"105.615234\" xlink:href=\"#ArialMT-76\"/>\r\n       <use x=\"155.615234\" xlink:href=\"#ArialMT-69\"/>\r\n       <use x=\"177.832031\" xlink:href=\"#ArialMT-64\"/>\r\n       <use x=\"233.447266\" xlink:href=\"#ArialMT-62\"/>\r\n       <use x=\"289.0625\" xlink:href=\"#ArialMT-63\"/>\r\n      </g>\r\n     </g>\r\n    </g>\r\n    <g id=\"ytick_7\">\r\n     <g id=\"text_16\">\r\n      <!-- cdnpoli -->\r\n      <g style=\"fill:#262626;\" transform=\"translate(55.928125 193.353448)scale(0.1 -0.1)\">\r\n       <defs>\r\n        <path d=\"M 422 -1272 \r\nL 422 3319 \r\nL 934 3319 \r\nL 934 2888 \r\nQ 1116 3141 1344 3267 \r\nQ 1572 3394 1897 3394 \r\nQ 2322 3394 2647 3175 \r\nQ 2972 2956 3137 2557 \r\nQ 3303 2159 3303 1684 \r\nQ 3303 1175 3120 767 \r\nQ 2938 359 2589 142 \r\nQ 2241 -75 1856 -75 \r\nQ 1575 -75 1351 44 \r\nQ 1128 163 984 344 \r\nL 984 -1272 \r\nL 422 -1272 \r\nz\r\nM 931 1641 \r\nQ 931 1000 1190 694 \r\nQ 1450 388 1819 388 \r\nQ 2194 388 2461 705 \r\nQ 2728 1022 2728 1688 \r\nQ 2728 2322 2467 2637 \r\nQ 2206 2953 1844 2953 \r\nQ 1484 2953 1207 2617 \r\nQ 931 2281 931 1641 \r\nz\r\n\" id=\"ArialMT-70\" transform=\"scale(0.015625)\"/>\r\n        <path d=\"M 409 0 \r\nL 409 4581 \r\nL 972 4581 \r\nL 972 0 \r\nL 409 0 \r\nz\r\n\" id=\"ArialMT-6c\" transform=\"scale(0.015625)\"/>\r\n       </defs>\r\n       <use xlink:href=\"#ArialMT-63\"/>\r\n       <use x=\"50\" xlink:href=\"#ArialMT-64\"/>\r\n       <use x=\"105.615234\" xlink:href=\"#ArialMT-6e\"/>\r\n       <use x=\"161.230469\" xlink:href=\"#ArialMT-70\"/>\r\n       <use x=\"216.845703\" xlink:href=\"#ArialMT-6f\"/>\r\n       <use x=\"272.460938\" xlink:href=\"#ArialMT-6c\"/>\r\n       <use x=\"294.677734\" xlink:href=\"#ArialMT-69\"/>\r\n      </g>\r\n     </g>\r\n    </g>\r\n    <g id=\"ytick_8\">\r\n     <g id=\"text_17\">\r\n      <!-- vaccine -->\r\n      <g style=\"fill:#262626;\" transform=\"translate(53.710937 219.19732)scale(0.1 -0.1)\">\r\n       <use xlink:href=\"#ArialMT-76\"/>\r\n       <use x=\"50\" xlink:href=\"#ArialMT-61\"/>\r\n       <use x=\"105.615234\" xlink:href=\"#ArialMT-63\"/>\r\n       <use x=\"155.615234\" xlink:href=\"#ArialMT-63\"/>\r\n       <use x=\"205.615234\" xlink:href=\"#ArialMT-69\"/>\r\n       <use x=\"227.832031\" xlink:href=\"#ArialMT-6e\"/>\r\n       <use x=\"283.447266\" xlink:href=\"#ArialMT-65\"/>\r\n      </g>\r\n     </g>\r\n    </g>\r\n    <g id=\"ytick_9\">\r\n     <g id=\"text_18\">\r\n      <!-- new -->\r\n      <g style=\"fill:#262626;\" transform=\"translate(69.271875 245.041192)scale(0.1 -0.1)\">\r\n       <defs>\r\n        <path d=\"M 1034 0 \r\nL 19 3319 \r\nL 600 3319 \r\nL 1128 1403 \r\nL 1325 691 \r\nQ 1338 744 1497 1375 \r\nL 2025 3319 \r\nL 2603 3319 \r\nL 3100 1394 \r\nL 3266 759 \r\nL 3456 1400 \r\nL 4025 3319 \r\nL 4572 3319 \r\nL 3534 0 \r\nL 2950 0 \r\nL 2422 1988 \r\nL 2294 2553 \r\nL 1622 0 \r\nL 1034 0 \r\nz\r\n\" id=\"ArialMT-77\" transform=\"scale(0.015625)\"/>\r\n       </defs>\r\n       <use xlink:href=\"#ArialMT-6e\"/>\r\n       <use x=\"55.615234\" xlink:href=\"#ArialMT-65\"/>\r\n       <use x=\"111.230469\" xlink:href=\"#ArialMT-77\"/>\r\n      </g>\r\n     </g>\r\n    </g>\r\n    <g id=\"ytick_10\">\r\n     <g id=\"text_19\">\r\n      <!-- ontario -->\r\n      <g style=\"fill:#262626;\" transform=\"translate(57.042187 270.885064)scale(0.1 -0.1)\">\r\n       <defs>\r\n        <path d=\"M 416 0 \r\nL 416 3319 \r\nL 922 3319 \r\nL 922 2816 \r\nQ 1116 3169 1280 3281 \r\nQ 1444 3394 1641 3394 \r\nQ 1925 3394 2219 3213 \r\nL 2025 2691 \r\nQ 1819 2813 1613 2813 \r\nQ 1428 2813 1281 2702 \r\nQ 1134 2591 1072 2394 \r\nQ 978 2094 978 1738 \r\nL 978 0 \r\nL 416 0 \r\nz\r\n\" id=\"ArialMT-72\" transform=\"scale(0.015625)\"/>\r\n       </defs>\r\n       <use xlink:href=\"#ArialMT-6f\"/>\r\n       <use x=\"55.615234\" xlink:href=\"#ArialMT-6e\"/>\r\n       <use x=\"111.230469\" xlink:href=\"#ArialMT-74\"/>\r\n       <use x=\"139.013672\" xlink:href=\"#ArialMT-61\"/>\r\n       <use x=\"194.628906\" xlink:href=\"#ArialMT-72\"/>\r\n       <use x=\"227.929688\" xlink:href=\"#ArialMT-69\"/>\r\n       <use x=\"250.146484\" xlink:href=\"#ArialMT-6f\"/>\r\n      </g>\r\n     </g>\r\n    </g>\r\n    <g id=\"ytick_11\">\r\n     <g id=\"text_20\">\r\n      <!-- covid19on -->\r\n      <g style=\"fill:#262626;\" transform=\"translate(42.028125 296.728935)scale(0.1 -0.1)\">\r\n       <use xlink:href=\"#ArialMT-63\"/>\r\n       <use x=\"50\" xlink:href=\"#ArialMT-6f\"/>\r\n       <use x=\"105.615234\" xlink:href=\"#ArialMT-76\"/>\r\n       <use x=\"155.615234\" xlink:href=\"#ArialMT-69\"/>\r\n       <use x=\"177.832031\" xlink:href=\"#ArialMT-64\"/>\r\n       <use x=\"233.447266\" xlink:href=\"#ArialMT-31\"/>\r\n       <use x=\"289.0625\" xlink:href=\"#ArialMT-39\"/>\r\n       <use x=\"344.677734\" xlink:href=\"#ArialMT-6f\"/>\r\n       <use x=\"400.292969\" xlink:href=\"#ArialMT-6e\"/>\r\n      </g>\r\n     </g>\r\n    </g>\r\n    <g id=\"ytick_12\">\r\n     <g id=\"text_21\">\r\n      <!-- deaths -->\r\n      <g style=\"fill:#262626;\" transform=\"translate(57.59375 322.572807)scale(0.1 -0.1)\">\r\n       <defs>\r\n        <path d=\"M 422 0 \r\nL 422 4581 \r\nL 984 4581 \r\nL 984 2938 \r\nQ 1378 3394 1978 3394 \r\nQ 2347 3394 2619 3248 \r\nQ 2891 3103 3008 2847 \r\nQ 3125 2591 3125 2103 \r\nL 3125 0 \r\nL 2563 0 \r\nL 2563 2103 \r\nQ 2563 2525 2380 2717 \r\nQ 2197 2909 1863 2909 \r\nQ 1613 2909 1392 2779 \r\nQ 1172 2650 1078 2428 \r\nQ 984 2206 984 1816 \r\nL 984 0 \r\nL 422 0 \r\nz\r\n\" id=\"ArialMT-68\" transform=\"scale(0.015625)\"/>\r\n       </defs>\r\n       <use xlink:href=\"#ArialMT-64\"/>\r\n       <use x=\"55.615234\" xlink:href=\"#ArialMT-65\"/>\r\n       <use x=\"111.230469\" xlink:href=\"#ArialMT-61\"/>\r\n       <use x=\"166.845703\" xlink:href=\"#ArialMT-74\"/>\r\n       <use x=\"194.628906\" xlink:href=\"#ArialMT-68\"/>\r\n       <use x=\"250.244141\" xlink:href=\"#ArialMT-73\"/>\r\n      </g>\r\n     </g>\r\n    </g>\r\n    <g id=\"ytick_13\">\r\n     <g id=\"text_22\">\r\n      <!-- pandemic -->\r\n      <g style=\"fill:#262626;\" transform=\"translate(44.259375 348.416679)scale(0.1 -0.1)\">\r\n       <defs>\r\n        <path d=\"M 422 0 \r\nL 422 3319 \r\nL 925 3319 \r\nL 925 2853 \r\nQ 1081 3097 1340 3245 \r\nQ 1600 3394 1931 3394 \r\nQ 2300 3394 2536 3241 \r\nQ 2772 3088 2869 2813 \r\nQ 3263 3394 3894 3394 \r\nQ 4388 3394 4653 3120 \r\nQ 4919 2847 4919 2278 \r\nL 4919 0 \r\nL 4359 0 \r\nL 4359 2091 \r\nQ 4359 2428 4304 2576 \r\nQ 4250 2725 4106 2815 \r\nQ 3963 2906 3769 2906 \r\nQ 3419 2906 3187 2673 \r\nQ 2956 2441 2956 1928 \r\nL 2956 0 \r\nL 2394 0 \r\nL 2394 2156 \r\nQ 2394 2531 2256 2718 \r\nQ 2119 2906 1806 2906 \r\nQ 1569 2906 1367 2781 \r\nQ 1166 2656 1075 2415 \r\nQ 984 2175 984 1722 \r\nL 984 0 \r\nL 422 0 \r\nz\r\n\" id=\"ArialMT-6d\" transform=\"scale(0.015625)\"/>\r\n       </defs>\r\n       <use xlink:href=\"#ArialMT-70\"/>\r\n       <use x=\"55.615234\" xlink:href=\"#ArialMT-61\"/>\r\n       <use x=\"111.230469\" xlink:href=\"#ArialMT-6e\"/>\r\n       <use x=\"166.845703\" xlink:href=\"#ArialMT-64\"/>\r\n       <use x=\"222.460938\" xlink:href=\"#ArialMT-65\"/>\r\n       <use x=\"278.076172\" xlink:href=\"#ArialMT-6d\"/>\r\n       <use x=\"361.376953\" xlink:href=\"#ArialMT-69\"/>\r\n       <use x=\"383.59375\" xlink:href=\"#ArialMT-63\"/>\r\n      </g>\r\n     </g>\r\n    </g>\r\n    <g id=\"ytick_14\">\r\n     <g id=\"text_23\">\r\n      <!-- covidtoronto -->\r\n      <g style=\"fill:#262626;\" transform=\"translate(33.142187 374.260551)scale(0.1 -0.1)\">\r\n       <use xlink:href=\"#ArialMT-63\"/>\r\n       <use x=\"50\" xlink:href=\"#ArialMT-6f\"/>\r\n       <use x=\"105.615234\" xlink:href=\"#ArialMT-76\"/>\r\n       <use x=\"155.615234\" xlink:href=\"#ArialMT-69\"/>\r\n       <use x=\"177.832031\" xlink:href=\"#ArialMT-64\"/>\r\n       <use x=\"233.447266\" xlink:href=\"#ArialMT-74\"/>\r\n       <use x=\"261.230469\" xlink:href=\"#ArialMT-6f\"/>\r\n       <use x=\"316.845703\" xlink:href=\"#ArialMT-72\"/>\r\n       <use x=\"350.146484\" xlink:href=\"#ArialMT-6f\"/>\r\n       <use x=\"405.761719\" xlink:href=\"#ArialMT-6e\"/>\r\n       <use x=\"461.376953\" xlink:href=\"#ArialMT-74\"/>\r\n       <use x=\"489.160156\" xlink:href=\"#ArialMT-6f\"/>\r\n      </g>\r\n     </g>\r\n    </g>\r\n    <g id=\"ytick_15\">\r\n     <g id=\"text_24\">\r\n      <!-- doses -->\r\n      <g style=\"fill:#262626;\" transform=\"translate(60.932812 400.104423)scale(0.1 -0.1)\">\r\n       <use xlink:href=\"#ArialMT-64\"/>\r\n       <use x=\"55.615234\" xlink:href=\"#ArialMT-6f\"/>\r\n       <use x=\"111.230469\" xlink:href=\"#ArialMT-73\"/>\r\n       <use x=\"161.230469\" xlink:href=\"#ArialMT-65\"/>\r\n       <use x=\"216.845703\" xlink:href=\"#ArialMT-73\"/>\r\n      </g>\r\n     </g>\r\n    </g>\r\n    <g id=\"ytick_16\">\r\n     <g id=\"text_25\">\r\n      <!-- bc -->\r\n      <g style=\"fill:#262626;\" transform=\"translate(77.054688 425.948295)scale(0.1 -0.1)\">\r\n       <use xlink:href=\"#ArialMT-62\"/>\r\n       <use x=\"55.615234\" xlink:href=\"#ArialMT-63\"/>\r\n      </g>\r\n     </g>\r\n    </g>\r\n    <g id=\"ytick_17\">\r\n     <g id=\"text_26\">\r\n      <!-- news -->\r\n      <g style=\"fill:#262626;\" transform=\"translate(64.271875 451.792166)scale(0.1 -0.1)\">\r\n       <use xlink:href=\"#ArialMT-6e\"/>\r\n       <use x=\"55.615234\" xlink:href=\"#ArialMT-65\"/>\r\n       <use x=\"111.230469\" xlink:href=\"#ArialMT-77\"/>\r\n       <use x=\"183.447266\" xlink:href=\"#ArialMT-73\"/>\r\n      </g>\r\n     </g>\r\n    </g>\r\n    <g id=\"ytick_18\">\r\n     <g id=\"text_27\">\r\n      <!-- covid19bc -->\r\n      <g style=\"fill:#262626;\" transform=\"translate(42.589062 477.636038)scale(0.1 -0.1)\">\r\n       <use xlink:href=\"#ArialMT-63\"/>\r\n       <use x=\"50\" xlink:href=\"#ArialMT-6f\"/>\r\n       <use x=\"105.615234\" xlink:href=\"#ArialMT-76\"/>\r\n       <use x=\"155.615234\" xlink:href=\"#ArialMT-69\"/>\r\n       <use x=\"177.832031\" xlink:href=\"#ArialMT-64\"/>\r\n       <use x=\"233.447266\" xlink:href=\"#ArialMT-31\"/>\r\n       <use x=\"289.0625\" xlink:href=\"#ArialMT-39\"/>\r\n       <use x=\"344.677734\" xlink:href=\"#ArialMT-62\"/>\r\n       <use x=\"400.292969\" xlink:href=\"#ArialMT-63\"/>\r\n      </g>\r\n     </g>\r\n    </g>\r\n    <g id=\"ytick_19\">\r\n     <g id=\"text_28\">\r\n      <!-- data -->\r\n      <g style=\"fill:#262626;\" transform=\"translate(68.154687 503.47991)scale(0.1 -0.1)\">\r\n       <use xlink:href=\"#ArialMT-64\"/>\r\n       <use x=\"55.615234\" xlink:href=\"#ArialMT-61\"/>\r\n       <use x=\"111.230469\" xlink:href=\"#ArialMT-74\"/>\r\n       <use x=\"139.013672\" xlink:href=\"#ArialMT-61\"/>\r\n      </g>\r\n     </g>\r\n    </g>\r\n    <g id=\"ytick_20\">\r\n     <g id=\"text_29\">\r\n      <!-- covidab -->\r\n      <g style=\"fill:#262626;\" transform=\"translate(53.15 529.323782)scale(0.1 -0.1)\">\r\n       <use xlink:href=\"#ArialMT-63\"/>\r\n       <use x=\"50\" xlink:href=\"#ArialMT-6f\"/>\r\n       <use x=\"105.615234\" xlink:href=\"#ArialMT-76\"/>\r\n       <use x=\"155.615234\" xlink:href=\"#ArialMT-69\"/>\r\n       <use x=\"177.832031\" xlink:href=\"#ArialMT-64\"/>\r\n       <use x=\"233.447266\" xlink:href=\"#ArialMT-61\"/>\r\n       <use x=\"289.0625\" xlink:href=\"#ArialMT-62\"/>\r\n      </g>\r\n     </g>\r\n    </g>\r\n    <g id=\"text_30\">\r\n     <!-- words -->\r\n     <g style=\"fill:#262626;\" transform=\"translate(14.357812 287.103844)rotate(-90)scale(0.1 -0.1)\">\r\n      <use xlink:href=\"#ArialMT-77\"/>\r\n      <use x=\"72.216797\" xlink:href=\"#ArialMT-6f\"/>\r\n      <use x=\"127.832031\" xlink:href=\"#ArialMT-72\"/>\r\n      <use x=\"161.132812\" xlink:href=\"#ArialMT-64\"/>\r\n      <use x=\"216.748047\" xlink:href=\"#ArialMT-73\"/>\r\n     </g>\r\n    </g>\r\n   </g>\r\n   <g id=\"patch_3\">\r\n    <path clip-path=\"url(#pac66a07a43)\" d=\"M 94.615625 24.373762 \r\nL 891.758482 24.373762 \r\nL 891.758482 45.04886 \r\nL 94.615625 45.04886 \r\nz\r\n\" style=\"fill:#e68193;stroke:#ffffff;stroke-linejoin:miter;\"/>\r\n   </g>\r\n   <g id=\"patch_4\">\r\n    <path clip-path=\"url(#pac66a07a43)\" d=\"M 94.615625 50.217634 \r\nL 849.803595 50.217634 \r\nL 849.803595 70.892731 \r\nL 94.615625 70.892731 \r\nz\r\n\" style=\"fill:#e07f53;stroke:#ffffff;stroke-linejoin:miter;\"/>\r\n   </g>\r\n   <g id=\"patch_5\">\r\n    <path clip-path=\"url(#pac66a07a43)\" d=\"M 94.615625 76.061506 \r\nL 807.848708 76.061506 \r\nL 807.848708 96.736603 \r\nL 94.615625 96.736603 \r\nz\r\n\" style=\"fill:#be8b46;stroke:#ffffff;stroke-linejoin:miter;\"/>\r\n   </g>\r\n   <g id=\"patch_6\">\r\n    <path clip-path=\"url(#pac66a07a43)\" d=\"M 94.615625 101.905378 \r\nL 744.916377 101.905378 \r\nL 744.916377 122.580475 \r\nL 94.615625 122.580475 \r\nz\r\n\" style=\"fill:#a79042;stroke:#ffffff;stroke-linejoin:miter;\"/>\r\n   </g>\r\n   <g id=\"patch_7\">\r\n    <path clip-path=\"url(#pac66a07a43)\" d=\"M 94.615625 127.749249 \r\nL 661.006602 127.749249 \r\nL 661.006602 148.424347 \r\nL 94.615625 148.424347 \r\nz\r\n\" style=\"fill:#91943f;stroke:#ffffff;stroke-linejoin:miter;\"/>\r\n   </g>\r\n   <g id=\"patch_8\">\r\n    <path clip-path=\"url(#pac66a07a43)\" d=\"M 94.615625 153.593121 \r\nL 577.096828 153.593121 \r\nL 577.096828 174.268219 \r\nL 94.615625 174.268219 \r\nz\r\n\" style=\"fill:#789b40;stroke:#ffffff;stroke-linejoin:miter;\"/>\r\n   </g>\r\n   <g id=\"patch_9\">\r\n    <path clip-path=\"url(#pac66a07a43)\" d=\"M 94.615625 179.436993 \r\nL 514.164497 179.436993 \r\nL 514.164497 200.112091 \r\nL 94.615625 200.112091 \r\nz\r\n\" style=\"fill:#42a350;stroke:#ffffff;stroke-linejoin:miter;\"/>\r\n   </g>\r\n   <g id=\"patch_10\">\r\n    <path clip-path=\"url(#pac66a07a43)\" d=\"M 94.615625 205.280865 \r\nL 472.20961 205.280865 \r\nL 472.20961 225.955962 \r\nL 94.615625 225.955962 \r\nz\r\n\" style=\"fill:#43a07d;stroke:#ffffff;stroke-linejoin:miter;\"/>\r\n   </g>\r\n   <g id=\"patch_11\">\r\n    <path clip-path=\"url(#pac66a07a43)\" d=\"M 94.615625 231.124737 \r\nL 430.254723 231.124737 \r\nL 430.254723 251.799834 \r\nL 94.615625 251.799834 \r\nz\r\n\" style=\"fill:#449f90;stroke:#ffffff;stroke-linejoin:miter;\"/>\r\n   </g>\r\n   <g id=\"patch_12\">\r\n    <path clip-path=\"url(#pac66a07a43)\" d=\"M 94.615625 256.968609 \r\nL 388.299836 256.968609 \r\nL 388.299836 277.643706 \r\nL 94.615625 277.643706 \r\nz\r\n\" style=\"fill:#459d9e;stroke:#ffffff;stroke-linejoin:miter;\"/>\r\n   </g>\r\n   <g id=\"patch_13\">\r\n    <path clip-path=\"url(#pac66a07a43)\" d=\"M 94.615625 282.81248 \r\nL 346.344948 282.81248 \r\nL 346.344948 303.487578 \r\nL 94.615625 303.487578 \r\nz\r\n\" style=\"fill:#499eaf;stroke:#ffffff;stroke-linejoin:miter;\"/>\r\n   </g>\r\n   <g id=\"patch_14\">\r\n    <path clip-path=\"url(#pac66a07a43)\" d=\"M 94.615625 308.656352 \r\nL 304.390061 308.656352 \r\nL 304.390061 329.33145 \r\nL 94.615625 329.33145 \r\nz\r\n\" style=\"fill:#4e9fc9;stroke:#ffffff;stroke-linejoin:miter;\"/>\r\n   </g>\r\n   <g id=\"patch_15\">\r\n    <path clip-path=\"url(#pac66a07a43)\" d=\"M 94.615625 334.500224 \r\nL 262.435174 334.500224 \r\nL 262.435174 355.175322 \r\nL 94.615625 355.175322 \r\nz\r\n\" style=\"fill:#86a0e5;stroke:#ffffff;stroke-linejoin:miter;\"/>\r\n   </g>\r\n   <g id=\"patch_16\">\r\n    <path clip-path=\"url(#pac66a07a43)\" d=\"M 94.615625 360.344096 \r\nL 220.480287 360.344096 \r\nL 220.480287 381.019193 \r\nL 94.615625 381.019193 \r\nz\r\n\" style=\"fill:#b495e7;stroke:#ffffff;stroke-linejoin:miter;\"/>\r\n   </g>\r\n   <g id=\"patch_17\">\r\n    <path clip-path=\"url(#pac66a07a43)\" d=\"M 94.615625 386.187968 \r\nL 178.525399 386.187968 \r\nL 178.525399 406.863065 \r\nL 94.615625 406.863065 \r\nz\r\n\" style=\"fill:#d47ee3;stroke:#ffffff;stroke-linejoin:miter;\"/>\r\n   </g>\r\n   <g id=\"patch_18\">\r\n    <path clip-path=\"url(#pac66a07a43)\" d=\"M 94.615625 412.03184 \r\nL 136.570512 412.03184 \r\nL 136.570512 432.706937 \r\nL 94.615625 432.706937 \r\nz\r\n\" style=\"fill:#e375cd;stroke:#ffffff;stroke-linejoin:miter;\"/>\r\n   </g>\r\n   <g id=\"patch_19\">\r\n    <path clip-path=\"url(#pac66a07a43)\" d=\"M 94.615625 437.875711 \r\nL 94.615625 437.875711 \r\nL 94.615625 458.550809 \r\nL 94.615625 458.550809 \r\nz\r\n\" style=\"fill:#e57cb2;stroke:#ffffff;stroke-linejoin:miter;\"/>\r\n   </g>\r\n   <g id=\"line2d_9\">\r\n    <path clip-path=\"url(#pac66a07a43)\" style=\"fill:none;stroke:#424242;stroke-linecap:round;stroke-width:4.5;\"/>\r\n   </g>\r\n   <g id=\"line2d_10\">\r\n    <path clip-path=\"url(#pac66a07a43)\" style=\"fill:none;stroke:#424242;stroke-linecap:round;stroke-width:4.5;\"/>\r\n   </g>\r\n   <g id=\"line2d_11\">\r\n    <path clip-path=\"url(#pac66a07a43)\" style=\"fill:none;stroke:#424242;stroke-linecap:round;stroke-width:4.5;\"/>\r\n   </g>\r\n   <g id=\"line2d_12\">\r\n    <path clip-path=\"url(#pac66a07a43)\" d=\"M 723.938933 112.242926 \r\nL 765.89382 112.242926 \r\n\" style=\"fill:none;stroke:#424242;stroke-linecap:round;stroke-width:4.5;\"/>\r\n   </g>\r\n   <g id=\"line2d_13\">\r\n    <path clip-path=\"url(#pac66a07a43)\" d=\"M 640.029159 138.086798 \r\nL 681.984046 138.086798 \r\n\" style=\"fill:none;stroke:#424242;stroke-linecap:round;stroke-width:4.5;\"/>\r\n   </g>\r\n   <g id=\"line2d_14\">\r\n    <path clip-path=\"url(#pac66a07a43)\" d=\"M 556.119384 163.93067 \r\nL 598.074272 163.93067 \r\n\" style=\"fill:none;stroke:#424242;stroke-linecap:round;stroke-width:4.5;\"/>\r\n   </g>\r\n   <g id=\"line2d_15\">\r\n    <path clip-path=\"url(#pac66a07a43)\" style=\"fill:none;stroke:#424242;stroke-linecap:round;stroke-width:4.5;\"/>\r\n   </g>\r\n   <g id=\"line2d_16\">\r\n    <path clip-path=\"url(#pac66a07a43)\" style=\"fill:none;stroke:#424242;stroke-linecap:round;stroke-width:4.5;\"/>\r\n   </g>\r\n   <g id=\"line2d_17\">\r\n    <path clip-path=\"url(#pac66a07a43)\" style=\"fill:none;stroke:#424242;stroke-linecap:round;stroke-width:4.5;\"/>\r\n   </g>\r\n   <g id=\"line2d_18\">\r\n    <path clip-path=\"url(#pac66a07a43)\" style=\"fill:none;stroke:#424242;stroke-linecap:round;stroke-width:4.5;\"/>\r\n   </g>\r\n   <g id=\"line2d_19\">\r\n    <path clip-path=\"url(#pac66a07a43)\" style=\"fill:none;stroke:#424242;stroke-linecap:round;stroke-width:4.5;\"/>\r\n   </g>\r\n   <g id=\"line2d_20\">\r\n    <path clip-path=\"url(#pac66a07a43)\" style=\"fill:none;stroke:#424242;stroke-linecap:round;stroke-width:4.5;\"/>\r\n   </g>\r\n   <g id=\"line2d_21\">\r\n    <path clip-path=\"url(#pac66a07a43)\" style=\"fill:none;stroke:#424242;stroke-linecap:round;stroke-width:4.5;\"/>\r\n   </g>\r\n   <g id=\"line2d_22\">\r\n    <path clip-path=\"url(#pac66a07a43)\" style=\"fill:none;stroke:#424242;stroke-linecap:round;stroke-width:4.5;\"/>\r\n   </g>\r\n   <g id=\"line2d_23\">\r\n    <path clip-path=\"url(#pac66a07a43)\" style=\"fill:none;stroke:#424242;stroke-linecap:round;stroke-width:4.5;\"/>\r\n   </g>\r\n   <g id=\"line2d_24\">\r\n    <path clip-path=\"url(#pac66a07a43)\" style=\"fill:none;stroke:#424242;stroke-linecap:round;stroke-width:4.5;\"/>\r\n   </g>\r\n   <g id=\"line2d_25\">\r\n    <path clip-path=\"url(#pac66a07a43)\" style=\"fill:none;stroke:#424242;stroke-linecap:round;stroke-width:4.5;\"/>\r\n   </g>\r\n   <g id=\"patch_20\">\r\n    <path d=\"M 94.615625 525.744876 \r\nL 94.615625 21.789375 \r\n\" style=\"fill:none;stroke:#cccccc;stroke-linecap:square;stroke-linejoin:miter;stroke-width:0.8;\"/>\r\n   </g>\r\n   <g id=\"patch_21\">\r\n    <path d=\"M 931.615625 525.744876 \r\nL 931.615625 21.789375 \r\n\" style=\"fill:none;stroke:#cccccc;stroke-linecap:square;stroke-linejoin:miter;stroke-width:0.8;\"/>\r\n   </g>\r\n   <g id=\"patch_22\">\r\n    <path d=\"M 94.615625 525.744876 \r\nL 931.615625 525.744876 \r\n\" style=\"fill:none;stroke:#cccccc;stroke-linecap:square;stroke-linejoin:miter;stroke-width:0.8;\"/>\r\n   </g>\r\n   <g id=\"patch_23\">\r\n    <path d=\"M 94.615625 21.789375 \r\nL 931.615625 21.789375 \r\n\" style=\"fill:none;stroke:#cccccc;stroke-linecap:square;stroke-linejoin:miter;stroke-width:0.8;\"/>\r\n   </g>\r\n   <g id=\"text_31\">\r\n    <!-- 30 most common words -->\r\n    <g style=\"fill:#262626;\" transform=\"translate(449.43125 15.789375)scale(0.12 -0.12)\">\r\n     <defs>\r\n      <path d=\"M 269 1209 \r\nL 831 1284 \r\nQ 928 806 1161 595 \r\nQ 1394 384 1728 384 \r\nQ 2125 384 2398 659 \r\nQ 2672 934 2672 1341 \r\nQ 2672 1728 2419 1979 \r\nQ 2166 2231 1775 2231 \r\nQ 1616 2231 1378 2169 \r\nL 1441 2663 \r\nQ 1497 2656 1531 2656 \r\nQ 1891 2656 2178 2843 \r\nQ 2466 3031 2466 3422 \r\nQ 2466 3731 2256 3934 \r\nQ 2047 4138 1716 4138 \r\nQ 1388 4138 1169 3931 \r\nQ 950 3725 888 3313 \r\nL 325 3413 \r\nQ 428 3978 793 4289 \r\nQ 1159 4600 1703 4600 \r\nQ 2078 4600 2393 4439 \r\nQ 2709 4278 2876 4000 \r\nQ 3044 3722 3044 3409 \r\nQ 3044 3113 2884 2869 \r\nQ 2725 2625 2413 2481 \r\nQ 2819 2388 3044 2092 \r\nQ 3269 1797 3269 1353 \r\nQ 3269 753 2831 336 \r\nQ 2394 -81 1725 -81 \r\nQ 1122 -81 723 278 \r\nQ 325 638 269 1209 \r\nz\r\n\" id=\"ArialMT-33\" transform=\"scale(0.015625)\"/>\r\n      <path id=\"ArialMT-20\" transform=\"scale(0.015625)\"/>\r\n     </defs>\r\n     <use xlink:href=\"#ArialMT-33\"/>\r\n     <use x=\"55.615234\" xlink:href=\"#ArialMT-30\"/>\r\n     <use x=\"111.230469\" xlink:href=\"#ArialMT-20\"/>\r\n     <use x=\"139.013672\" xlink:href=\"#ArialMT-6d\"/>\r\n     <use x=\"222.314453\" xlink:href=\"#ArialMT-6f\"/>\r\n     <use x=\"277.929688\" xlink:href=\"#ArialMT-73\"/>\r\n     <use x=\"327.929688\" xlink:href=\"#ArialMT-74\"/>\r\n     <use x=\"355.712891\" xlink:href=\"#ArialMT-20\"/>\r\n     <use x=\"383.496094\" xlink:href=\"#ArialMT-63\"/>\r\n     <use x=\"433.496094\" xlink:href=\"#ArialMT-6f\"/>\r\n     <use x=\"489.111328\" xlink:href=\"#ArialMT-6d\"/>\r\n     <use x=\"572.412109\" xlink:href=\"#ArialMT-6d\"/>\r\n     <use x=\"655.712891\" xlink:href=\"#ArialMT-6f\"/>\r\n     <use x=\"711.328125\" xlink:href=\"#ArialMT-6e\"/>\r\n     <use x=\"766.943359\" xlink:href=\"#ArialMT-20\"/>\r\n     <use x=\"794.726562\" xlink:href=\"#ArialMT-77\"/>\r\n     <use x=\"866.943359\" xlink:href=\"#ArialMT-6f\"/>\r\n     <use x=\"922.558594\" xlink:href=\"#ArialMT-72\"/>\r\n     <use x=\"955.859375\" xlink:href=\"#ArialMT-64\"/>\r\n     <use x=\"1011.474609\" xlink:href=\"#ArialMT-73\"/>\r\n    </g>\r\n   </g>\r\n  </g>\r\n </g>\r\n <defs>\r\n  <clipPath id=\"pac66a07a43\">\r\n   <rect height=\"503.955501\" width=\"837\" x=\"94.615625\" y=\"21.789375\"/>\r\n  </clipPath>\r\n </defs>\r\n</svg>\r\n",
      "image/png": "[encoded data removed]"
     },
     "metadata": {
      "needs_background": "light"
     }
    }
   ],
   "source": [
    "# Helper function\n",
    "def plot_30_most_common_words(count_data, count_vectorizer):\n",
    "    words = count_vectorizer.get_feature_names()\n",
    "    total_counts = np.zeros(len(words))\n",
    "    for t in count_data:\n",
    "        total_counts+=t.toarray()[0]\n",
    "    \n",
    "    count_dict = (zip(words, total_counts))\n",
    "    count_dict = sorted(count_dict, key=lambda x:x[1], reverse=True)[0:20]\n",
    "    words = [w[0] for w in count_dict]\n",
    "    counts = [w[1] for w in count_dict]\n",
    "    x_pos = np.arange(len(words)) \n",
    "    \n",
    "    plt.figure(2, figsize=(15, 15/1.6180))\n",
    "    plt.subplot(title='30 most common words')\n",
    "    sns.set_context(\"notebook\", font_scale=1.25, rc={\"lines.linewidth\": 2.5})\n",
    "    sns.barplot(x_pos, counts, palette='husl', orient = 'h')\n",
    "    plt.yticks(x_pos, words) \n",
    "    plt.ylabel('words')\n",
    "    plt.xlabel('counts')\n",
    "    plt.show()\n",
    "\n",
    "# Initialise the count vectorizer with the English stop words\n",
    "count_vectorizer = CountVectorizer(stop_words='english')\n",
    "\n",
    "# Fit and transform the processed transcripts\n",
    "count_data = count_vectorizer.fit_transform(df_tweets['text_cleaned'])\n",
    "\n",
    "# Visualise the 30 most common words\n",
    "plot_30_most_common_words(count_data, count_vectorizer)"
   ]
  },
  {
   "source": [
    "## Step 6b: Sentiment analysis"
   ],
   "cell_type": "markdown",
   "metadata": {}
  },
  {
   "cell_type": "code",
   "execution_count": 139,
   "metadata": {},
   "outputs": [
    {
     "output_type": "execute_result",
     "data": {
      "text/plain": [
       "           created_at                   id  \\\n",
       "0 2021-06-04 22:36:04  1400944471550967810   \n",
       "1 2021-06-04 22:11:55  1400938390128844802   \n",
       "2 2021-06-04 18:20:58  1400880272963518465   \n",
       "\n",
       "                                           full_text           user  rt_count  \\\n",
       "0  The ethics and concerns of disclosing the name...    EACOOntario         0   \n",
       "1  @dubsndoo Because she’s the only one with #cov...   CarlsonRalph         0   \n",
       "2  Today's coronavirus news: Toronto is opening m...  torontodotcom         0   \n",
       "\n",
       "   fav_count  created_dt  character_ct  stopword_ct  hashtag_ct  atsign_ct  \\\n",
       "0          0  2021-06-04           174            2           4          0   \n",
       "1          0  2021-06-04            54            0           1          1   \n",
       "2          0  2021-06-04           295            1           4          0   \n",
       "\n",
       "   numeric_ct  punctuation_ct  emoji_ct  \\\n",
       "0           0              11         0   \n",
       "1           0               2         0   \n",
       "2           0              19         0   \n",
       "\n",
       "                                        text_cleaned  polarity  subjectivity  \n",
       "0  ethics concerns disclosing names businesses co...      0.00          0.00  \n",
       "1                      dubsndoo shes one covidcanada      0.00          1.00  \n",
       "2  todays coronavirus news toronto opening 10000 ...      0.25          0.25  "
      ],
      "text/html": "<div>\n<style scoped>\n    .dataframe tbody tr th:only-of-type {\n        vertical-align: middle;\n    }\n\n    .dataframe tbody tr th {\n        vertical-align: top;\n    }\n\n    .dataframe thead th {\n        text-align: right;\n    }\n</style>\n<table border=\"1\" class=\"dataframe\">\n  <thead>\n    <tr style=\"text-align: right;\">\n      <th></th>\n      <th>created_at</th>\n      <th>id</th>\n      <th>full_text</th>\n      <th>user</th>\n      <th>rt_count</th>\n      <th>fav_count</th>\n      <th>created_dt</th>\n      <th>character_ct</th>\n      <th>stopword_ct</th>\n      <th>hashtag_ct</th>\n      <th>atsign_ct</th>\n      <th>numeric_ct</th>\n      <th>punctuation_ct</th>\n      <th>emoji_ct</th>\n      <th>text_cleaned</th>\n      <th>polarity</th>\n      <th>subjectivity</th>\n    </tr>\n  </thead>\n  <tbody>\n    <tr>\n      <th>0</th>\n      <td>2021-06-04 22:36:04</td>\n      <td>1400944471550967810</td>\n      <td>The ethics and concerns of disclosing the name...</td>\n      <td>EACOOntario</td>\n      <td>0</td>\n      <td>0</td>\n      <td>2021-06-04</td>\n      <td>174</td>\n      <td>2</td>\n      <td>4</td>\n      <td>0</td>\n      <td>0</td>\n      <td>11</td>\n      <td>0</td>\n      <td>ethics concerns disclosing names businesses co...</td>\n      <td>0.00</td>\n      <td>0.00</td>\n    </tr>\n    <tr>\n      <th>1</th>\n      <td>2021-06-04 22:11:55</td>\n      <td>1400938390128844802</td>\n      <td>@dubsndoo Because she’s the only one with #cov...</td>\n      <td>CarlsonRalph</td>\n      <td>0</td>\n      <td>0</td>\n      <td>2021-06-04</td>\n      <td>54</td>\n      <td>0</td>\n      <td>1</td>\n      <td>1</td>\n      <td>0</td>\n      <td>2</td>\n      <td>0</td>\n      <td>dubsndoo shes one covidcanada</td>\n      <td>0.00</td>\n      <td>1.00</td>\n    </tr>\n    <tr>\n      <th>2</th>\n      <td>2021-06-04 18:20:58</td>\n      <td>1400880272963518465</td>\n      <td>Today's coronavirus news: Toronto is opening m...</td>\n      <td>torontodotcom</td>\n      <td>0</td>\n      <td>0</td>\n      <td>2021-06-04</td>\n      <td>295</td>\n      <td>1</td>\n      <td>4</td>\n      <td>0</td>\n      <td>0</td>\n      <td>19</td>\n      <td>0</td>\n      <td>todays coronavirus news toronto opening 10000 ...</td>\n      <td>0.25</td>\n      <td>0.25</td>\n    </tr>\n  </tbody>\n</table>\n</div>"
     },
     "metadata": {},
     "execution_count": 139
    }
   ],
   "source": [
    "# Create quick lambda functions to find the polarity and subjectivity of each routine\n",
    "from textblob import TextBlob\n",
    "\n",
    "# Make sure df_tweets.full_text is a string\n",
    "df_tweets['full_text']= df_tweets.full_text.astype(str)\n",
    "\n",
    "# Define functions\n",
    "pol = lambda x: TextBlob(x).sentiment.polarity\n",
    "sub = lambda x: TextBlob(x).sentiment.subjectivity\n",
    "\n",
    "# Run functions and create columns in df_tweets\n",
    "df_tweets['polarity'] = df_tweets.full_text.apply(pol)\n",
    "df_tweets['subjectivity'] = df_tweets.full_text.apply(sub)\n",
    "\n",
    "# Round scores\n",
    "df_tweets['polarity'] = df_tweets.polarity.round(3)\n",
    "df_tweets['subjectivity'] = df_tweets.subjectivity.round(3)\n",
    "\n",
    "\n",
    "# See first 3 rows\n",
    "df_tweets.head(3)"
   ]
  },
  {
   "cell_type": "code",
   "execution_count": 177,
   "metadata": {},
   "outputs": [
    {
     "output_type": "execute_result",
     "data": {
      "text/plain": [
       "           created_at                   id  \\\n",
       "0 2021-06-04 22:36:04  1400944471550967810   \n",
       "1 2021-06-04 22:11:55  1400938390128844802   \n",
       "2 2021-06-04 18:20:58  1400880272963518465   \n",
       "\n",
       "                                           full_text           user  rt_count  \\\n",
       "0  The ethics and concerns of disclosing the name...    EACOOntario         0   \n",
       "1  @dubsndoo Because she’s the only one with #cov...   CarlsonRalph         0   \n",
       "2  Today's coronavirus news: Toronto is opening m...  torontodotcom         0   \n",
       "\n",
       "   fav_count  created_dt  character_ct  stopword_ct  hashtag_ct  atsign_ct  \\\n",
       "0          0  2021-06-04           174            2           4          0   \n",
       "1          0  2021-06-04            54            0           1          1   \n",
       "2          0  2021-06-04           295            1           4          0   \n",
       "\n",
       "   numeric_ct  punctuation_ct  emoji_ct  \\\n",
       "0           0              11         0   \n",
       "1           0               2         0   \n",
       "2           0              19         0   \n",
       "\n",
       "                                        text_cleaned  polarity  subjectivity  \n",
       "0  ethics concerns disclosing names businesses co...      0.00          0.00  \n",
       "1                      dubsndoo shes one covidcanada      0.00          1.00  \n",
       "2  todays coronavirus news toronto opening 10000 ...      0.25          0.25  "
      ],
      "text/html": "<div>\n<style scoped>\n    .dataframe tbody tr th:only-of-type {\n        vertical-align: middle;\n    }\n\n    .dataframe tbody tr th {\n        vertical-align: top;\n    }\n\n    .dataframe thead th {\n        text-align: right;\n    }\n</style>\n<table border=\"1\" class=\"dataframe\">\n  <thead>\n    <tr style=\"text-align: right;\">\n      <th></th>\n      <th>created_at</th>\n      <th>id</th>\n      <th>full_text</th>\n      <th>user</th>\n      <th>rt_count</th>\n      <th>fav_count</th>\n      <th>created_dt</th>\n      <th>character_ct</th>\n      <th>stopword_ct</th>\n      <th>hashtag_ct</th>\n      <th>atsign_ct</th>\n      <th>numeric_ct</th>\n      <th>punctuation_ct</th>\n      <th>emoji_ct</th>\n      <th>text_cleaned</th>\n      <th>polarity</th>\n      <th>subjectivity</th>\n    </tr>\n  </thead>\n  <tbody>\n    <tr>\n      <th>0</th>\n      <td>2021-06-04 22:36:04</td>\n      <td>1400944471550967810</td>\n      <td>The ethics and concerns of disclosing the name...</td>\n      <td>EACOOntario</td>\n      <td>0</td>\n      <td>0</td>\n      <td>2021-06-04</td>\n      <td>174</td>\n      <td>2</td>\n      <td>4</td>\n      <td>0</td>\n      <td>0</td>\n      <td>11</td>\n      <td>0</td>\n      <td>ethics concerns disclosing names businesses co...</td>\n      <td>0.00</td>\n      <td>0.00</td>\n    </tr>\n    <tr>\n      <th>1</th>\n      <td>2021-06-04 22:11:55</td>\n      <td>1400938390128844802</td>\n      <td>@dubsndoo Because she’s the only one with #cov...</td>\n      <td>CarlsonRalph</td>\n      <td>0</td>\n      <td>0</td>\n      <td>2021-06-04</td>\n      <td>54</td>\n      <td>0</td>\n      <td>1</td>\n      <td>1</td>\n      <td>0</td>\n      <td>2</td>\n      <td>0</td>\n      <td>dubsndoo shes one covidcanada</td>\n      <td>0.00</td>\n      <td>1.00</td>\n    </tr>\n    <tr>\n      <th>2</th>\n      <td>2021-06-04 18:20:58</td>\n      <td>1400880272963518465</td>\n      <td>Today's coronavirus news: Toronto is opening m...</td>\n      <td>torontodotcom</td>\n      <td>0</td>\n      <td>0</td>\n      <td>2021-06-04</td>\n      <td>295</td>\n      <td>1</td>\n      <td>4</td>\n      <td>0</td>\n      <td>0</td>\n      <td>19</td>\n      <td>0</td>\n      <td>todays coronavirus news toronto opening 10000 ...</td>\n      <td>0.25</td>\n      <td>0.25</td>\n    </tr>\n  </tbody>\n</table>\n</div>"
     },
     "metadata": {},
     "execution_count": 177
    }
   ],
   "source": [
    "df_tweets['polarity'] = df_tweets.full_text.apply(pol)\n",
    "df_tweets['subjectivity'] = df_tweets.full_text.apply(sub)\n",
    "\n",
    "df_tweets.head(3)"
   ]
  },
  {
   "cell_type": "code",
   "execution_count": 187,
   "metadata": {},
   "outputs": [
    {
     "output_type": "execute_result",
     "data": {
      "text/plain": [
       "   tweet_date  tweets\n",
       "0  2021-05-28      22\n",
       "1  2021-05-29      29\n",
       "2  2021-05-30      19\n",
       "3  2021-05-31      15\n",
       "4  2021-06-01      26\n",
       "5  2021-06-02      21\n",
       "6  2021-06-03      28\n",
       "7  2021-06-04      17"
      ],
      "text/html": "<div>\n<style scoped>\n    .dataframe tbody tr th:only-of-type {\n        vertical-align: middle;\n    }\n\n    .dataframe tbody tr th {\n        vertical-align: top;\n    }\n\n    .dataframe thead th {\n        text-align: right;\n    }\n</style>\n<table border=\"1\" class=\"dataframe\">\n  <thead>\n    <tr style=\"text-align: right;\">\n      <th></th>\n      <th>tweet_date</th>\n      <th>tweets</th>\n    </tr>\n  </thead>\n  <tbody>\n    <tr>\n      <th>0</th>\n      <td>2021-05-28</td>\n      <td>22</td>\n    </tr>\n    <tr>\n      <th>1</th>\n      <td>2021-05-29</td>\n      <td>29</td>\n    </tr>\n    <tr>\n      <th>2</th>\n      <td>2021-05-30</td>\n      <td>19</td>\n    </tr>\n    <tr>\n      <th>3</th>\n      <td>2021-05-31</td>\n      <td>15</td>\n    </tr>\n    <tr>\n      <th>4</th>\n      <td>2021-06-01</td>\n      <td>26</td>\n    </tr>\n    <tr>\n      <th>5</th>\n      <td>2021-06-02</td>\n      <td>21</td>\n    </tr>\n    <tr>\n      <th>6</th>\n      <td>2021-06-03</td>\n      <td>28</td>\n    </tr>\n    <tr>\n      <th>7</th>\n      <td>2021-06-04</td>\n      <td>17</td>\n    </tr>\n  </tbody>\n</table>\n</div>"
     },
     "metadata": {},
     "execution_count": 187
    }
   ],
   "source": [
    "df_tweets_grouped = df_tweets[['created_dt', 'id']].groupby(['created_dt']).agg(['nunique']).reset_index()\n",
    "\n",
    "df_tweets_grouped.columns = ['tweet_date', 'tweets']\n",
    "\n",
    "df_tweets_grouped"
   ]
  },
  {
   "cell_type": "code",
   "execution_count": null,
   "metadata": {},
   "outputs": [],
   "source": []
  }
 ]
}